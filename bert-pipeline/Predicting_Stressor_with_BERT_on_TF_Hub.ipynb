{
 "cells": [
  {
   "cell_type": "markdown",
   "metadata": {},
   "source": [
    "# Licences / Notes"
   ]
  },
  {
   "cell_type": "code",
   "execution_count": 335,
   "metadata": {
    "colab": {},
    "colab_type": "code",
    "id": "j0a4mTk9o1Qg"
   },
   "outputs": [],
   "source": [
    "# Copyright 2019 Google Inc.\n",
    "\n",
    "# Licensed under the Apache License, Version 2.0 (the \"License\");\n",
    "# you may not use this file except in compliance with the License.\n",
    "# You may obtain a copy of the License at\n",
    "\n",
    "#     http://www.apache.org/licenses/LICENSE-2.0\n",
    "\n",
    "# Unless required by applicable law or agreed to in writing, software\n",
    "# distributed under the License is distributed on an \"AS IS\" BASIS,\n",
    "# WITHOUT WARRANTIES OR CONDITIONS OF ANY KIND, either express or implied.\n",
    "# See the License for the specific language governing permissions and\n",
    "# limitations under the License."
   ]
  },
  {
   "cell_type": "code",
   "execution_count": 336,
   "metadata": {},
   "outputs": [],
   "source": [
    "#Adapted by Thierry Lincoln in November,2019 from this Colab notebook:\n",
    "#https://colab.research.google.com/github/google-research/bert/blob/master/predicting_movie_reviews_with_bert_on_tf_hub.ipynb.\n",
    "#Changes includes \n",
    "\n",
    "# - Reading our stressor data and parsing it properly\n",
    "# - reconfiguring the last layer to include N neurons corresponding to N categories\n",
    "# - correcting the probability output so that it follows [0,1] proper pattern \n",
    "# - better analysis with confusion matrix\n",
    "# - exporting to pb format for tensorflow serving api"
   ]
  },
  {
   "cell_type": "markdown",
   "metadata": {
    "colab_type": "text",
    "id": "xiYrZKaHwV81"
   },
   "source": [
    "Intro:\n",
    "\n",
    "If you’ve been following Natural Language Processing over the past year, you’ve probably heard of BERT: Bidirectional Encoder Representations from Transformers. It’s a neural network architecture designed by Google researchers that’s totally transformed what’s state-of-the-art for NLP tasks, like text classification, translation, summarization, and question answering.\n",
    "\n",
    "Now that BERT's been added to [TF Hub](https://www.tensorflow.org/hub) as a loadable module, it's easy(ish) to add into existing Tensorflow text pipelines. In an existing pipeline, BERT can replace text embedding layers like ELMO and GloVE. Alternatively, [finetuning](http://wiki.fast.ai/index.php/Fine_tuning) BERT can provide both an accuracy boost and faster training time in many cases.\n",
    "\n",
    "Some code was adapted from [this colab notebook](https://colab.sandbox.google.com/github/tensorflow/tpu/blob/master/tools/colab/bert_finetuning_with_cloud_tpus.ipynb). Let's get started!"
   ]
  },
  {
   "cell_type": "markdown",
   "metadata": {},
   "source": [
    "# Loading Libraries"
   ]
  },
  {
   "cell_type": "code",
   "execution_count": 337,
   "metadata": {},
   "outputs": [],
   "source": [
    "os.environ['LD_LIBRARY_PATH'] = '/usr/local/cuda-10.0/lib64:/usr/local/cuda-10.0/lib'\n",
    "#os.environ[\"CUDA_DEVICE_ORDER\"] = \"PCI_BUS_ID\"\n",
    "os.environ[\"CUDA_VISIBLE_DEVICES\"] = \"0\" #(or \"1\" or \"2\")"
   ]
  },
  {
   "cell_type": "code",
   "execution_count": 338,
   "metadata": {},
   "outputs": [
    {
     "name": "stdout",
     "output_type": "stream",
     "text": [
      "/commuter/thierrylincoln/Tf1.1_py36/bin/python3.6\n"
     ]
    }
   ],
   "source": [
    "import sys\n",
    "print(sys.executable)"
   ]
  },
  {
   "cell_type": "code",
   "execution_count": 339,
   "metadata": {},
   "outputs": [],
   "source": [
    "#export LD_LIBRARY_PATH=/usr/local/cuda-10.0/lib64:/usr/local/cuda-10.0/lib\n",
    "#export CUDA_VISIBLE_DEVICES=0"
   ]
  },
  {
   "cell_type": "code",
   "execution_count": 340,
   "metadata": {
    "colab": {},
    "colab_type": "code",
    "id": "hsZvic2YxnTz"
   },
   "outputs": [],
   "source": [
    "from sklearn.model_selection import train_test_split\n",
    "from sklearn.model_selection import StratifiedShuffleSplit\n",
    "\n",
    "import pandas as pd\n",
    "import tensorflow as tf\n",
    "import tensorflow_hub as hub\n",
    "from datetime import datetime\n",
    "\n",
    "import matplotlib.pyplot as plt\n",
    "from sklearn.utils.multiclass import unique_labels\n",
    "from sklearn.metrics import f1_score,confusion_matrix,classification_report,accuracy_score\n",
    "\n",
    "\n",
    "pd.set_option('display.max_rows', 500)\n",
    "pd.set_option('display.max_columns', 500)\n",
    "pd.set_option('display.max_colwidth', 1000)"
   ]
  },
  {
   "cell_type": "code",
   "execution_count": 341,
   "metadata": {},
   "outputs": [
    {
     "name": "stdout",
     "output_type": "stream",
     "text": [
      "1.15.0\n"
     ]
    }
   ],
   "source": [
    "print(tf.__version__) #needs to be version 1.15.0, version 2.0 doesn't work with this notebook"
   ]
  },
  {
   "cell_type": "code",
   "execution_count": 342,
   "metadata": {},
   "outputs": [
    {
     "data": {
      "text/plain": [
       "[name: \"/device:CPU:0\"\n",
       " device_type: \"CPU\"\n",
       " memory_limit: 268435456\n",
       " locality {\n",
       " }\n",
       " incarnation: 13781680822925355108, name: \"/device:XLA_CPU:0\"\n",
       " device_type: \"XLA_CPU\"\n",
       " memory_limit: 17179869184\n",
       " locality {\n",
       " }\n",
       " incarnation: 1830604088597649357\n",
       " physical_device_desc: \"device: XLA_CPU device\", name: \"/device:XLA_GPU:0\"\n",
       " device_type: \"XLA_GPU\"\n",
       " memory_limit: 17179869184\n",
       " locality {\n",
       " }\n",
       " incarnation: 8793656102320602580\n",
       " physical_device_desc: \"device: XLA_GPU device\", name: \"/device:GPU:0\"\n",
       " device_type: \"GPU\"\n",
       " memory_limit: 11938077082\n",
       " locality {\n",
       "   bus_id: 1\n",
       "   links {\n",
       "   }\n",
       " }\n",
       " incarnation: 7164178698490990807\n",
       " physical_device_desc: \"device: 0, name: TITAN X (Pascal), pci bus id: 0000:03:00.0, compute capability: 6.1\"]"
      ]
     },
     "execution_count": 342,
     "metadata": {},
     "output_type": "execute_result"
    }
   ],
   "source": [
    "\n",
    "config = tf.ConfigProto()\n",
    "#config.graph_options.optimizer_options.global_jit_level = tf.OptimizerOptions.ON_1\n",
    "#config.gpu_options.visible_device_list=\"0\"\n",
    "\n",
    "\n",
    "\n",
    "from tensorflow.python.client import device_lib\n",
    "\n",
    "device_lib.list_local_devices()"
   ]
  },
  {
   "cell_type": "markdown",
   "metadata": {
    "colab_type": "text",
    "id": "cp5wfXDx5SPH"
   },
   "source": [
    "In addition to the standard libraries we imported above, we'll need to install BERT's python package."
   ]
  },
  {
   "cell_type": "code",
   "execution_count": 343,
   "metadata": {
    "colab": {
     "base_uri": "https://localhost:8080/",
     "height": 51
    },
    "colab_type": "code",
    "id": "jviywGyWyKsA",
    "outputId": "166f3005-d219-404f-b201-2a0b75480360"
   },
   "outputs": [],
   "source": [
    "#!pip install bert-tensorflow"
   ]
  },
  {
   "cell_type": "code",
   "execution_count": 344,
   "metadata": {
    "colab": {},
    "colab_type": "code",
    "id": "hhbGEfwgdEtw"
   },
   "outputs": [],
   "source": [
    "import bert\n",
    "from bert import run_classifier_with_tfhub\n",
    "from bert import optimization\n",
    "from bert import tokenization\n",
    "import numpy as np\n"
   ]
  },
  {
   "cell_type": "markdown",
   "metadata": {
    "colab_type": "text",
    "id": "KVB3eOcjxxm1"
   },
   "source": [
    "Below, we'll set an output directory location to store our model output and checkpoints. This can be a local directory, in which case you'd set OUTPUT_DIR to the name of the directory you'd like to create. \n",
    "\n",
    "\n",
    "Set DO_DELETE to rewrite the OUTPUT_DIR if it exists. Otherwise, Tensorflow will load existing model checkpoints from that directory (if they exist)."
   ]
  },
  {
   "cell_type": "markdown",
   "metadata": {},
   "source": [
    "## Utils functions "
   ]
  },
  {
   "cell_type": "code",
   "execution_count": 345,
   "metadata": {},
   "outputs": [],
   "source": [
    "def get_test_experiment_df(test):\n",
    "    test_predictions = [x[0]['probabilities'] for x in zip(getListPrediction(in_sentences=list(test['Answer.Stressor'])))]\n",
    "    test_live_labels = np.array(test_predictions).argmax(axis=1)\n",
    "    test['Predicted'] = [label_list_text[x] for x in test_live_labels] # appending the labels to the dataframe\n",
    "\n",
    "    probabilities_df_live = pd.DataFrame(test_predictions) # creating a proabilities dataset\n",
    "    probabilities_df_live.columns = label_list_text # naming the columns\n",
    "\n",
    "    test.reset_index(inplace=True,drop=True) # resetting index \n",
    "\n",
    "    experiment_df = pd.concat([test,probabilities_df_live],axis=1, ignore_index=False)\n",
    "    return test,experiment_df"
   ]
  },
  {
   "cell_type": "code",
   "execution_count": 346,
   "metadata": {},
   "outputs": [],
   "source": [
    "def getListPrediction(in_sentences):\n",
    "    #1\n",
    "    input_examples = [bert.run_classifier.InputExample(guid=\"\", text_a = x, text_b = None, label = 0) for x in in_sentences] # here, \"\" is just a dummy label\n",
    "    \n",
    "    #2\n",
    "    input_features = bert.run_classifier.convert_examples_to_features(input_examples, label_list, MAX_SEQ_LENGTH, tokenizer)\n",
    "    \n",
    "    #3\n",
    "    predict_input_fn = bert.run_classifier.input_fn_builder(features=input_features, seq_length=MAX_SEQ_LENGTH, is_training=False, drop_remainder=False)\n",
    "    \n",
    "    print(input_features[0].input_ids)\n",
    "    #4\n",
    "    predictions = estimator.predict(input_fn=predict_input_fn,yield_single_examples=True)\n",
    "    \n",
    "    return predictions"
   ]
  },
  {
   "cell_type": "code",
   "execution_count": 347,
   "metadata": {},
   "outputs": [],
   "source": [
    "is_normalize_active=False\n",
    "\n",
    "def get_confusion_matrix(y_test,predicted,labels):\n",
    "    class_names=labels\n",
    "    # plotting confusion matrix\n",
    "    np.set_printoptions(precision=2)\n",
    "\n",
    "    # Plot non-normalized confusion matrix\n",
    "    plot_confusion_matrix(y_test, predicted, classes=class_names,\n",
    "                        title='Confusion matrix, without normalization')\n",
    "\n",
    "    # Plot normalized confusion matrix\n",
    "    plot_confusion_matrix(y_test, predicted, classes=class_names, normalize=True,\n",
    "                        title='Normalized confusion matrix')\n",
    "    plt.show()\n",
    "def plot_confusion_matrix(y_true, y_pred, classes,\n",
    "                          normalize=False,\n",
    "                          title=None,\n",
    "                          cmap=plt.cm.Blues):\n",
    "    \"\"\"\n",
    "    This function prints and plots the confusion matrix.\n",
    "    Normalization can be applied by setting `normalize=True`.\n",
    "    \"\"\"\n",
    "    if not title:\n",
    "        if normalize:\n",
    "            title = 'Normalized confusion matrix'\n",
    "        else:\n",
    "            title = 'Confusion matrix, without normalization'\n",
    "\n",
    "    # Compute confusion matrix\n",
    "    cm = confusion_matrix(y_true, y_pred)\n",
    "    # Only use the labels that appear in the data\n",
    "    classes =classes\n",
    "    if normalize:\n",
    "        cm = cm.astype('float') / cm.sum(axis=1)[:, np.newaxis]\n",
    "        #print(\"Normalized confusion matrix\")\n",
    "    else:\n",
    "        test =1\n",
    "        #print('Confusion matrix, without normalization')\n",
    "\n",
    "    fig, ax = plt.subplots()\n",
    "    im = ax.imshow(cm, interpolation='nearest', cmap=cmap)\n",
    "    #ax.figure.colorbar(im, ax=ax)\n",
    "    # We want to show all ticks...\n",
    "    ax.set(xticks=np.arange(cm.shape[1]),\n",
    "           yticks=np.arange(cm.shape[0]),\n",
    "           # ... and label them with the respective list entries\n",
    "           xticklabels=classes, yticklabels=classes,\n",
    "           title=title,\n",
    "           ylabel='True label',\n",
    "           xlabel='Predicted label')\n",
    "\n",
    "    # Rotate the tick labels and set their alignment.\n",
    "    plt.setp(ax.get_xticklabels(), rotation=45, ha=\"right\",\n",
    "             rotation_mode=\"anchor\")\n",
    "\n",
    "    # Loop over data dimensions and create text annotations.\n",
    "    fmt = '.2f' if normalize else 'd'\n",
    "    thresh = cm.max() / 2.\n",
    "    for i in range(cm.shape[0]):\n",
    "        for j in range(cm.shape[1]):\n",
    "            ax.text(j, i, format(cm[i, j], fmt),\n",
    "                    ha=\"center\", va=\"center\",\n",
    "                    color=\"white\" if cm[i, j] > thresh else \"black\")\n",
    "    #fig.tight_layout()\n",
    "    return ax\n"
   ]
  },
  {
   "cell_type": "markdown",
   "metadata": {},
   "source": [
    "# Loading the data"
   ]
  },
  {
   "cell_type": "code",
   "execution_count": 348,
   "metadata": {},
   "outputs": [],
   "source": [
    "def data_prep_bert(df,test_size):\n",
    "    \n",
    "    print(\"Filling missing values\")\n",
    "    df[DATA_COLUMN] = df[DATA_COLUMN].fillna('_NA_')\n",
    "    \n",
    "    print(\"Splitting dataframe with shape {} into training and test datasets\".format(df.shape))\n",
    "    X_train, X_test  = train_test_split(df, test_size=test_size, random_state=2018,stratify = df[LABEL_COLUMN_RAW])\n",
    "\n",
    "    return X_train, X_test\n"
   ]
  },
  {
   "cell_type": "code",
   "execution_count": 349,
   "metadata": {},
   "outputs": [],
   "source": [
    "def open_dataset(NAME,mapping_index,excluded_categories):\n",
    "    df = pd.read_csv(PATH+NAME+'.csv',sep =',')\n",
    "    df.head(10)\n",
    "    df = df[df[LABEL_COLUMN_RAW].notna()]\n",
    "    \n",
    "    \n",
    "    \n",
    "    #df.columns = [LABEL_COLUMN_RAW,'Severity',DATA_COLUMN,'Source']\n",
    "    \n",
    "    if excluded_categories is not None:\n",
    "        for category in excluded_categories:\n",
    "\n",
    "            df = df[df[LABEL_COLUMN_RAW] !=category]\n",
    "\n",
    "    label_list=[]\n",
    "    label_list_final =[]\n",
    "    if(mapping_index is None):\n",
    "        df[LABEL_COLUMN_RAW] = df[LABEL_COLUMN_RAW].astype('category')\n",
    "        df[LABEL_COLUMN], mapping_index = pd.Series(df[LABEL_COLUMN_RAW]).factorize() #uses pandas factorize() to convert to numerical index\n",
    "        \n",
    "        \n",
    "        \n",
    "        label_list_final = [None] * len(mapping_index.categories)\n",
    "        label_list_number = [None] * len(mapping_index.categories)\n",
    "        \n",
    "        for index,ele in enumerate(list(mapping_index.categories)):\n",
    "            lindex = mapping_index.get_loc(ele)\n",
    "            label_list_number[lindex] = lindex\n",
    "            label_list_final[lindex] = ele\n",
    "    else:\n",
    "        df[LABEL_COLUMN] = df[LABEL_COLUMN_RAW].apply(lambda x: mapping_index.get_loc(x))\n",
    "    \n",
    "    frequency_dict = df[LABEL_COLUMN_RAW].value_counts().to_dict()\n",
    "    df[\"class_freq\"] = df[LABEL_COLUMN_RAW].apply(lambda x: frequency_dict[x])\n",
    "    \n",
    "    \n",
    "    return df,mapping_index,label_list_number,label_list_final\n",
    "    "
   ]
  },
  {
   "cell_type": "markdown",
   "metadata": {},
   "source": [
    "# Require user changes > Start Here "
   ]
  },
  {
   "cell_type": "markdown",
   "metadata": {},
   "source": [
    "### Experiment Name"
   ]
  },
  {
   "cell_type": "code",
   "execution_count": 387,
   "metadata": {},
   "outputs": [],
   "source": [
    "PATH = './datasets/'\n",
    "TODAY_DATE = \"21_04_2020/\"\n",
    "EXPERIMENT_NAME = 'test'\n",
    "EXPERIMENTS_PATH = PATH + 'experiments/'+TODAY_DATE+EXPERIMENT_NAME\n",
    "if not os.path.exists(PATH + 'experiments/'+TODAY_DATE):\n",
    "    os.mkdir(PATH + 'experiments/'+TODAY_DATE)\n",
    "if not os.path.exists(EXPERIMENTS_PATH):\n",
    "    os.mkdir(EXPERIMENTS_PATH)"
   ]
  },
  {
   "cell_type": "markdown",
   "metadata": {},
   "source": [
    "### Model Hyperparameters"
   ]
  },
  {
   "cell_type": "code",
   "execution_count": 378,
   "metadata": {
    "colab": {},
    "colab_type": "code",
    "id": "OjwJ4bTeWXD8"
   },
   "outputs": [],
   "source": [
    "# Compute train and warmup steps from batch size\n",
    "# These hyperparameters are copied from this colab notebook (https://colab.sandbox.google.com/github/tensorflow/tpu/blob/master/tools/colab/bert_finetuning_with_cloud_tpus.ipynb)\n",
    "BATCH_SIZE = 32\n",
    "LEARNING_RATE = 2e-5\n",
    "NUM_TRAIN_EPOCHS = 3.0\n",
    "# Warmup is a period of time where hte learning rate \n",
    "# is small and gradually increases--usually helps training.\n",
    "WARMUP_PROPORTION = 0.1\n",
    "# Model configs\n",
    "SAVE_CHECKPOINTS_STEPS = 1000\n",
    "SAVE_SUMMARY_STEPS = 100\n",
    "\n",
    "# We'll set sequences to be at most 64 tokens long.\n",
    "MAX_SEQ_LENGTH = 64\n",
    "\n",
    "\n",
    "OUTPUT_DIR = './models/'+EXPERIMENT_NAME+ '/' #_01_04_2020/"
   ]
  },
  {
   "cell_type": "code",
   "execution_count": 379,
   "metadata": {},
   "outputs": [
    {
     "name": "stdout",
     "output_type": "stream",
     "text": [
      "Test percentage is 0.038159958180867745\n",
      "Filling missing values\n",
      "Splitting dataframe with shape (1913, 13) into training and test datasets\n",
      "Normal label list is [0, 1, 2, 3, 4, 5, 6, 7]\n",
      "The labels text is ['Work', 'Family Issues', 'Emotional Turmoil', 'Financial Problem', 'Health or Physical Pain', 'School', 'Social Relationships', 'Everyday Decision Making']\n"
     ]
    },
    {
     "name": "stderr",
     "output_type": "stream",
     "text": [
      "/commuter/thierrylincoln/Tf1.1_py36/lib/python3.6/site-packages/ipykernel_launcher.py:4: SettingWithCopyWarning: \n",
      "A value is trying to be set on a copy of a slice from a DataFrame.\n",
      "Try using .loc[row_indexer,col_indexer] = value instead\n",
      "\n",
      "See the caveats in the documentation: http://pandas.pydata.org/pandas-docs/stable/user_guide/indexing.html#returning-a-view-versus-a-copy\n",
      "  after removing the cwd from sys.path.\n"
     ]
    }
   ],
   "source": [
    "\n",
    "DATASET_NAME = '2200_master_csv_mturk_and_live_for_training'\n",
    "DATA_COLUMN = 'Answer.Stressor'\n",
    "LABEL_COLUMN_RAW = 'Consolidated Updated Categories'#'Answer.Label'\n",
    "LABEL_COLUMN = 'label_numeric'\n",
    "\n",
    "test_on_mturk_and_popbots_live = True # include live data in training + include mturk in testing\n",
    "\n",
    "\n",
    "#dataset,mapping_index,label_list, label_list_text = open_dataset('mturk900balanced',None)\n",
    "\n",
    "EXCLUDED_CATEGORIES = ['Other'] #None # # if nothing to exclude put None, THIS ALWAYS MUST BE A LIST \n",
    "\n",
    "dataset,mapping_index,label_list, label_list_text = open_dataset(DATASET_NAME,None,EXCLUDED_CATEGORIES)\n",
    "\n",
    "\n",
    " \n",
    "\n",
    "if test_on_mturk_and_popbots_live:\n",
    "    \n",
    "    mturk = dataset[dataset['Source']== 'mTurk']\n",
    "    live = dataset[dataset['Source']== 'Popbots']\n",
    "    live = live.sample(frac=1).reset_index(drop=True) # shuffle live\n",
    "    \n",
    "    TEST_PERCENTAGE = len(live)/(2*len(mturk))  # given to set the percentage of mturk used as test set to have 50/50\n",
    "    \n",
    "    print(f\"Test percentage is {TEST_PERCENTAGE}\")\n",
    "\n",
    "    train,test = data_prep_bert(mturk,TEST_PERCENTAGE) # test size from mturk \n",
    "    train = train.append(live.loc[0:int(len(live)/2)]) # taking 1/2 of that dataset for training\n",
    "    test = test.append(live.loc[int(len(live)/2):int(len(live))]) # taking 1/2 of live dataset for testing\n",
    "else:\n",
    "    # or taking live only for testing\n",
    "    train,test = dataset[dataset['Source']== 'mTurk'],dataset[dataset['Source']== 'Popbots'] \n",
    "\n",
    "\n",
    "#print(f\"Dataset has {len(dataset)} training examples\")\n",
    "print(f\"Normal label list is {label_list}\")\n",
    "print(f\"The labels text is {label_list_text}\")\n",
    "\n",
    "#Export train test to csv\n",
    "#train.to_csv(PATH+'900_CSV_SPLITTED/train.csv')\n",
    "#test.to_csv(PATH+'900_CSV_SPLITTED/test.csv')"
   ]
  },
  {
   "cell_type": "markdown",
   "metadata": {},
   "source": [
    "# Require user changes > STOP Here "
   ]
  },
  {
   "cell_type": "markdown",
   "metadata": {},
   "source": [
    "### Train set and test set analysis"
   ]
  },
  {
   "cell_type": "code",
   "execution_count": 380,
   "metadata": {},
   "outputs": [],
   "source": [
    "def print_dataset_info(train,test):\n",
    "    print(f\"Train size {len(train)} with {len(train[train['Source']== 'Popbots'])} from Popbots and {len(train[train['Source']== 'mTurk'])} from mturk\")\n",
    "    print(f\"Test size {len(test)} with {len(test[test['Source']== 'Popbots'])} from Popbots and {len(test[test['Source']== 'mTurk'])} from mturk\")\n",
    "    \n",
    "    print('\\nTraining distribution:')\n",
    "    print(pd.pivot_table(train[[LABEL_COLUMN_RAW, 'Source']],index=[LABEL_COLUMN_RAW, 'Source'],columns=None, aggfunc=len)) #.to_clipboard(excel=True)\n",
    "          \n",
    "    print('\\nTesting distribution:')\n",
    "    print(pd.pivot_table(test[[LABEL_COLUMN_RAW, 'Source']],index=[LABEL_COLUMN_RAW, 'Source'],columns=None, aggfunc=len)) #.to_clipboard(excel=True)"
   ]
  },
  {
   "cell_type": "code",
   "execution_count": 381,
   "metadata": {},
   "outputs": [],
   "source": [
    "train = train.sample(frac=1).reset_index(drop=True) #reshuffle everything\n",
    "test = test.sample(frac=1).reset_index(drop=True)"
   ]
  },
  {
   "cell_type": "code",
   "execution_count": 382,
   "metadata": {},
   "outputs": [
    {
     "name": "stdout",
     "output_type": "stream",
     "text": [
      "Train size 1914 with 74 from Popbots and 1840 from mturk\n",
      "Test size 146 with 73 from Popbots and 73 from mturk\n",
      "\n",
      "Training distribution:\n",
      "Consolidated Updated Categories  Source \n",
      "Emotional Turmoil                Popbots      4\n",
      "                                 mTurk      208\n",
      "Everyday Decision Making         mTurk       60\n",
      "Family Issues                    Popbots      6\n",
      "                                 mTurk      234\n",
      "Financial Problem                Popbots      2\n",
      "                                 mTurk      396\n",
      "Health or Physical Pain          Popbots     19\n",
      "                                 mTurk      142\n",
      "School                           Popbots      4\n",
      "                                 mTurk      132\n",
      "Social Relationships             Popbots     15\n",
      "                                 mTurk       34\n",
      "Work                             Popbots     24\n",
      "                                 mTurk      634\n",
      "dtype: int64\n",
      "\n",
      "Testing distribution:\n",
      "Consolidated Updated Categories  Source \n",
      "Emotional Turmoil                Popbots     1\n",
      "                                 mTurk       8\n",
      "Everyday Decision Making         mTurk       2\n",
      "Family Issues                    Popbots     3\n",
      "                                 mTurk       9\n",
      "Financial Problem                Popbots     3\n",
      "                                 mTurk      16\n",
      "Health or Physical Pain          Popbots    13\n",
      "                                 mTurk       6\n",
      "School                           Popbots     8\n",
      "                                 mTurk       5\n",
      "Social Relationships             Popbots    10\n",
      "                                 mTurk       2\n",
      "Work                             Popbots    35\n",
      "                                 mTurk      25\n",
      "dtype: int64\n"
     ]
    }
   ],
   "source": [
    "print_dataset_info(train,test)"
   ]
  },
  {
   "cell_type": "markdown",
   "metadata": {},
   "source": [
    "### Step to reduce the most dominant categories and balance the dataset"
   ]
  },
  {
   "cell_type": "code",
   "execution_count": 383,
   "metadata": {},
   "outputs": [],
   "source": [
    "samplig_cutoff = 100 # all the categories which had less than 100 example won't be sampled down\n",
    "\n",
    "\n",
    "REVERSE_FREQ = 'Max_reverse_sampling_chance'\n",
    "train[REVERSE_FREQ] = train['class_freq'].apply(lambda x: (max(train['class_freq'])/x)*(max(train['class_freq'])/x)) \n",
    "\n",
    "sampling_boolean = (train['Source'] != 'Popbots') & (train['class_freq'].astype(float) > samplig_cutoff) \n",
    "\n",
    "\n",
    "train_to_be_balanced = train[sampling_boolean]\n",
    "train_not_resampled = train[~sampling_boolean]\n",
    "\n",
    "train_temp = train_to_be_balanced.sample(n=(1500-len(train_not_resampled)), weights=REVERSE_FREQ, random_state=2020)\n",
    "train = pd.concat([train_temp,train_not_resampled])"
   ]
  },
  {
   "cell_type": "code",
   "execution_count": 384,
   "metadata": {},
   "outputs": [
    {
     "name": "stdout",
     "output_type": "stream",
     "text": [
      "Train size 1500 with 74 from Popbots and 1426 from mturk\n",
      "Test size 146 with 73 from Popbots and 73 from mturk\n",
      "\n",
      "Training distribution:\n",
      "Consolidated Updated Categories  Source \n",
      "Emotional Turmoil                Popbots      4\n",
      "                                 mTurk      208\n",
      "Everyday Decision Making         mTurk       60\n",
      "Family Issues                    Popbots      6\n",
      "                                 mTurk      231\n",
      "Financial Problem                Popbots      2\n",
      "                                 mTurk      330\n",
      "Health or Physical Pain          Popbots     19\n",
      "                                 mTurk      142\n",
      "School                           Popbots      4\n",
      "                                 mTurk      132\n",
      "Social Relationships             Popbots     15\n",
      "                                 mTurk       34\n",
      "Work                             Popbots     24\n",
      "                                 mTurk      289\n",
      "dtype: int64\n",
      "\n",
      "Testing distribution:\n",
      "Consolidated Updated Categories  Source \n",
      "Emotional Turmoil                Popbots     1\n",
      "                                 mTurk       8\n",
      "Everyday Decision Making         mTurk       2\n",
      "Family Issues                    Popbots     3\n",
      "                                 mTurk       9\n",
      "Financial Problem                Popbots     3\n",
      "                                 mTurk      16\n",
      "Health or Physical Pain          Popbots    13\n",
      "                                 mTurk       6\n",
      "School                           Popbots     8\n",
      "                                 mTurk       5\n",
      "Social Relationships             Popbots    10\n",
      "                                 mTurk       2\n",
      "Work                             Popbots    35\n",
      "                                 mTurk      25\n",
      "dtype: int64\n"
     ]
    }
   ],
   "source": [
    "print_dataset_info(train,test)"
   ]
  },
  {
   "cell_type": "code",
   "execution_count": 385,
   "metadata": {},
   "outputs": [
    {
     "data": {
      "text/plain": [
       "Index(['Emotional Turmoil', 'Everyday Decision Making', 'Family Issues',\n",
       "       'Financial Problem', 'Health or Physical Pain', 'School',\n",
       "       'Social Relationships', 'Work'],\n",
       "      dtype='object')"
      ]
     },
     "execution_count": 385,
     "metadata": {},
     "output_type": "execute_result"
    }
   ],
   "source": [
    "mapping_index.categories"
   ]
  },
  {
   "cell_type": "code",
   "execution_count": 388,
   "metadata": {},
   "outputs": [],
   "source": [
    "train.to_csv(EXPERIMENTS_PATH+'/TRAIN_'+DATASET_NAME+'.csv')\n",
    "test.to_csv(EXPERIMENTS_PATH+'/TEST_'+DATASET_NAME+'.csv')"
   ]
  },
  {
   "cell_type": "markdown",
   "metadata": {},
   "source": [
    "# Data Preprocessing"
   ]
  },
  {
   "cell_type": "markdown",
   "metadata": {
    "colab_type": "text",
    "id": "sfRnHSz3iSXz"
   },
   "source": [
    "For us, our input data is the 'sentence' column and our label is the 'polarity' column "
   ]
  },
  {
   "cell_type": "markdown",
   "metadata": {
    "colab_type": "text",
    "id": "V399W0rqNJ-Z"
   },
   "source": [
    "#Data Preprocessing\n",
    "We'll need to transform our data into a format BERT understands. This involves two steps. First, we create  `InputExample`'s using the constructor provided in the BERT library.\n",
    "\n",
    "- `text_a` is the text we want to classify, which in this case, is the `Request` field in our Dataframe. \n",
    "- `text_b` is used if we're training a model to understand the relationship between sentences (i.e. is `text_b` a translation of `text_a`? Is `text_b` an answer to the question asked by `text_a`?). This doesn't apply to our task, so we can leave `text_b` blank.\n",
    "- `label` is the label for our example, i.e. True, False"
   ]
  },
  {
   "cell_type": "code",
   "execution_count": 389,
   "metadata": {
    "colab": {},
    "colab_type": "code",
    "id": "p9gEt5SmM6i6"
   },
   "outputs": [],
   "source": [
    "# Use the InputExample class from BERT's run_classifier code to create examples from the data\n",
    "train_InputExamples = train.apply(lambda x: bert.run_classifier.InputExample(guid=None, # Globally unique ID for bookkeeping, unused in this example\n",
    "                                                                   text_a = x[DATA_COLUMN], \n",
    "                                                                   text_b = None, \n",
    "                                                                   label = x[LABEL_COLUMN]), axis = 1)\n",
    "\n",
    "test_InputExamples = test.apply(lambda x: bert.run_classifier.InputExample(guid=None, \n",
    "                                                                   text_a = x[DATA_COLUMN], \n",
    "                                                                   text_b = None, \n",
    "                                                                   label = x[LABEL_COLUMN]), axis = 1)"
   ]
  },
  {
   "cell_type": "markdown",
   "metadata": {
    "colab_type": "text",
    "id": "SCZWZtKxObjh"
   },
   "source": [
    "Next, we need to preprocess our data so that it matches the data BERT was \n",
    "\n",
    "1.   List item\n",
    "2.   List item\n",
    "\n",
    "trained on. For this, we'll need to do a couple of things (but don't worry--this is also included in the Python library):\n",
    "\n",
    "\n",
    "1. Lowercase our text (if we're using a BERT lowercase model)\n",
    "2. Tokenize it (i.e. \"sally says hi\" -> [\"sally\", \"says\", \"hi\"])\n",
    "3. Break words into WordPieces (i.e. \"calling\" -> [\"call\", \"##ing\"])\n",
    "4. Map our words to indexes using a vocab file that BERT provides\n",
    "5. Add special \"CLS\" and \"SEP\" tokens (see the [readme](https://github.com/google-research/bert))\n",
    "6. Append \"index\" and \"segment\" tokens to each input (see the [BERT paper](https://arxiv.org/pdf/1810.04805.pdf))\n",
    "\n",
    "Happily, we don't have to worry about most of these details.\n",
    "\n",
    "\n"
   ]
  },
  {
   "cell_type": "markdown",
   "metadata": {
    "colab_type": "text",
    "id": "qMWiDtpyQSoU"
   },
   "source": [
    "To start, we'll need to load a vocabulary file and lowercasing information directly from the BERT tf hub module:"
   ]
  },
  {
   "cell_type": "code",
   "execution_count": 390,
   "metadata": {
    "colab": {
     "base_uri": "https://localhost:8080/",
     "height": 34
    },
    "colab_type": "code",
    "id": "IhJSe0QHNG7U",
    "outputId": "20b28cc7-3cb3-4ce6-bfff-a7847ce3bbaa"
   },
   "outputs": [
    {
     "name": "stdout",
     "output_type": "stream",
     "text": [
      "INFO:tensorflow:Saver not created because there are no variables in the graph to restore\n"
     ]
    },
    {
     "name": "stderr",
     "output_type": "stream",
     "text": [
      "INFO:tensorflow:Saver not created because there are no variables in the graph to restore\n"
     ]
    }
   ],
   "source": [
    "# This is a path to an uncased (all lowercase) version of BERT\n",
    "BERT_MODEL_HUB = \"https://tfhub.dev/google/bert_uncased_L-12_H-768_A-12/1\"\n",
    "\n",
    "def create_tokenizer_from_hub_module():\n",
    "  \"\"\"Get the vocab file and casing info from the Hub module.\"\"\"\n",
    "  with tf.Graph().as_default():\n",
    "    bert_module = hub.Module(BERT_MODEL_HUB)\n",
    "    tokenization_info = bert_module(signature=\"tokenization_info\", as_dict=True)\n",
    "    with tf.Session() as sess:\n",
    "      vocab_file, do_lower_case = sess.run([tokenization_info[\"vocab_file\"],\n",
    "                                            tokenization_info[\"do_lower_case\"]])\n",
    "      \n",
    "  return bert.tokenization.FullTokenizer(\n",
    "      vocab_file=vocab_file, do_lower_case=do_lower_case)\n",
    "\n",
    "tokenizer = create_tokenizer_from_hub_module()"
   ]
  },
  {
   "cell_type": "markdown",
   "metadata": {
    "colab_type": "text",
    "id": "z4oFkhpZBDKm"
   },
   "source": [
    "Great--we just learned that the BERT model we're using expects lowercase data (that's what stored in tokenization_info[\"do_lower_case\"]) and we also loaded BERT's vocab file. We also created a tokenizer, which breaks words into word pieces:"
   ]
  },
  {
   "cell_type": "code",
   "execution_count": 391,
   "metadata": {
    "colab": {
     "base_uri": "https://localhost:8080/",
     "height": 221
    },
    "colab_type": "code",
    "id": "dsBo6RCtQmwx",
    "outputId": "9af8c917-90ec-4fe9-897b-79dc89ca88e1"
   },
   "outputs": [
    {
     "data": {
      "text/plain": [
       "['this',\n",
       " 'here',\n",
       " \"'\",\n",
       " 's',\n",
       " 'an',\n",
       " 'example',\n",
       " 'of',\n",
       " 'using',\n",
       " 'the',\n",
       " 'bert',\n",
       " 'token',\n",
       " '##izer']"
      ]
     },
     "execution_count": 391,
     "metadata": {},
     "output_type": "execute_result"
    }
   ],
   "source": [
    "tokenizer.tokenize(\"This here's an example of using the BERT tokenizer\")"
   ]
  },
  {
   "cell_type": "markdown",
   "metadata": {
    "colab_type": "text",
    "id": "0OEzfFIt6GIc"
   },
   "source": [
    "Using our tokenizer, we'll call `run_classifier.convert_examples_to_features` on our InputExamples to convert them into features BERT understands."
   ]
  },
  {
   "cell_type": "code",
   "execution_count": 392,
   "metadata": {
    "colab": {
     "base_uri": "https://localhost:8080/",
     "height": 1261
    },
    "colab_type": "code",
    "id": "LL5W8gEGRTAf",
    "outputId": "65001dda-155b-48fc-b5fc-1e4cabc8dfbf"
   },
   "outputs": [
    {
     "name": "stdout",
     "output_type": "stream",
     "text": [
      "INFO:tensorflow:Writing example 0 of 1500\n"
     ]
    },
    {
     "name": "stderr",
     "output_type": "stream",
     "text": [
      "INFO:tensorflow:Writing example 0 of 1500\n"
     ]
    },
    {
     "name": "stdout",
     "output_type": "stream",
     "text": [
      "INFO:tensorflow:*** Example ***\n"
     ]
    },
    {
     "name": "stderr",
     "output_type": "stream",
     "text": [
      "INFO:tensorflow:*** Example ***\n"
     ]
    },
    {
     "name": "stdout",
     "output_type": "stream",
     "text": [
      "INFO:tensorflow:guid: None\n"
     ]
    },
    {
     "name": "stderr",
     "output_type": "stream",
     "text": [
      "INFO:tensorflow:guid: None\n"
     ]
    },
    {
     "name": "stdout",
     "output_type": "stream",
     "text": [
      "INFO:tensorflow:tokens: [CLS] i can ##t find a baby ##sit ##ter and i have to go to work . [SEP]\n"
     ]
    },
    {
     "name": "stderr",
     "output_type": "stream",
     "text": [
      "INFO:tensorflow:tokens: [CLS] i can ##t find a baby ##sit ##ter and i have to go to work . [SEP]\n"
     ]
    },
    {
     "name": "stdout",
     "output_type": "stream",
     "text": [
      "INFO:tensorflow:input_ids: 101 1045 2064 2102 2424 1037 3336 28032 3334 1998 1045 2031 2000 2175 2000 2147 1012 102 0 0 0 0 0 0 0 0 0 0 0 0 0 0 0 0 0 0 0 0 0 0 0 0 0 0 0 0 0 0 0 0 0 0 0 0 0 0 0 0 0 0 0 0 0 0\n"
     ]
    },
    {
     "name": "stderr",
     "output_type": "stream",
     "text": [
      "INFO:tensorflow:input_ids: 101 1045 2064 2102 2424 1037 3336 28032 3334 1998 1045 2031 2000 2175 2000 2147 1012 102 0 0 0 0 0 0 0 0 0 0 0 0 0 0 0 0 0 0 0 0 0 0 0 0 0 0 0 0 0 0 0 0 0 0 0 0 0 0 0 0 0 0 0 0 0 0\n"
     ]
    },
    {
     "name": "stdout",
     "output_type": "stream",
     "text": [
      "INFO:tensorflow:input_mask: 1 1 1 1 1 1 1 1 1 1 1 1 1 1 1 1 1 1 0 0 0 0 0 0 0 0 0 0 0 0 0 0 0 0 0 0 0 0 0 0 0 0 0 0 0 0 0 0 0 0 0 0 0 0 0 0 0 0 0 0 0 0 0 0\n"
     ]
    },
    {
     "name": "stderr",
     "output_type": "stream",
     "text": [
      "INFO:tensorflow:input_mask: 1 1 1 1 1 1 1 1 1 1 1 1 1 1 1 1 1 1 0 0 0 0 0 0 0 0 0 0 0 0 0 0 0 0 0 0 0 0 0 0 0 0 0 0 0 0 0 0 0 0 0 0 0 0 0 0 0 0 0 0 0 0 0 0\n"
     ]
    },
    {
     "name": "stdout",
     "output_type": "stream",
     "text": [
      "INFO:tensorflow:segment_ids: 0 0 0 0 0 0 0 0 0 0 0 0 0 0 0 0 0 0 0 0 0 0 0 0 0 0 0 0 0 0 0 0 0 0 0 0 0 0 0 0 0 0 0 0 0 0 0 0 0 0 0 0 0 0 0 0 0 0 0 0 0 0 0 0\n"
     ]
    },
    {
     "name": "stderr",
     "output_type": "stream",
     "text": [
      "INFO:tensorflow:segment_ids: 0 0 0 0 0 0 0 0 0 0 0 0 0 0 0 0 0 0 0 0 0 0 0 0 0 0 0 0 0 0 0 0 0 0 0 0 0 0 0 0 0 0 0 0 0 0 0 0 0 0 0 0 0 0 0 0 0 0 0 0 0 0 0 0\n"
     ]
    },
    {
     "name": "stdout",
     "output_type": "stream",
     "text": [
      "INFO:tensorflow:label: 2 (id = 2)\n"
     ]
    },
    {
     "name": "stderr",
     "output_type": "stream",
     "text": [
      "INFO:tensorflow:label: 2 (id = 2)\n"
     ]
    },
    {
     "name": "stdout",
     "output_type": "stream",
     "text": [
      "INFO:tensorflow:*** Example ***\n"
     ]
    },
    {
     "name": "stderr",
     "output_type": "stream",
     "text": [
      "INFO:tensorflow:*** Example ***\n"
     ]
    },
    {
     "name": "stdout",
     "output_type": "stream",
     "text": [
      "INFO:tensorflow:guid: None\n"
     ]
    },
    {
     "name": "stderr",
     "output_type": "stream",
     "text": [
      "INFO:tensorflow:guid: None\n"
     ]
    },
    {
     "name": "stdout",
     "output_type": "stream",
     "text": [
      "INFO:tensorflow:tokens: [CLS] my upcoming exam in accounting [SEP]\n"
     ]
    },
    {
     "name": "stderr",
     "output_type": "stream",
     "text": [
      "INFO:tensorflow:tokens: [CLS] my upcoming exam in accounting [SEP]\n"
     ]
    },
    {
     "name": "stdout",
     "output_type": "stream",
     "text": [
      "INFO:tensorflow:input_ids: 101 2026 9046 11360 1999 9529 102 0 0 0 0 0 0 0 0 0 0 0 0 0 0 0 0 0 0 0 0 0 0 0 0 0 0 0 0 0 0 0 0 0 0 0 0 0 0 0 0 0 0 0 0 0 0 0 0 0 0 0 0 0 0 0 0 0\n"
     ]
    },
    {
     "name": "stderr",
     "output_type": "stream",
     "text": [
      "INFO:tensorflow:input_ids: 101 2026 9046 11360 1999 9529 102 0 0 0 0 0 0 0 0 0 0 0 0 0 0 0 0 0 0 0 0 0 0 0 0 0 0 0 0 0 0 0 0 0 0 0 0 0 0 0 0 0 0 0 0 0 0 0 0 0 0 0 0 0 0 0 0 0\n"
     ]
    },
    {
     "name": "stdout",
     "output_type": "stream",
     "text": [
      "INFO:tensorflow:input_mask: 1 1 1 1 1 1 1 0 0 0 0 0 0 0 0 0 0 0 0 0 0 0 0 0 0 0 0 0 0 0 0 0 0 0 0 0 0 0 0 0 0 0 0 0 0 0 0 0 0 0 0 0 0 0 0 0 0 0 0 0 0 0 0 0\n"
     ]
    },
    {
     "name": "stderr",
     "output_type": "stream",
     "text": [
      "INFO:tensorflow:input_mask: 1 1 1 1 1 1 1 0 0 0 0 0 0 0 0 0 0 0 0 0 0 0 0 0 0 0 0 0 0 0 0 0 0 0 0 0 0 0 0 0 0 0 0 0 0 0 0 0 0 0 0 0 0 0 0 0 0 0 0 0 0 0 0 0\n"
     ]
    },
    {
     "name": "stdout",
     "output_type": "stream",
     "text": [
      "INFO:tensorflow:segment_ids: 0 0 0 0 0 0 0 0 0 0 0 0 0 0 0 0 0 0 0 0 0 0 0 0 0 0 0 0 0 0 0 0 0 0 0 0 0 0 0 0 0 0 0 0 0 0 0 0 0 0 0 0 0 0 0 0 0 0 0 0 0 0 0 0\n"
     ]
    },
    {
     "name": "stderr",
     "output_type": "stream",
     "text": [
      "INFO:tensorflow:segment_ids: 0 0 0 0 0 0 0 0 0 0 0 0 0 0 0 0 0 0 0 0 0 0 0 0 0 0 0 0 0 0 0 0 0 0 0 0 0 0 0 0 0 0 0 0 0 0 0 0 0 0 0 0 0 0 0 0 0 0 0 0 0 0 0 0\n"
     ]
    },
    {
     "name": "stdout",
     "output_type": "stream",
     "text": [
      "INFO:tensorflow:label: 5 (id = 5)\n"
     ]
    },
    {
     "name": "stderr",
     "output_type": "stream",
     "text": [
      "INFO:tensorflow:label: 5 (id = 5)\n"
     ]
    },
    {
     "name": "stdout",
     "output_type": "stream",
     "text": [
      "INFO:tensorflow:*** Example ***\n"
     ]
    },
    {
     "name": "stderr",
     "output_type": "stream",
     "text": [
      "INFO:tensorflow:*** Example ***\n"
     ]
    },
    {
     "name": "stdout",
     "output_type": "stream",
     "text": [
      "INFO:tensorflow:guid: None\n"
     ]
    },
    {
     "name": "stderr",
     "output_type": "stream",
     "text": [
      "INFO:tensorflow:guid: None\n"
     ]
    },
    {
     "name": "stdout",
     "output_type": "stream",
     "text": [
      "INFO:tensorflow:tokens: [CLS] i have crazy dia ##rr ##hea and it won ##t stop how do i fix it ? [SEP]\n"
     ]
    },
    {
     "name": "stderr",
     "output_type": "stream",
     "text": [
      "INFO:tensorflow:tokens: [CLS] i have crazy dia ##rr ##hea and it won ##t stop how do i fix it ? [SEP]\n"
     ]
    },
    {
     "name": "stdout",
     "output_type": "stream",
     "text": [
      "INFO:tensorflow:input_ids: 101 1045 2031 4689 22939 12171 20192 1998 2009 2180 2102 2644 2129 2079 1045 8081 2009 1029 102 0 0 0 0 0 0 0 0 0 0 0 0 0 0 0 0 0 0 0 0 0 0 0 0 0 0 0 0 0 0 0 0 0 0 0 0 0 0 0 0 0 0 0 0 0\n"
     ]
    },
    {
     "name": "stderr",
     "output_type": "stream",
     "text": [
      "INFO:tensorflow:input_ids: 101 1045 2031 4689 22939 12171 20192 1998 2009 2180 2102 2644 2129 2079 1045 8081 2009 1029 102 0 0 0 0 0 0 0 0 0 0 0 0 0 0 0 0 0 0 0 0 0 0 0 0 0 0 0 0 0 0 0 0 0 0 0 0 0 0 0 0 0 0 0 0 0\n"
     ]
    },
    {
     "name": "stdout",
     "output_type": "stream",
     "text": [
      "INFO:tensorflow:input_mask: 1 1 1 1 1 1 1 1 1 1 1 1 1 1 1 1 1 1 1 0 0 0 0 0 0 0 0 0 0 0 0 0 0 0 0 0 0 0 0 0 0 0 0 0 0 0 0 0 0 0 0 0 0 0 0 0 0 0 0 0 0 0 0 0\n"
     ]
    },
    {
     "name": "stderr",
     "output_type": "stream",
     "text": [
      "INFO:tensorflow:input_mask: 1 1 1 1 1 1 1 1 1 1 1 1 1 1 1 1 1 1 1 0 0 0 0 0 0 0 0 0 0 0 0 0 0 0 0 0 0 0 0 0 0 0 0 0 0 0 0 0 0 0 0 0 0 0 0 0 0 0 0 0 0 0 0 0\n"
     ]
    },
    {
     "name": "stdout",
     "output_type": "stream",
     "text": [
      "INFO:tensorflow:segment_ids: 0 0 0 0 0 0 0 0 0 0 0 0 0 0 0 0 0 0 0 0 0 0 0 0 0 0 0 0 0 0 0 0 0 0 0 0 0 0 0 0 0 0 0 0 0 0 0 0 0 0 0 0 0 0 0 0 0 0 0 0 0 0 0 0\n"
     ]
    },
    {
     "name": "stderr",
     "output_type": "stream",
     "text": [
      "INFO:tensorflow:segment_ids: 0 0 0 0 0 0 0 0 0 0 0 0 0 0 0 0 0 0 0 0 0 0 0 0 0 0 0 0 0 0 0 0 0 0 0 0 0 0 0 0 0 0 0 0 0 0 0 0 0 0 0 0 0 0 0 0 0 0 0 0 0 0 0 0\n"
     ]
    },
    {
     "name": "stdout",
     "output_type": "stream",
     "text": [
      "INFO:tensorflow:label: 4 (id = 4)\n"
     ]
    },
    {
     "name": "stderr",
     "output_type": "stream",
     "text": [
      "INFO:tensorflow:label: 4 (id = 4)\n"
     ]
    },
    {
     "name": "stdout",
     "output_type": "stream",
     "text": [
      "INFO:tensorflow:*** Example ***\n"
     ]
    },
    {
     "name": "stderr",
     "output_type": "stream",
     "text": [
      "INFO:tensorflow:*** Example ***\n"
     ]
    },
    {
     "name": "stdout",
     "output_type": "stream",
     "text": [
      "INFO:tensorflow:guid: None\n"
     ]
    },
    {
     "name": "stderr",
     "output_type": "stream",
     "text": [
      "INFO:tensorflow:guid: None\n"
     ]
    },
    {
     "name": "stdout",
     "output_type": "stream",
     "text": [
      "INFO:tensorflow:tokens: [CLS] just school and homework in general [SEP]\n"
     ]
    },
    {
     "name": "stderr",
     "output_type": "stream",
     "text": [
      "INFO:tensorflow:tokens: [CLS] just school and homework in general [SEP]\n"
     ]
    },
    {
     "name": "stdout",
     "output_type": "stream",
     "text": [
      "INFO:tensorflow:input_ids: 101 2074 2082 1998 19453 1999 2236 102 0 0 0 0 0 0 0 0 0 0 0 0 0 0 0 0 0 0 0 0 0 0 0 0 0 0 0 0 0 0 0 0 0 0 0 0 0 0 0 0 0 0 0 0 0 0 0 0 0 0 0 0 0 0 0 0\n"
     ]
    },
    {
     "name": "stderr",
     "output_type": "stream",
     "text": [
      "INFO:tensorflow:input_ids: 101 2074 2082 1998 19453 1999 2236 102 0 0 0 0 0 0 0 0 0 0 0 0 0 0 0 0 0 0 0 0 0 0 0 0 0 0 0 0 0 0 0 0 0 0 0 0 0 0 0 0 0 0 0 0 0 0 0 0 0 0 0 0 0 0 0 0\n"
     ]
    },
    {
     "name": "stdout",
     "output_type": "stream",
     "text": [
      "INFO:tensorflow:input_mask: 1 1 1 1 1 1 1 1 0 0 0 0 0 0 0 0 0 0 0 0 0 0 0 0 0 0 0 0 0 0 0 0 0 0 0 0 0 0 0 0 0 0 0 0 0 0 0 0 0 0 0 0 0 0 0 0 0 0 0 0 0 0 0 0\n"
     ]
    },
    {
     "name": "stderr",
     "output_type": "stream",
     "text": [
      "INFO:tensorflow:input_mask: 1 1 1 1 1 1 1 1 0 0 0 0 0 0 0 0 0 0 0 0 0 0 0 0 0 0 0 0 0 0 0 0 0 0 0 0 0 0 0 0 0 0 0 0 0 0 0 0 0 0 0 0 0 0 0 0 0 0 0 0 0 0 0 0\n"
     ]
    },
    {
     "name": "stdout",
     "output_type": "stream",
     "text": [
      "INFO:tensorflow:segment_ids: 0 0 0 0 0 0 0 0 0 0 0 0 0 0 0 0 0 0 0 0 0 0 0 0 0 0 0 0 0 0 0 0 0 0 0 0 0 0 0 0 0 0 0 0 0 0 0 0 0 0 0 0 0 0 0 0 0 0 0 0 0 0 0 0\n"
     ]
    },
    {
     "name": "stderr",
     "output_type": "stream",
     "text": [
      "INFO:tensorflow:segment_ids: 0 0 0 0 0 0 0 0 0 0 0 0 0 0 0 0 0 0 0 0 0 0 0 0 0 0 0 0 0 0 0 0 0 0 0 0 0 0 0 0 0 0 0 0 0 0 0 0 0 0 0 0 0 0 0 0 0 0 0 0 0 0 0 0\n"
     ]
    },
    {
     "name": "stdout",
     "output_type": "stream",
     "text": [
      "INFO:tensorflow:label: 5 (id = 5)\n"
     ]
    },
    {
     "name": "stderr",
     "output_type": "stream",
     "text": [
      "INFO:tensorflow:label: 5 (id = 5)\n"
     ]
    },
    {
     "name": "stdout",
     "output_type": "stream",
     "text": [
      "INFO:tensorflow:*** Example ***\n"
     ]
    },
    {
     "name": "stderr",
     "output_type": "stream",
     "text": [
      "INFO:tensorflow:*** Example ***\n"
     ]
    },
    {
     "name": "stdout",
     "output_type": "stream",
     "text": [
      "INFO:tensorflow:guid: None\n"
     ]
    },
    {
     "name": "stderr",
     "output_type": "stream",
     "text": [
      "INFO:tensorflow:guid: None\n"
     ]
    },
    {
     "name": "stdout",
     "output_type": "stream",
     "text": [
      "INFO:tensorflow:tokens: [CLS] i ' m stressed about work since we have a filing deadline next week . [SEP]\n"
     ]
    },
    {
     "name": "stderr",
     "output_type": "stream",
     "text": [
      "INFO:tensorflow:tokens: [CLS] i ' m stressed about work since we have a filing deadline next week . [SEP]\n"
     ]
    },
    {
     "name": "stdout",
     "output_type": "stream",
     "text": [
      "INFO:tensorflow:input_ids: 101 1045 1005 1049 13233 2055 2147 2144 2057 2031 1037 15242 15117 2279 2733 1012 102 0 0 0 0 0 0 0 0 0 0 0 0 0 0 0 0 0 0 0 0 0 0 0 0 0 0 0 0 0 0 0 0 0 0 0 0 0 0 0 0 0 0 0 0 0 0 0\n"
     ]
    },
    {
     "name": "stderr",
     "output_type": "stream",
     "text": [
      "INFO:tensorflow:input_ids: 101 1045 1005 1049 13233 2055 2147 2144 2057 2031 1037 15242 15117 2279 2733 1012 102 0 0 0 0 0 0 0 0 0 0 0 0 0 0 0 0 0 0 0 0 0 0 0 0 0 0 0 0 0 0 0 0 0 0 0 0 0 0 0 0 0 0 0 0 0 0 0\n"
     ]
    },
    {
     "name": "stdout",
     "output_type": "stream",
     "text": [
      "INFO:tensorflow:input_mask: 1 1 1 1 1 1 1 1 1 1 1 1 1 1 1 1 1 0 0 0 0 0 0 0 0 0 0 0 0 0 0 0 0 0 0 0 0 0 0 0 0 0 0 0 0 0 0 0 0 0 0 0 0 0 0 0 0 0 0 0 0 0 0 0\n"
     ]
    },
    {
     "name": "stderr",
     "output_type": "stream",
     "text": [
      "INFO:tensorflow:input_mask: 1 1 1 1 1 1 1 1 1 1 1 1 1 1 1 1 1 0 0 0 0 0 0 0 0 0 0 0 0 0 0 0 0 0 0 0 0 0 0 0 0 0 0 0 0 0 0 0 0 0 0 0 0 0 0 0 0 0 0 0 0 0 0 0\n"
     ]
    },
    {
     "name": "stdout",
     "output_type": "stream",
     "text": [
      "INFO:tensorflow:segment_ids: 0 0 0 0 0 0 0 0 0 0 0 0 0 0 0 0 0 0 0 0 0 0 0 0 0 0 0 0 0 0 0 0 0 0 0 0 0 0 0 0 0 0 0 0 0 0 0 0 0 0 0 0 0 0 0 0 0 0 0 0 0 0 0 0\n"
     ]
    },
    {
     "name": "stderr",
     "output_type": "stream",
     "text": [
      "INFO:tensorflow:segment_ids: 0 0 0 0 0 0 0 0 0 0 0 0 0 0 0 0 0 0 0 0 0 0 0 0 0 0 0 0 0 0 0 0 0 0 0 0 0 0 0 0 0 0 0 0 0 0 0 0 0 0 0 0 0 0 0 0 0 0 0 0 0 0 0 0\n"
     ]
    },
    {
     "name": "stdout",
     "output_type": "stream",
     "text": [
      "INFO:tensorflow:label: 0 (id = 0)\n"
     ]
    },
    {
     "name": "stderr",
     "output_type": "stream",
     "text": [
      "INFO:tensorflow:label: 0 (id = 0)\n"
     ]
    },
    {
     "name": "stdout",
     "output_type": "stream",
     "text": [
      "INFO:tensorflow:Writing example 0 of 146\n"
     ]
    },
    {
     "name": "stderr",
     "output_type": "stream",
     "text": [
      "INFO:tensorflow:Writing example 0 of 146\n"
     ]
    },
    {
     "name": "stdout",
     "output_type": "stream",
     "text": [
      "INFO:tensorflow:*** Example ***\n"
     ]
    },
    {
     "name": "stderr",
     "output_type": "stream",
     "text": [
      "INFO:tensorflow:*** Example ***\n"
     ]
    },
    {
     "name": "stdout",
     "output_type": "stream",
     "text": [
      "INFO:tensorflow:guid: None\n"
     ]
    },
    {
     "name": "stderr",
     "output_type": "stream",
     "text": [
      "INFO:tensorflow:guid: None\n"
     ]
    },
    {
     "name": "stdout",
     "output_type": "stream",
     "text": [
      "INFO:tensorflow:tokens: [CLS] figuring out what classes i want to take [SEP]\n"
     ]
    },
    {
     "name": "stderr",
     "output_type": "stream",
     "text": [
      "INFO:tensorflow:tokens: [CLS] figuring out what classes i want to take [SEP]\n"
     ]
    },
    {
     "name": "stdout",
     "output_type": "stream",
     "text": [
      "INFO:tensorflow:input_ids: 101 23218 2041 2054 4280 1045 2215 2000 2202 102 0 0 0 0 0 0 0 0 0 0 0 0 0 0 0 0 0 0 0 0 0 0 0 0 0 0 0 0 0 0 0 0 0 0 0 0 0 0 0 0 0 0 0 0 0 0 0 0 0 0 0 0 0 0\n"
     ]
    },
    {
     "name": "stderr",
     "output_type": "stream",
     "text": [
      "INFO:tensorflow:input_ids: 101 23218 2041 2054 4280 1045 2215 2000 2202 102 0 0 0 0 0 0 0 0 0 0 0 0 0 0 0 0 0 0 0 0 0 0 0 0 0 0 0 0 0 0 0 0 0 0 0 0 0 0 0 0 0 0 0 0 0 0 0 0 0 0 0 0 0 0\n"
     ]
    },
    {
     "name": "stdout",
     "output_type": "stream",
     "text": [
      "INFO:tensorflow:input_mask: 1 1 1 1 1 1 1 1 1 1 0 0 0 0 0 0 0 0 0 0 0 0 0 0 0 0 0 0 0 0 0 0 0 0 0 0 0 0 0 0 0 0 0 0 0 0 0 0 0 0 0 0 0 0 0 0 0 0 0 0 0 0 0 0\n"
     ]
    },
    {
     "name": "stderr",
     "output_type": "stream",
     "text": [
      "INFO:tensorflow:input_mask: 1 1 1 1 1 1 1 1 1 1 0 0 0 0 0 0 0 0 0 0 0 0 0 0 0 0 0 0 0 0 0 0 0 0 0 0 0 0 0 0 0 0 0 0 0 0 0 0 0 0 0 0 0 0 0 0 0 0 0 0 0 0 0 0\n"
     ]
    },
    {
     "name": "stdout",
     "output_type": "stream",
     "text": [
      "INFO:tensorflow:segment_ids: 0 0 0 0 0 0 0 0 0 0 0 0 0 0 0 0 0 0 0 0 0 0 0 0 0 0 0 0 0 0 0 0 0 0 0 0 0 0 0 0 0 0 0 0 0 0 0 0 0 0 0 0 0 0 0 0 0 0 0 0 0 0 0 0\n"
     ]
    },
    {
     "name": "stderr",
     "output_type": "stream",
     "text": [
      "INFO:tensorflow:segment_ids: 0 0 0 0 0 0 0 0 0 0 0 0 0 0 0 0 0 0 0 0 0 0 0 0 0 0 0 0 0 0 0 0 0 0 0 0 0 0 0 0 0 0 0 0 0 0 0 0 0 0 0 0 0 0 0 0 0 0 0 0 0 0 0 0\n"
     ]
    },
    {
     "name": "stdout",
     "output_type": "stream",
     "text": [
      "INFO:tensorflow:label: 5 (id = 5)\n"
     ]
    },
    {
     "name": "stderr",
     "output_type": "stream",
     "text": [
      "INFO:tensorflow:label: 5 (id = 5)\n"
     ]
    },
    {
     "name": "stdout",
     "output_type": "stream",
     "text": [
      "INFO:tensorflow:*** Example ***\n"
     ]
    },
    {
     "name": "stderr",
     "output_type": "stream",
     "text": [
      "INFO:tensorflow:*** Example ***\n"
     ]
    },
    {
     "name": "stdout",
     "output_type": "stream",
     "text": [
      "INFO:tensorflow:guid: None\n"
     ]
    },
    {
     "name": "stderr",
     "output_type": "stream",
     "text": [
      "INFO:tensorflow:guid: None\n"
     ]
    },
    {
     "name": "stdout",
     "output_type": "stream",
     "text": [
      "INFO:tensorflow:tokens: [CLS] i have been worried about the results of my son ' s blood work . [SEP]\n"
     ]
    },
    {
     "name": "stderr",
     "output_type": "stream",
     "text": [
      "INFO:tensorflow:tokens: [CLS] i have been worried about the results of my son ' s blood work . [SEP]\n"
     ]
    },
    {
     "name": "stdout",
     "output_type": "stream",
     "text": [
      "INFO:tensorflow:input_ids: 101 1045 2031 2042 5191 2055 1996 3463 1997 2026 2365 1005 1055 2668 2147 1012 102 0 0 0 0 0 0 0 0 0 0 0 0 0 0 0 0 0 0 0 0 0 0 0 0 0 0 0 0 0 0 0 0 0 0 0 0 0 0 0 0 0 0 0 0 0 0 0\n"
     ]
    },
    {
     "name": "stderr",
     "output_type": "stream",
     "text": [
      "INFO:tensorflow:input_ids: 101 1045 2031 2042 5191 2055 1996 3463 1997 2026 2365 1005 1055 2668 2147 1012 102 0 0 0 0 0 0 0 0 0 0 0 0 0 0 0 0 0 0 0 0 0 0 0 0 0 0 0 0 0 0 0 0 0 0 0 0 0 0 0 0 0 0 0 0 0 0 0\n"
     ]
    },
    {
     "name": "stdout",
     "output_type": "stream",
     "text": [
      "INFO:tensorflow:input_mask: 1 1 1 1 1 1 1 1 1 1 1 1 1 1 1 1 1 0 0 0 0 0 0 0 0 0 0 0 0 0 0 0 0 0 0 0 0 0 0 0 0 0 0 0 0 0 0 0 0 0 0 0 0 0 0 0 0 0 0 0 0 0 0 0\n"
     ]
    },
    {
     "name": "stderr",
     "output_type": "stream",
     "text": [
      "INFO:tensorflow:input_mask: 1 1 1 1 1 1 1 1 1 1 1 1 1 1 1 1 1 0 0 0 0 0 0 0 0 0 0 0 0 0 0 0 0 0 0 0 0 0 0 0 0 0 0 0 0 0 0 0 0 0 0 0 0 0 0 0 0 0 0 0 0 0 0 0\n"
     ]
    },
    {
     "name": "stdout",
     "output_type": "stream",
     "text": [
      "INFO:tensorflow:segment_ids: 0 0 0 0 0 0 0 0 0 0 0 0 0 0 0 0 0 0 0 0 0 0 0 0 0 0 0 0 0 0 0 0 0 0 0 0 0 0 0 0 0 0 0 0 0 0 0 0 0 0 0 0 0 0 0 0 0 0 0 0 0 0 0 0\n"
     ]
    },
    {
     "name": "stderr",
     "output_type": "stream",
     "text": [
      "INFO:tensorflow:segment_ids: 0 0 0 0 0 0 0 0 0 0 0 0 0 0 0 0 0 0 0 0 0 0 0 0 0 0 0 0 0 0 0 0 0 0 0 0 0 0 0 0 0 0 0 0 0 0 0 0 0 0 0 0 0 0 0 0 0 0 0 0 0 0 0 0\n"
     ]
    },
    {
     "name": "stdout",
     "output_type": "stream",
     "text": [
      "INFO:tensorflow:label: 4 (id = 4)\n"
     ]
    },
    {
     "name": "stderr",
     "output_type": "stream",
     "text": [
      "INFO:tensorflow:label: 4 (id = 4)\n"
     ]
    },
    {
     "name": "stdout",
     "output_type": "stream",
     "text": [
      "INFO:tensorflow:*** Example ***\n"
     ]
    },
    {
     "name": "stderr",
     "output_type": "stream",
     "text": [
      "INFO:tensorflow:*** Example ***\n"
     ]
    },
    {
     "name": "stdout",
     "output_type": "stream",
     "text": [
      "INFO:tensorflow:guid: None\n"
     ]
    },
    {
     "name": "stderr",
     "output_type": "stream",
     "text": [
      "INFO:tensorflow:guid: None\n"
     ]
    },
    {
     "name": "stdout",
     "output_type": "stream",
     "text": [
      "INFO:tensorflow:tokens: [CLS] job [SEP]\n"
     ]
    },
    {
     "name": "stderr",
     "output_type": "stream",
     "text": [
      "INFO:tensorflow:tokens: [CLS] job [SEP]\n"
     ]
    },
    {
     "name": "stdout",
     "output_type": "stream",
     "text": [
      "INFO:tensorflow:input_ids: 101 3105 102 0 0 0 0 0 0 0 0 0 0 0 0 0 0 0 0 0 0 0 0 0 0 0 0 0 0 0 0 0 0 0 0 0 0 0 0 0 0 0 0 0 0 0 0 0 0 0 0 0 0 0 0 0 0 0 0 0 0 0 0 0\n"
     ]
    },
    {
     "name": "stderr",
     "output_type": "stream",
     "text": [
      "INFO:tensorflow:input_ids: 101 3105 102 0 0 0 0 0 0 0 0 0 0 0 0 0 0 0 0 0 0 0 0 0 0 0 0 0 0 0 0 0 0 0 0 0 0 0 0 0 0 0 0 0 0 0 0 0 0 0 0 0 0 0 0 0 0 0 0 0 0 0 0 0\n"
     ]
    },
    {
     "name": "stdout",
     "output_type": "stream",
     "text": [
      "INFO:tensorflow:input_mask: 1 1 1 0 0 0 0 0 0 0 0 0 0 0 0 0 0 0 0 0 0 0 0 0 0 0 0 0 0 0 0 0 0 0 0 0 0 0 0 0 0 0 0 0 0 0 0 0 0 0 0 0 0 0 0 0 0 0 0 0 0 0 0 0\n"
     ]
    },
    {
     "name": "stderr",
     "output_type": "stream",
     "text": [
      "INFO:tensorflow:input_mask: 1 1 1 0 0 0 0 0 0 0 0 0 0 0 0 0 0 0 0 0 0 0 0 0 0 0 0 0 0 0 0 0 0 0 0 0 0 0 0 0 0 0 0 0 0 0 0 0 0 0 0 0 0 0 0 0 0 0 0 0 0 0 0 0\n"
     ]
    },
    {
     "name": "stdout",
     "output_type": "stream",
     "text": [
      "INFO:tensorflow:segment_ids: 0 0 0 0 0 0 0 0 0 0 0 0 0 0 0 0 0 0 0 0 0 0 0 0 0 0 0 0 0 0 0 0 0 0 0 0 0 0 0 0 0 0 0 0 0 0 0 0 0 0 0 0 0 0 0 0 0 0 0 0 0 0 0 0\n"
     ]
    },
    {
     "name": "stderr",
     "output_type": "stream",
     "text": [
      "INFO:tensorflow:segment_ids: 0 0 0 0 0 0 0 0 0 0 0 0 0 0 0 0 0 0 0 0 0 0 0 0 0 0 0 0 0 0 0 0 0 0 0 0 0 0 0 0 0 0 0 0 0 0 0 0 0 0 0 0 0 0 0 0 0 0 0 0 0 0 0 0\n"
     ]
    },
    {
     "name": "stdout",
     "output_type": "stream",
     "text": [
      "INFO:tensorflow:label: 0 (id = 0)\n"
     ]
    },
    {
     "name": "stderr",
     "output_type": "stream",
     "text": [
      "INFO:tensorflow:label: 0 (id = 0)\n"
     ]
    },
    {
     "name": "stdout",
     "output_type": "stream",
     "text": [
      "INFO:tensorflow:*** Example ***\n"
     ]
    },
    {
     "name": "stderr",
     "output_type": "stream",
     "text": [
      "INFO:tensorflow:*** Example ***\n"
     ]
    },
    {
     "name": "stdout",
     "output_type": "stream",
     "text": [
      "INFO:tensorflow:guid: None\n"
     ]
    },
    {
     "name": "stderr",
     "output_type": "stream",
     "text": [
      "INFO:tensorflow:guid: None\n"
     ]
    },
    {
     "name": "stdout",
     "output_type": "stream",
     "text": [
      "INFO:tensorflow:tokens: [CLS] i have ma lot of work at my office , i need some time off [SEP]\n"
     ]
    },
    {
     "name": "stderr",
     "output_type": "stream",
     "text": [
      "INFO:tensorflow:tokens: [CLS] i have ma lot of work at my office , i need some time off [SEP]\n"
     ]
    },
    {
     "name": "stdout",
     "output_type": "stream",
     "text": [
      "INFO:tensorflow:input_ids: 101 1045 2031 5003 2843 1997 2147 2012 2026 2436 1010 1045 2342 2070 2051 2125 102 0 0 0 0 0 0 0 0 0 0 0 0 0 0 0 0 0 0 0 0 0 0 0 0 0 0 0 0 0 0 0 0 0 0 0 0 0 0 0 0 0 0 0 0 0 0 0\n"
     ]
    },
    {
     "name": "stderr",
     "output_type": "stream",
     "text": [
      "INFO:tensorflow:input_ids: 101 1045 2031 5003 2843 1997 2147 2012 2026 2436 1010 1045 2342 2070 2051 2125 102 0 0 0 0 0 0 0 0 0 0 0 0 0 0 0 0 0 0 0 0 0 0 0 0 0 0 0 0 0 0 0 0 0 0 0 0 0 0 0 0 0 0 0 0 0 0 0\n"
     ]
    },
    {
     "name": "stdout",
     "output_type": "stream",
     "text": [
      "INFO:tensorflow:input_mask: 1 1 1 1 1 1 1 1 1 1 1 1 1 1 1 1 1 0 0 0 0 0 0 0 0 0 0 0 0 0 0 0 0 0 0 0 0 0 0 0 0 0 0 0 0 0 0 0 0 0 0 0 0 0 0 0 0 0 0 0 0 0 0 0\n"
     ]
    },
    {
     "name": "stderr",
     "output_type": "stream",
     "text": [
      "INFO:tensorflow:input_mask: 1 1 1 1 1 1 1 1 1 1 1 1 1 1 1 1 1 0 0 0 0 0 0 0 0 0 0 0 0 0 0 0 0 0 0 0 0 0 0 0 0 0 0 0 0 0 0 0 0 0 0 0 0 0 0 0 0 0 0 0 0 0 0 0\n"
     ]
    },
    {
     "name": "stdout",
     "output_type": "stream",
     "text": [
      "INFO:tensorflow:segment_ids: 0 0 0 0 0 0 0 0 0 0 0 0 0 0 0 0 0 0 0 0 0 0 0 0 0 0 0 0 0 0 0 0 0 0 0 0 0 0 0 0 0 0 0 0 0 0 0 0 0 0 0 0 0 0 0 0 0 0 0 0 0 0 0 0\n"
     ]
    },
    {
     "name": "stderr",
     "output_type": "stream",
     "text": [
      "INFO:tensorflow:segment_ids: 0 0 0 0 0 0 0 0 0 0 0 0 0 0 0 0 0 0 0 0 0 0 0 0 0 0 0 0 0 0 0 0 0 0 0 0 0 0 0 0 0 0 0 0 0 0 0 0 0 0 0 0 0 0 0 0 0 0 0 0 0 0 0 0\n"
     ]
    },
    {
     "name": "stdout",
     "output_type": "stream",
     "text": [
      "INFO:tensorflow:label: 0 (id = 0)\n"
     ]
    },
    {
     "name": "stderr",
     "output_type": "stream",
     "text": [
      "INFO:tensorflow:label: 0 (id = 0)\n"
     ]
    },
    {
     "name": "stdout",
     "output_type": "stream",
     "text": [
      "INFO:tensorflow:*** Example ***\n"
     ]
    },
    {
     "name": "stderr",
     "output_type": "stream",
     "text": [
      "INFO:tensorflow:*** Example ***\n"
     ]
    },
    {
     "name": "stdout",
     "output_type": "stream",
     "text": [
      "INFO:tensorflow:guid: None\n"
     ]
    },
    {
     "name": "stderr",
     "output_type": "stream",
     "text": [
      "INFO:tensorflow:guid: None\n"
     ]
    },
    {
     "name": "stdout",
     "output_type": "stream",
     "text": [
      "INFO:tensorflow:tokens: [CLS] productivity [SEP]\n"
     ]
    },
    {
     "name": "stderr",
     "output_type": "stream",
     "text": [
      "INFO:tensorflow:tokens: [CLS] productivity [SEP]\n"
     ]
    },
    {
     "name": "stdout",
     "output_type": "stream",
     "text": [
      "INFO:tensorflow:input_ids: 101 15836 102 0 0 0 0 0 0 0 0 0 0 0 0 0 0 0 0 0 0 0 0 0 0 0 0 0 0 0 0 0 0 0 0 0 0 0 0 0 0 0 0 0 0 0 0 0 0 0 0 0 0 0 0 0 0 0 0 0 0 0 0 0\n"
     ]
    },
    {
     "name": "stderr",
     "output_type": "stream",
     "text": [
      "INFO:tensorflow:input_ids: 101 15836 102 0 0 0 0 0 0 0 0 0 0 0 0 0 0 0 0 0 0 0 0 0 0 0 0 0 0 0 0 0 0 0 0 0 0 0 0 0 0 0 0 0 0 0 0 0 0 0 0 0 0 0 0 0 0 0 0 0 0 0 0 0\n"
     ]
    },
    {
     "name": "stdout",
     "output_type": "stream",
     "text": [
      "INFO:tensorflow:input_mask: 1 1 1 0 0 0 0 0 0 0 0 0 0 0 0 0 0 0 0 0 0 0 0 0 0 0 0 0 0 0 0 0 0 0 0 0 0 0 0 0 0 0 0 0 0 0 0 0 0 0 0 0 0 0 0 0 0 0 0 0 0 0 0 0\n"
     ]
    },
    {
     "name": "stderr",
     "output_type": "stream",
     "text": [
      "INFO:tensorflow:input_mask: 1 1 1 0 0 0 0 0 0 0 0 0 0 0 0 0 0 0 0 0 0 0 0 0 0 0 0 0 0 0 0 0 0 0 0 0 0 0 0 0 0 0 0 0 0 0 0 0 0 0 0 0 0 0 0 0 0 0 0 0 0 0 0 0\n"
     ]
    },
    {
     "name": "stdout",
     "output_type": "stream",
     "text": [
      "INFO:tensorflow:segment_ids: 0 0 0 0 0 0 0 0 0 0 0 0 0 0 0 0 0 0 0 0 0 0 0 0 0 0 0 0 0 0 0 0 0 0 0 0 0 0 0 0 0 0 0 0 0 0 0 0 0 0 0 0 0 0 0 0 0 0 0 0 0 0 0 0\n"
     ]
    },
    {
     "name": "stderr",
     "output_type": "stream",
     "text": [
      "INFO:tensorflow:segment_ids: 0 0 0 0 0 0 0 0 0 0 0 0 0 0 0 0 0 0 0 0 0 0 0 0 0 0 0 0 0 0 0 0 0 0 0 0 0 0 0 0 0 0 0 0 0 0 0 0 0 0 0 0 0 0 0 0 0 0 0 0 0 0 0 0\n"
     ]
    },
    {
     "name": "stdout",
     "output_type": "stream",
     "text": [
      "INFO:tensorflow:label: 0 (id = 0)\n"
     ]
    },
    {
     "name": "stderr",
     "output_type": "stream",
     "text": [
      "INFO:tensorflow:label: 0 (id = 0)\n"
     ]
    }
   ],
   "source": [
    "\n",
    "# Convert our train and test features to InputFeatures that BERT understands.\n",
    "train_features = bert.run_classifier.convert_examples_to_features(train_InputExamples, label_list, MAX_SEQ_LENGTH, tokenizer)\n",
    "test_features = bert.run_classifier.convert_examples_to_features(test_InputExamples, label_list, MAX_SEQ_LENGTH, tokenizer)"
   ]
  },
  {
   "cell_type": "markdown",
   "metadata": {},
   "source": [
    "# Creating a model"
   ]
  },
  {
   "cell_type": "markdown",
   "metadata": {
    "colab_type": "text",
    "id": "ccp5trMwRtmr"
   },
   "source": [
    "Now that we've prepared our data, let's focus on building a model. `create_model` does just this below. First, it loads the BERT tf hub module again (this time to extract the computation graph). Next, it creates a single new layer that will be trained to adapt BERT to our classification task. This strategy of using a mostly trained model is called [fine-tuning](http://wiki.fast.ai/index.php/Fine_tuning)."
   ]
  },
  {
   "cell_type": "markdown",
   "metadata": {},
   "source": [
    "To understand the `pooled ouput` vs `sequence output` refer to https://www.kaggle.com/questions-and-answers/86510"
   ]
  },
  {
   "cell_type": "code",
   "execution_count": 393,
   "metadata": {
    "colab": {},
    "colab_type": "code",
    "id": "6o2a5ZIvRcJq"
   },
   "outputs": [],
   "source": [
    "def create_model(is_predicting, input_ids, input_mask, segment_ids, labels,\n",
    "                 num_labels):\n",
    "  \"\"\"Creates a classification model.\"\"\"\n",
    "\n",
    "  bert_module = hub.Module(\n",
    "      BERT_MODEL_HUB,\n",
    "      trainable=True)\n",
    "  bert_inputs = dict(\n",
    "      input_ids=input_ids,\n",
    "      input_mask=input_mask,\n",
    "      segment_ids=segment_ids)\n",
    "  bert_outputs = bert_module(\n",
    "      inputs=bert_inputs,\n",
    "      signature=\"tokens\",\n",
    "      as_dict=True)\n",
    "\n",
    "  # Use \"pooled_output\" for classification tasks on an entire sentence.\n",
    "  # Use \"sequence_outputs\" for token-level output.\n",
    "  output_layer = bert_outputs[\"pooled_output\"]\n",
    "\n",
    "  hidden_size = output_layer.shape[-1].value\n",
    "\n",
    "  # Create our own layer to tune for politeness data.\n",
    "  output_weights = tf.get_variable(\n",
    "      \"output_weights\", [num_labels, hidden_size],\n",
    "      initializer=tf.truncated_normal_initializer(stddev=0.02))\n",
    "\n",
    "  output_bias = tf.get_variable(\n",
    "      \"output_bias\", [num_labels], initializer=tf.zeros_initializer())\n",
    "\n",
    "  with tf.variable_scope(\"loss\"):\n",
    "\n",
    "    # Dropout helps prevent overfitting\n",
    "    output_layer = tf.nn.dropout(output_layer, keep_prob=0.9)\n",
    "    \n",
    "    # does the Ax multiplication\n",
    "    logits = tf.matmul(output_layer, output_weights, transpose_b=True)\n",
    "    # add the bias eg: Ax+B\n",
    "    logits = tf.nn.bias_add(logits, output_bias)\n",
    "    \n",
    "    \n",
    "    ########################### HERE ADDITIONAL LAYERS CAN BE ADDED ######################\n",
    "    \n",
    "    # compute the log softmax for each neurons/logit\n",
    "    log_probs = tf.nn.log_softmax(logits, axis=-1)\n",
    "    #compute the normal softmax to get the probabilities\n",
    "    probs = tf.nn.softmax(logits, axis=-1)\n",
    "    \n",
    "    # Convert labels into one-hot encoding\n",
    "    one_hot_labels = tf.one_hot(labels, depth=num_labels, dtype=tf.float32)\n",
    "    \n",
    "    #classes_weights = tf.constant([1.0,1.0,1.0,1.0,1.0,1.0,0.7], dtype=tf.float32)\n",
    "    #sample_weights = tf.multiply(one_hot_labels, classes_weights)\n",
    "    \n",
    "    \n",
    "    predicted_labels = tf.squeeze(tf.argmax(log_probs, axis=-1, output_type=tf.int32))\n",
    "    # If we're predicting, we want predicted labels and the probabiltiies.\n",
    "    if is_predicting:\n",
    "      return (predicted_labels, log_probs,probs)\n",
    "\n",
    "    # If we're train/eval, compute loss between predicted and actual label\n",
    "    #per_example_loss = -tf.reduce_sum(one_hot_labels * log_probs, axis=-1)\n",
    "    per_example_loss = -tf.reduce_sum(one_hot_labels * log_probs, axis=-1)\n",
    "    \n",
    "    loss = tf.reduce_mean(per_example_loss)\n",
    "    return (loss, predicted_labels, log_probs)\n"
   ]
  },
  {
   "cell_type": "markdown",
   "metadata": {
    "colab_type": "text",
    "id": "qpE0ZIDOCQzE"
   },
   "source": [
    "Next we'll wrap our model function in a `model_fn_builder` function that adapts our model to work for training, evaluation, and prediction."
   ]
  },
  {
   "cell_type": "code",
   "execution_count": 394,
   "metadata": {
    "colab": {},
    "colab_type": "code",
    "id": "FnH-AnOQ9KKW"
   },
   "outputs": [],
   "source": [
    "# model_fn_builder actually creates our model function\n",
    "# using the passed parameters for num_labels, learning_rate, etc.\n",
    "def model_fn_builder(num_labels, learning_rate, num_train_steps,\n",
    "                     num_warmup_steps):\n",
    "  \"\"\"Returns `model_fn` closure for TPUEstimator.\"\"\"\n",
    "  def model_fn(features, labels, mode, params):  # pylint: disable=unused-argument\n",
    "    \"\"\"The `model_fn` for TPUEstimator.\"\"\"\n",
    "\n",
    "    input_ids = features[\"input_ids\"]\n",
    "    input_mask = features[\"input_mask\"]\n",
    "    segment_ids = features[\"segment_ids\"]\n",
    "    label_ids = features[\"label_ids\"]\n",
    "\n",
    "    is_predicting = (mode == tf.estimator.ModeKeys.PREDICT)\n",
    "    \n",
    "    # TRAIN and EVAL\n",
    "    if not is_predicting:\n",
    "\n",
    "      (loss, predicted_labels, log_probs) = create_model(\n",
    "        is_predicting, input_ids, input_mask, segment_ids, label_ids, num_labels)\n",
    "\n",
    "      train_op = bert.optimization.create_optimizer(\n",
    "          loss, learning_rate, num_train_steps, num_warmup_steps, use_tpu=False)\n",
    "\n",
    "      # Calculate evaluation metrics. \n",
    "      def metric_fn(label_ids, predicted_labels):\n",
    "        accuracy = tf.metrics.accuracy(label_ids, predicted_labels)\n",
    "        \"\"\"\n",
    "        f1_score = tf.contrib.metrics.f1_score(\n",
    "            label_ids,\n",
    "            predicted_labels)\n",
    "        \n",
    "        auc = tf.metrics.auc(\n",
    "            label_ids,\n",
    "            predicted_labels)\"\"\"\n",
    "        recall = tf.metrics.recall(\n",
    "            label_ids,\n",
    "            predicted_labels)\n",
    "        precision = tf.metrics.precision(\n",
    "            label_ids,\n",
    "            predicted_labels) \n",
    "        true_pos = tf.metrics.true_positives(\n",
    "            label_ids,\n",
    "            predicted_labels)\n",
    "        true_neg = tf.metrics.true_negatives(\n",
    "            label_ids,\n",
    "            predicted_labels)   \n",
    "        false_pos = tf.metrics.false_positives(\n",
    "            label_ids,\n",
    "            predicted_labels)  \n",
    "        false_neg = tf.metrics.false_negatives(\n",
    "            label_ids,\n",
    "            predicted_labels)\n",
    "        return {\n",
    "            \"eval_accuracy\": accuracy,\n",
    "            #\"f1_score\": f1_score,\n",
    "            #\"auc\": auc,\n",
    "            \"precision\": precision,\n",
    "            \"recall\": recall,\n",
    "            \"true_positives\": true_pos,\n",
    "            \"true_negatives\": true_neg,\n",
    "            \"false_positives\": false_pos,\n",
    "            \"false_negatives\": false_neg\n",
    "        }\n",
    "\n",
    "      eval_metrics = metric_fn(label_ids, predicted_labels)\n",
    "\n",
    "      if mode == tf.estimator.ModeKeys.TRAIN:\n",
    "        return tf.estimator.EstimatorSpec(mode=mode,\n",
    "          loss=loss,\n",
    "          train_op=train_op)\n",
    "      else:\n",
    "          return tf.estimator.EstimatorSpec(mode=mode,\n",
    "            loss=loss,\n",
    "            eval_metric_ops=eval_metrics)\n",
    "    else:\n",
    "      (predicted_labels, log_probs,probs) = create_model(\n",
    "        is_predicting, input_ids, input_mask, segment_ids, label_ids, num_labels)\n",
    "\n",
    "      predictions = {\n",
    "          'probabilities': probs#,\n",
    "          #'labels': predicted_labels\n",
    "      }\n",
    "      return tf.estimator.EstimatorSpec(mode, predictions=predictions)\n",
    "\n",
    "  # Return the actual model function in the closure\n",
    "  return model_fn\n"
   ]
  },
  {
   "cell_type": "code",
   "execution_count": 395,
   "metadata": {
    "colab": {},
    "colab_type": "code",
    "id": "emHf9GhfWBZ_"
   },
   "outputs": [],
   "source": [
    "# Compute # train and warmup steps from batch size\n",
    "num_train_steps = int(len(train_features) / BATCH_SIZE * NUM_TRAIN_EPOCHS)\n",
    "num_warmup_steps = int(num_train_steps * WARMUP_PROPORTION)"
   ]
  },
  {
   "cell_type": "code",
   "execution_count": 396,
   "metadata": {
    "colab": {},
    "colab_type": "code",
    "id": "oEJldMr3WYZa"
   },
   "outputs": [],
   "source": [
    "# Specify outpit directory and number of checkpoint steps to save\n",
    "\n",
    "run_config = tf.estimator.RunConfig(\n",
    "    model_dir=OUTPUT_DIR,\n",
    "    save_summary_steps=SAVE_SUMMARY_STEPS,\n",
    "    save_checkpoints_steps=SAVE_CHECKPOINTS_STEPS)"
   ]
  },
  {
   "cell_type": "code",
   "execution_count": 397,
   "metadata": {
    "colab": {
     "base_uri": "https://localhost:8080/",
     "height": 156
    },
    "colab_type": "code",
    "id": "q_WebpS1X97v",
    "outputId": "1648932a-7391-49d3-8af7-52d514e226e8"
   },
   "outputs": [
    {
     "name": "stdout",
     "output_type": "stream",
     "text": [
      "INFO:tensorflow:Using config: {'_model_dir': './models/test/', '_tf_random_seed': None, '_save_summary_steps': 100, '_save_checkpoints_steps': 1000, '_save_checkpoints_secs': None, '_session_config': allow_soft_placement: true\n",
      "graph_options {\n",
      "  rewrite_options {\n",
      "    meta_optimizer_iterations: ONE\n",
      "  }\n",
      "}\n",
      ", '_keep_checkpoint_max': 5, '_keep_checkpoint_every_n_hours': 10000, '_log_step_count_steps': 100, '_train_distribute': None, '_device_fn': None, '_protocol': None, '_eval_distribute': None, '_experimental_distribute': None, '_experimental_max_worker_delay_secs': None, '_session_creation_timeout_secs': 7200, '_service': None, '_cluster_spec': <tensorflow.python.training.server_lib.ClusterSpec object at 0x7faa081fcd30>, '_task_type': 'worker', '_task_id': 0, '_global_id_in_cluster': 0, '_master': '', '_evaluation_master': '', '_is_chief': True, '_num_ps_replicas': 0, '_num_worker_replicas': 1}\n"
     ]
    },
    {
     "name": "stderr",
     "output_type": "stream",
     "text": [
      "INFO:tensorflow:Using config: {'_model_dir': './models/test/', '_tf_random_seed': None, '_save_summary_steps': 100, '_save_checkpoints_steps': 1000, '_save_checkpoints_secs': None, '_session_config': allow_soft_placement: true\n",
      "graph_options {\n",
      "  rewrite_options {\n",
      "    meta_optimizer_iterations: ONE\n",
      "  }\n",
      "}\n",
      ", '_keep_checkpoint_max': 5, '_keep_checkpoint_every_n_hours': 10000, '_log_step_count_steps': 100, '_train_distribute': None, '_device_fn': None, '_protocol': None, '_eval_distribute': None, '_experimental_distribute': None, '_experimental_max_worker_delay_secs': None, '_session_creation_timeout_secs': 7200, '_service': None, '_cluster_spec': <tensorflow.python.training.server_lib.ClusterSpec object at 0x7faa081fcd30>, '_task_type': 'worker', '_task_id': 0, '_global_id_in_cluster': 0, '_master': '', '_evaluation_master': '', '_is_chief': True, '_num_ps_replicas': 0, '_num_worker_replicas': 1}\n"
     ]
    }
   ],
   "source": [
    "model_fn = model_fn_builder(\n",
    "  num_labels=len(label_list),\n",
    "  learning_rate=LEARNING_RATE,\n",
    "  num_train_steps=num_train_steps,\n",
    "  num_warmup_steps=num_warmup_steps)\n",
    "\n",
    "estimator = tf.estimator.Estimator(\n",
    "  model_fn=model_fn,\n",
    "  config=run_config,\n",
    "  params={\"batch_size\": BATCH_SIZE})\n"
   ]
  },
  {
   "cell_type": "markdown",
   "metadata": {
    "colab_type": "text",
    "id": "NOO3RfG1DYLo"
   },
   "source": [
    "Next we create an input builder function that takes our training feature set (`train_features`) and produces a generator. This is a pretty standard design pattern for working with Tensorflow [Estimators](https://www.tensorflow.org/guide/estimators)."
   ]
  },
  {
   "cell_type": "code",
   "execution_count": 398,
   "metadata": {
    "colab": {},
    "colab_type": "code",
    "id": "1Pv2bAlOX_-K"
   },
   "outputs": [],
   "source": [
    "# Create an input function for training. drop_remainder = True for using TPUs.\n",
    "train_input_fn = bert.run_classifier.input_fn_builder(\n",
    "    features=train_features,\n",
    "    seq_length=MAX_SEQ_LENGTH,\n",
    "    is_training=True,\n",
    "    drop_remainder=False)"
   ]
  },
  {
   "cell_type": "markdown",
   "metadata": {
    "colab_type": "text",
    "id": "t6Nukby2EB6-"
   },
   "source": [
    "# Training the model"
   ]
  },
  {
   "cell_type": "code",
   "execution_count": 399,
   "metadata": {
    "colab": {
     "base_uri": "https://localhost:8080/",
     "height": 68
    },
    "colab_type": "code",
    "id": "nucD4gluYJmK",
    "outputId": "5d728e72-4631-42bf-c48d-3f51d4b968ce"
   },
   "outputs": [
    {
     "name": "stdout",
     "output_type": "stream",
     "text": [
      "Beginning Training!\n",
      "INFO:tensorflow:Calling model_fn.\n"
     ]
    },
    {
     "name": "stderr",
     "output_type": "stream",
     "text": [
      "INFO:tensorflow:Calling model_fn.\n"
     ]
    },
    {
     "name": "stdout",
     "output_type": "stream",
     "text": [
      "INFO:tensorflow:Saver not created because there are no variables in the graph to restore\n"
     ]
    },
    {
     "name": "stderr",
     "output_type": "stream",
     "text": [
      "INFO:tensorflow:Saver not created because there are no variables in the graph to restore\n",
      "/commuter/thierrylincoln/Tf1.1_py36/lib/python3.6/site-packages/tensorflow_core/python/framework/indexed_slices.py:424: UserWarning: Converting sparse IndexedSlices to a dense Tensor of unknown shape. This may consume a large amount of memory.\n",
      "  \"Converting sparse IndexedSlices to a dense Tensor of unknown shape. \"\n"
     ]
    },
    {
     "name": "stdout",
     "output_type": "stream",
     "text": [
      "INFO:tensorflow:Done calling model_fn.\n"
     ]
    },
    {
     "name": "stderr",
     "output_type": "stream",
     "text": [
      "INFO:tensorflow:Done calling model_fn.\n"
     ]
    },
    {
     "name": "stdout",
     "output_type": "stream",
     "text": [
      "INFO:tensorflow:Create CheckpointSaverHook.\n"
     ]
    },
    {
     "name": "stderr",
     "output_type": "stream",
     "text": [
      "INFO:tensorflow:Create CheckpointSaverHook.\n"
     ]
    },
    {
     "name": "stdout",
     "output_type": "stream",
     "text": [
      "INFO:tensorflow:Graph was finalized.\n"
     ]
    },
    {
     "name": "stderr",
     "output_type": "stream",
     "text": [
      "INFO:tensorflow:Graph was finalized.\n"
     ]
    },
    {
     "name": "stdout",
     "output_type": "stream",
     "text": [
      "INFO:tensorflow:Running local_init_op.\n"
     ]
    },
    {
     "name": "stderr",
     "output_type": "stream",
     "text": [
      "INFO:tensorflow:Running local_init_op.\n"
     ]
    },
    {
     "name": "stdout",
     "output_type": "stream",
     "text": [
      "INFO:tensorflow:Done running local_init_op.\n"
     ]
    },
    {
     "name": "stderr",
     "output_type": "stream",
     "text": [
      "INFO:tensorflow:Done running local_init_op.\n"
     ]
    },
    {
     "name": "stdout",
     "output_type": "stream",
     "text": [
      "INFO:tensorflow:Saving checkpoints for 0 into ./models/test/model.ckpt.\n"
     ]
    },
    {
     "name": "stderr",
     "output_type": "stream",
     "text": [
      "INFO:tensorflow:Saving checkpoints for 0 into ./models/test/model.ckpt.\n"
     ]
    },
    {
     "name": "stdout",
     "output_type": "stream",
     "text": [
      "INFO:tensorflow:loss = 2.0956104, step = 0\n"
     ]
    },
    {
     "name": "stderr",
     "output_type": "stream",
     "text": [
      "INFO:tensorflow:loss = 2.0956104, step = 0\n"
     ]
    },
    {
     "name": "stdout",
     "output_type": "stream",
     "text": [
      "INFO:tensorflow:global_step/sec: 2.54038\n"
     ]
    },
    {
     "name": "stderr",
     "output_type": "stream",
     "text": [
      "INFO:tensorflow:global_step/sec: 2.54038\n"
     ]
    },
    {
     "name": "stdout",
     "output_type": "stream",
     "text": [
      "INFO:tensorflow:loss = 0.7084113, step = 100 (39.365 sec)\n"
     ]
    },
    {
     "name": "stderr",
     "output_type": "stream",
     "text": [
      "INFO:tensorflow:loss = 0.7084113, step = 100 (39.365 sec)\n"
     ]
    },
    {
     "name": "stdout",
     "output_type": "stream",
     "text": [
      "INFO:tensorflow:Saving checkpoints for 140 into ./models/test/model.ckpt.\n"
     ]
    },
    {
     "name": "stderr",
     "output_type": "stream",
     "text": [
      "INFO:tensorflow:Saving checkpoints for 140 into ./models/test/model.ckpt.\n"
     ]
    },
    {
     "name": "stdout",
     "output_type": "stream",
     "text": [
      "INFO:tensorflow:Loss for final step: 1.3265674.\n"
     ]
    },
    {
     "name": "stderr",
     "output_type": "stream",
     "text": [
      "INFO:tensorflow:Loss for final step: 1.3265674.\n"
     ]
    },
    {
     "name": "stdout",
     "output_type": "stream",
     "text": [
      "Training took time  0:01:24.356942\n"
     ]
    }
   ],
   "source": [
    "print(f'Beginning Training!')\n",
    "current_time = datetime.now()\n",
    "estimator.train(input_fn=train_input_fn, max_steps=num_train_steps)\n",
    "print(\"Training took time \", datetime.now() - current_time)"
   ]
  },
  {
   "cell_type": "markdown",
   "metadata": {
    "colab_type": "text",
    "id": "CmbLTVniARy3"
   },
   "source": [
    "# Evaluating the model on Test Set"
   ]
  },
  {
   "cell_type": "code",
   "execution_count": 400,
   "metadata": {
    "colab": {},
    "colab_type": "code",
    "id": "JIhejfpyJ8Bx"
   },
   "outputs": [],
   "source": [
    "test_input_fn = bert.run_classifier.input_fn_builder(\n",
    "    features=test_features,\n",
    "    seq_length=MAX_SEQ_LENGTH,\n",
    "    is_training=False,\n",
    "    drop_remainder=False)"
   ]
  },
  {
   "cell_type": "code",
   "execution_count": 401,
   "metadata": {
    "colab": {
     "base_uri": "https://localhost:8080/",
     "height": 445
    },
    "colab_type": "code",
    "id": "PPVEXhNjYXC-",
    "outputId": "dd5482cd-c558-465f-c854-ec11a0175316"
   },
   "outputs": [],
   "source": [
    "#estimator.evaluate(input_fn=test_input_fn, steps=None)"
   ]
  },
  {
   "cell_type": "code",
   "execution_count": 402,
   "metadata": {
    "scrolled": true
   },
   "outputs": [
    {
     "name": "stdout",
     "output_type": "stream",
     "text": [
      "INFO:tensorflow:Calling model_fn.\n"
     ]
    },
    {
     "name": "stderr",
     "output_type": "stream",
     "text": [
      "INFO:tensorflow:Calling model_fn.\n"
     ]
    },
    {
     "name": "stdout",
     "output_type": "stream",
     "text": [
      "INFO:tensorflow:Saver not created because there are no variables in the graph to restore\n"
     ]
    },
    {
     "name": "stderr",
     "output_type": "stream",
     "text": [
      "INFO:tensorflow:Saver not created because there are no variables in the graph to restore\n"
     ]
    },
    {
     "name": "stdout",
     "output_type": "stream",
     "text": [
      "INFO:tensorflow:Done calling model_fn.\n"
     ]
    },
    {
     "name": "stderr",
     "output_type": "stream",
     "text": [
      "INFO:tensorflow:Done calling model_fn.\n"
     ]
    },
    {
     "name": "stdout",
     "output_type": "stream",
     "text": [
      "INFO:tensorflow:Graph was finalized.\n"
     ]
    },
    {
     "name": "stderr",
     "output_type": "stream",
     "text": [
      "INFO:tensorflow:Graph was finalized.\n"
     ]
    },
    {
     "name": "stdout",
     "output_type": "stream",
     "text": [
      "INFO:tensorflow:Restoring parameters from ./models/test/model.ckpt-140\n"
     ]
    },
    {
     "name": "stderr",
     "output_type": "stream",
     "text": [
      "INFO:tensorflow:Restoring parameters from ./models/test/model.ckpt-140\n"
     ]
    },
    {
     "name": "stdout",
     "output_type": "stream",
     "text": [
      "INFO:tensorflow:Running local_init_op.\n"
     ]
    },
    {
     "name": "stderr",
     "output_type": "stream",
     "text": [
      "INFO:tensorflow:Running local_init_op.\n"
     ]
    },
    {
     "name": "stdout",
     "output_type": "stream",
     "text": [
      "INFO:tensorflow:Done running local_init_op.\n"
     ]
    },
    {
     "name": "stderr",
     "output_type": "stream",
     "text": [
      "INFO:tensorflow:Done running local_init_op.\n"
     ]
    }
   ],
   "source": [
    "#fetching all the probabilities for each line of the test set\n",
    "test_probabilities = [x[0]['probabilities'] for x in zip(estimator.predict(test_input_fn,yield_single_examples=True))]\n",
    "\n",
    "#taking the argmex for the highest category\n",
    "test_final_labels = np.array(test_probabilities).argmax(axis=1)"
   ]
  },
  {
   "cell_type": "markdown",
   "metadata": {},
   "source": [
    "### Classification Report"
   ]
  },
  {
   "cell_type": "code",
   "execution_count": 403,
   "metadata": {},
   "outputs": [
    {
     "name": "stdout",
     "output_type": "stream",
     "text": [
      "              precision    recall  f1-score     support\n",
      "0              0.921569  0.783333  0.846847   60.000000\n",
      "1              0.692308  0.750000  0.720000   12.000000\n",
      "2              0.222222  0.666667  0.333333    9.000000\n",
      "3              0.866667  0.684211  0.764706   19.000000\n",
      "4              0.625000  0.789474  0.697674   19.000000\n",
      "5              0.812500  1.000000  0.896552   13.000000\n",
      "6              0.000000  0.000000  0.000000   12.000000\n",
      "7              0.000000  0.000000  0.000000    2.000000\n",
      "accuracy       0.705479  0.705479  0.705479    0.705479\n",
      "macro avg      0.517533  0.584211  0.532389  146.000000\n",
      "weighted avg   0.715794  0.705479  0.697885  146.000000\n"
     ]
    },
    {
     "name": "stderr",
     "output_type": "stream",
     "text": [
      "/commuter/thierrylincoln/Tf1.1_py36/lib/python3.6/site-packages/sklearn/metrics/_classification.py:1268: UndefinedMetricWarning: Precision and F-score are ill-defined and being set to 0.0 in labels with no predicted samples. Use `zero_division` parameter to control this behavior.\n",
      "  _warn_prf(average, modifier, msg_start, len(result))\n"
     ]
    }
   ],
   "source": [
    "report = pd.DataFrame(classification_report(list(test[LABEL_COLUMN]),list(test_final_labels),zero_division=0, output_dict=True)).T\n",
    "\n",
    "print(report)"
   ]
  },
  {
   "cell_type": "markdown",
   "metadata": {},
   "source": [
    "### Confusion Matrix"
   ]
  },
  {
   "cell_type": "code",
   "execution_count": 404,
   "metadata": {},
   "outputs": [
    {
     "data": {
      "image/png": "[encoded data removed]",
      "text/plain": [
       "<Figure size 432x288 with 1 Axes>"
      ]
     },
     "metadata": {
      "needs_background": "light"
     },
     "output_type": "display_data"
    },
    {
     "data": {
      "image/png": "[encoded data removed]",
      "text/plain": [
       "<Figure size 432x288 with 1 Axes>"
      ]
     },
     "metadata": {
      "needs_background": "light"
     },
     "output_type": "display_data"
    }
   ],
   "source": [
    "get_confusion_matrix(y_test=test[LABEL_COLUMN],predicted=test_final_labels,labels=label_list_text)"
   ]
  },
  {
   "cell_type": "markdown",
   "metadata": {},
   "source": [
    "### Exporting test set with probabilities"
   ]
  },
  {
   "cell_type": "code",
   "execution_count": 405,
   "metadata": {},
   "outputs": [
    {
     "name": "stdout",
     "output_type": "stream",
     "text": [
      "INFO:tensorflow:Writing example 0 of 146\n"
     ]
    },
    {
     "name": "stderr",
     "output_type": "stream",
     "text": [
      "INFO:tensorflow:Writing example 0 of 146\n"
     ]
    },
    {
     "name": "stdout",
     "output_type": "stream",
     "text": [
      "INFO:tensorflow:*** Example ***\n"
     ]
    },
    {
     "name": "stderr",
     "output_type": "stream",
     "text": [
      "INFO:tensorflow:*** Example ***\n"
     ]
    },
    {
     "name": "stdout",
     "output_type": "stream",
     "text": [
      "INFO:tensorflow:guid: \n"
     ]
    },
    {
     "name": "stderr",
     "output_type": "stream",
     "text": [
      "INFO:tensorflow:guid: \n"
     ]
    },
    {
     "name": "stdout",
     "output_type": "stream",
     "text": [
      "INFO:tensorflow:tokens: [CLS] figuring out what classes i want to take [SEP]\n"
     ]
    },
    {
     "name": "stderr",
     "output_type": "stream",
     "text": [
      "INFO:tensorflow:tokens: [CLS] figuring out what classes i want to take [SEP]\n"
     ]
    },
    {
     "name": "stdout",
     "output_type": "stream",
     "text": [
      "INFO:tensorflow:input_ids: 101 23218 2041 2054 4280 1045 2215 2000 2202 102 0 0 0 0 0 0 0 0 0 0 0 0 0 0 0 0 0 0 0 0 0 0 0 0 0 0 0 0 0 0 0 0 0 0 0 0 0 0 0 0 0 0 0 0 0 0 0 0 0 0 0 0 0 0\n"
     ]
    },
    {
     "name": "stderr",
     "output_type": "stream",
     "text": [
      "INFO:tensorflow:input_ids: 101 23218 2041 2054 4280 1045 2215 2000 2202 102 0 0 0 0 0 0 0 0 0 0 0 0 0 0 0 0 0 0 0 0 0 0 0 0 0 0 0 0 0 0 0 0 0 0 0 0 0 0 0 0 0 0 0 0 0 0 0 0 0 0 0 0 0 0\n"
     ]
    },
    {
     "name": "stdout",
     "output_type": "stream",
     "text": [
      "INFO:tensorflow:input_mask: 1 1 1 1 1 1 1 1 1 1 0 0 0 0 0 0 0 0 0 0 0 0 0 0 0 0 0 0 0 0 0 0 0 0 0 0 0 0 0 0 0 0 0 0 0 0 0 0 0 0 0 0 0 0 0 0 0 0 0 0 0 0 0 0\n"
     ]
    },
    {
     "name": "stderr",
     "output_type": "stream",
     "text": [
      "INFO:tensorflow:input_mask: 1 1 1 1 1 1 1 1 1 1 0 0 0 0 0 0 0 0 0 0 0 0 0 0 0 0 0 0 0 0 0 0 0 0 0 0 0 0 0 0 0 0 0 0 0 0 0 0 0 0 0 0 0 0 0 0 0 0 0 0 0 0 0 0\n"
     ]
    },
    {
     "name": "stdout",
     "output_type": "stream",
     "text": [
      "INFO:tensorflow:segment_ids: 0 0 0 0 0 0 0 0 0 0 0 0 0 0 0 0 0 0 0 0 0 0 0 0 0 0 0 0 0 0 0 0 0 0 0 0 0 0 0 0 0 0 0 0 0 0 0 0 0 0 0 0 0 0 0 0 0 0 0 0 0 0 0 0\n"
     ]
    },
    {
     "name": "stderr",
     "output_type": "stream",
     "text": [
      "INFO:tensorflow:segment_ids: 0 0 0 0 0 0 0 0 0 0 0 0 0 0 0 0 0 0 0 0 0 0 0 0 0 0 0 0 0 0 0 0 0 0 0 0 0 0 0 0 0 0 0 0 0 0 0 0 0 0 0 0 0 0 0 0 0 0 0 0 0 0 0 0\n"
     ]
    },
    {
     "name": "stdout",
     "output_type": "stream",
     "text": [
      "INFO:tensorflow:label: 0 (id = 0)\n"
     ]
    },
    {
     "name": "stderr",
     "output_type": "stream",
     "text": [
      "INFO:tensorflow:label: 0 (id = 0)\n"
     ]
    },
    {
     "name": "stdout",
     "output_type": "stream",
     "text": [
      "INFO:tensorflow:*** Example ***\n"
     ]
    },
    {
     "name": "stderr",
     "output_type": "stream",
     "text": [
      "INFO:tensorflow:*** Example ***\n"
     ]
    },
    {
     "name": "stdout",
     "output_type": "stream",
     "text": [
      "INFO:tensorflow:guid: \n"
     ]
    },
    {
     "name": "stderr",
     "output_type": "stream",
     "text": [
      "INFO:tensorflow:guid: \n"
     ]
    },
    {
     "name": "stdout",
     "output_type": "stream",
     "text": [
      "INFO:tensorflow:tokens: [CLS] i have been worried about the results of my son ' s blood work . [SEP]\n"
     ]
    },
    {
     "name": "stderr",
     "output_type": "stream",
     "text": [
      "INFO:tensorflow:tokens: [CLS] i have been worried about the results of my son ' s blood work . [SEP]\n"
     ]
    },
    {
     "name": "stdout",
     "output_type": "stream",
     "text": [
      "INFO:tensorflow:input_ids: 101 1045 2031 2042 5191 2055 1996 3463 1997 2026 2365 1005 1055 2668 2147 1012 102 0 0 0 0 0 0 0 0 0 0 0 0 0 0 0 0 0 0 0 0 0 0 0 0 0 0 0 0 0 0 0 0 0 0 0 0 0 0 0 0 0 0 0 0 0 0 0\n"
     ]
    },
    {
     "name": "stderr",
     "output_type": "stream",
     "text": [
      "INFO:tensorflow:input_ids: 101 1045 2031 2042 5191 2055 1996 3463 1997 2026 2365 1005 1055 2668 2147 1012 102 0 0 0 0 0 0 0 0 0 0 0 0 0 0 0 0 0 0 0 0 0 0 0 0 0 0 0 0 0 0 0 0 0 0 0 0 0 0 0 0 0 0 0 0 0 0 0\n"
     ]
    },
    {
     "name": "stdout",
     "output_type": "stream",
     "text": [
      "INFO:tensorflow:input_mask: 1 1 1 1 1 1 1 1 1 1 1 1 1 1 1 1 1 0 0 0 0 0 0 0 0 0 0 0 0 0 0 0 0 0 0 0 0 0 0 0 0 0 0 0 0 0 0 0 0 0 0 0 0 0 0 0 0 0 0 0 0 0 0 0\n"
     ]
    },
    {
     "name": "stderr",
     "output_type": "stream",
     "text": [
      "INFO:tensorflow:input_mask: 1 1 1 1 1 1 1 1 1 1 1 1 1 1 1 1 1 0 0 0 0 0 0 0 0 0 0 0 0 0 0 0 0 0 0 0 0 0 0 0 0 0 0 0 0 0 0 0 0 0 0 0 0 0 0 0 0 0 0 0 0 0 0 0\n"
     ]
    },
    {
     "name": "stdout",
     "output_type": "stream",
     "text": [
      "INFO:tensorflow:segment_ids: 0 0 0 0 0 0 0 0 0 0 0 0 0 0 0 0 0 0 0 0 0 0 0 0 0 0 0 0 0 0 0 0 0 0 0 0 0 0 0 0 0 0 0 0 0 0 0 0 0 0 0 0 0 0 0 0 0 0 0 0 0 0 0 0\n"
     ]
    },
    {
     "name": "stderr",
     "output_type": "stream",
     "text": [
      "INFO:tensorflow:segment_ids: 0 0 0 0 0 0 0 0 0 0 0 0 0 0 0 0 0 0 0 0 0 0 0 0 0 0 0 0 0 0 0 0 0 0 0 0 0 0 0 0 0 0 0 0 0 0 0 0 0 0 0 0 0 0 0 0 0 0 0 0 0 0 0 0\n"
     ]
    },
    {
     "name": "stdout",
     "output_type": "stream",
     "text": [
      "INFO:tensorflow:label: 0 (id = 0)\n"
     ]
    },
    {
     "name": "stderr",
     "output_type": "stream",
     "text": [
      "INFO:tensorflow:label: 0 (id = 0)\n"
     ]
    },
    {
     "name": "stdout",
     "output_type": "stream",
     "text": [
      "INFO:tensorflow:*** Example ***\n"
     ]
    },
    {
     "name": "stderr",
     "output_type": "stream",
     "text": [
      "INFO:tensorflow:*** Example ***\n"
     ]
    },
    {
     "name": "stdout",
     "output_type": "stream",
     "text": [
      "INFO:tensorflow:guid: \n"
     ]
    },
    {
     "name": "stderr",
     "output_type": "stream",
     "text": [
      "INFO:tensorflow:guid: \n"
     ]
    },
    {
     "name": "stdout",
     "output_type": "stream",
     "text": [
      "INFO:tensorflow:tokens: [CLS] job [SEP]\n"
     ]
    },
    {
     "name": "stderr",
     "output_type": "stream",
     "text": [
      "INFO:tensorflow:tokens: [CLS] job [SEP]\n"
     ]
    },
    {
     "name": "stdout",
     "output_type": "stream",
     "text": [
      "INFO:tensorflow:input_ids: 101 3105 102 0 0 0 0 0 0 0 0 0 0 0 0 0 0 0 0 0 0 0 0 0 0 0 0 0 0 0 0 0 0 0 0 0 0 0 0 0 0 0 0 0 0 0 0 0 0 0 0 0 0 0 0 0 0 0 0 0 0 0 0 0\n"
     ]
    },
    {
     "name": "stderr",
     "output_type": "stream",
     "text": [
      "INFO:tensorflow:input_ids: 101 3105 102 0 0 0 0 0 0 0 0 0 0 0 0 0 0 0 0 0 0 0 0 0 0 0 0 0 0 0 0 0 0 0 0 0 0 0 0 0 0 0 0 0 0 0 0 0 0 0 0 0 0 0 0 0 0 0 0 0 0 0 0 0\n"
     ]
    },
    {
     "name": "stdout",
     "output_type": "stream",
     "text": [
      "INFO:tensorflow:input_mask: 1 1 1 0 0 0 0 0 0 0 0 0 0 0 0 0 0 0 0 0 0 0 0 0 0 0 0 0 0 0 0 0 0 0 0 0 0 0 0 0 0 0 0 0 0 0 0 0 0 0 0 0 0 0 0 0 0 0 0 0 0 0 0 0\n"
     ]
    },
    {
     "name": "stderr",
     "output_type": "stream",
     "text": [
      "INFO:tensorflow:input_mask: 1 1 1 0 0 0 0 0 0 0 0 0 0 0 0 0 0 0 0 0 0 0 0 0 0 0 0 0 0 0 0 0 0 0 0 0 0 0 0 0 0 0 0 0 0 0 0 0 0 0 0 0 0 0 0 0 0 0 0 0 0 0 0 0\n"
     ]
    },
    {
     "name": "stdout",
     "output_type": "stream",
     "text": [
      "INFO:tensorflow:segment_ids: 0 0 0 0 0 0 0 0 0 0 0 0 0 0 0 0 0 0 0 0 0 0 0 0 0 0 0 0 0 0 0 0 0 0 0 0 0 0 0 0 0 0 0 0 0 0 0 0 0 0 0 0 0 0 0 0 0 0 0 0 0 0 0 0\n"
     ]
    },
    {
     "name": "stderr",
     "output_type": "stream",
     "text": [
      "INFO:tensorflow:segment_ids: 0 0 0 0 0 0 0 0 0 0 0 0 0 0 0 0 0 0 0 0 0 0 0 0 0 0 0 0 0 0 0 0 0 0 0 0 0 0 0 0 0 0 0 0 0 0 0 0 0 0 0 0 0 0 0 0 0 0 0 0 0 0 0 0\n"
     ]
    },
    {
     "name": "stdout",
     "output_type": "stream",
     "text": [
      "INFO:tensorflow:label: 0 (id = 0)\n"
     ]
    },
    {
     "name": "stderr",
     "output_type": "stream",
     "text": [
      "INFO:tensorflow:label: 0 (id = 0)\n"
     ]
    },
    {
     "name": "stdout",
     "output_type": "stream",
     "text": [
      "INFO:tensorflow:*** Example ***\n"
     ]
    },
    {
     "name": "stderr",
     "output_type": "stream",
     "text": [
      "INFO:tensorflow:*** Example ***\n"
     ]
    },
    {
     "name": "stdout",
     "output_type": "stream",
     "text": [
      "INFO:tensorflow:guid: \n"
     ]
    },
    {
     "name": "stderr",
     "output_type": "stream",
     "text": [
      "INFO:tensorflow:guid: \n"
     ]
    },
    {
     "name": "stdout",
     "output_type": "stream",
     "text": [
      "INFO:tensorflow:tokens: [CLS] i have ma lot of work at my office , i need some time off [SEP]\n"
     ]
    },
    {
     "name": "stderr",
     "output_type": "stream",
     "text": [
      "INFO:tensorflow:tokens: [CLS] i have ma lot of work at my office , i need some time off [SEP]\n"
     ]
    },
    {
     "name": "stdout",
     "output_type": "stream",
     "text": [
      "INFO:tensorflow:input_ids: 101 1045 2031 5003 2843 1997 2147 2012 2026 2436 1010 1045 2342 2070 2051 2125 102 0 0 0 0 0 0 0 0 0 0 0 0 0 0 0 0 0 0 0 0 0 0 0 0 0 0 0 0 0 0 0 0 0 0 0 0 0 0 0 0 0 0 0 0 0 0 0\n"
     ]
    },
    {
     "name": "stderr",
     "output_type": "stream",
     "text": [
      "INFO:tensorflow:input_ids: 101 1045 2031 5003 2843 1997 2147 2012 2026 2436 1010 1045 2342 2070 2051 2125 102 0 0 0 0 0 0 0 0 0 0 0 0 0 0 0 0 0 0 0 0 0 0 0 0 0 0 0 0 0 0 0 0 0 0 0 0 0 0 0 0 0 0 0 0 0 0 0\n"
     ]
    },
    {
     "name": "stdout",
     "output_type": "stream",
     "text": [
      "INFO:tensorflow:input_mask: 1 1 1 1 1 1 1 1 1 1 1 1 1 1 1 1 1 0 0 0 0 0 0 0 0 0 0 0 0 0 0 0 0 0 0 0 0 0 0 0 0 0 0 0 0 0 0 0 0 0 0 0 0 0 0 0 0 0 0 0 0 0 0 0\n"
     ]
    },
    {
     "name": "stderr",
     "output_type": "stream",
     "text": [
      "INFO:tensorflow:input_mask: 1 1 1 1 1 1 1 1 1 1 1 1 1 1 1 1 1 0 0 0 0 0 0 0 0 0 0 0 0 0 0 0 0 0 0 0 0 0 0 0 0 0 0 0 0 0 0 0 0 0 0 0 0 0 0 0 0 0 0 0 0 0 0 0\n"
     ]
    },
    {
     "name": "stdout",
     "output_type": "stream",
     "text": [
      "INFO:tensorflow:segment_ids: 0 0 0 0 0 0 0 0 0 0 0 0 0 0 0 0 0 0 0 0 0 0 0 0 0 0 0 0 0 0 0 0 0 0 0 0 0 0 0 0 0 0 0 0 0 0 0 0 0 0 0 0 0 0 0 0 0 0 0 0 0 0 0 0\n"
     ]
    },
    {
     "name": "stderr",
     "output_type": "stream",
     "text": [
      "INFO:tensorflow:segment_ids: 0 0 0 0 0 0 0 0 0 0 0 0 0 0 0 0 0 0 0 0 0 0 0 0 0 0 0 0 0 0 0 0 0 0 0 0 0 0 0 0 0 0 0 0 0 0 0 0 0 0 0 0 0 0 0 0 0 0 0 0 0 0 0 0\n"
     ]
    },
    {
     "name": "stdout",
     "output_type": "stream",
     "text": [
      "INFO:tensorflow:label: 0 (id = 0)\n"
     ]
    },
    {
     "name": "stderr",
     "output_type": "stream",
     "text": [
      "INFO:tensorflow:label: 0 (id = 0)\n"
     ]
    },
    {
     "name": "stdout",
     "output_type": "stream",
     "text": [
      "INFO:tensorflow:*** Example ***\n"
     ]
    },
    {
     "name": "stderr",
     "output_type": "stream",
     "text": [
      "INFO:tensorflow:*** Example ***\n"
     ]
    },
    {
     "name": "stdout",
     "output_type": "stream",
     "text": [
      "INFO:tensorflow:guid: \n"
     ]
    },
    {
     "name": "stderr",
     "output_type": "stream",
     "text": [
      "INFO:tensorflow:guid: \n"
     ]
    },
    {
     "name": "stdout",
     "output_type": "stream",
     "text": [
      "INFO:tensorflow:tokens: [CLS] productivity [SEP]\n"
     ]
    },
    {
     "name": "stderr",
     "output_type": "stream",
     "text": [
      "INFO:tensorflow:tokens: [CLS] productivity [SEP]\n"
     ]
    },
    {
     "name": "stdout",
     "output_type": "stream",
     "text": [
      "INFO:tensorflow:input_ids: 101 15836 102 0 0 0 0 0 0 0 0 0 0 0 0 0 0 0 0 0 0 0 0 0 0 0 0 0 0 0 0 0 0 0 0 0 0 0 0 0 0 0 0 0 0 0 0 0 0 0 0 0 0 0 0 0 0 0 0 0 0 0 0 0\n"
     ]
    },
    {
     "name": "stderr",
     "output_type": "stream",
     "text": [
      "INFO:tensorflow:input_ids: 101 15836 102 0 0 0 0 0 0 0 0 0 0 0 0 0 0 0 0 0 0 0 0 0 0 0 0 0 0 0 0 0 0 0 0 0 0 0 0 0 0 0 0 0 0 0 0 0 0 0 0 0 0 0 0 0 0 0 0 0 0 0 0 0\n"
     ]
    },
    {
     "name": "stdout",
     "output_type": "stream",
     "text": [
      "INFO:tensorflow:input_mask: 1 1 1 0 0 0 0 0 0 0 0 0 0 0 0 0 0 0 0 0 0 0 0 0 0 0 0 0 0 0 0 0 0 0 0 0 0 0 0 0 0 0 0 0 0 0 0 0 0 0 0 0 0 0 0 0 0 0 0 0 0 0 0 0\n"
     ]
    },
    {
     "name": "stderr",
     "output_type": "stream",
     "text": [
      "INFO:tensorflow:input_mask: 1 1 1 0 0 0 0 0 0 0 0 0 0 0 0 0 0 0 0 0 0 0 0 0 0 0 0 0 0 0 0 0 0 0 0 0 0 0 0 0 0 0 0 0 0 0 0 0 0 0 0 0 0 0 0 0 0 0 0 0 0 0 0 0\n"
     ]
    },
    {
     "name": "stdout",
     "output_type": "stream",
     "text": [
      "INFO:tensorflow:segment_ids: 0 0 0 0 0 0 0 0 0 0 0 0 0 0 0 0 0 0 0 0 0 0 0 0 0 0 0 0 0 0 0 0 0 0 0 0 0 0 0 0 0 0 0 0 0 0 0 0 0 0 0 0 0 0 0 0 0 0 0 0 0 0 0 0\n"
     ]
    },
    {
     "name": "stderr",
     "output_type": "stream",
     "text": [
      "INFO:tensorflow:segment_ids: 0 0 0 0 0 0 0 0 0 0 0 0 0 0 0 0 0 0 0 0 0 0 0 0 0 0 0 0 0 0 0 0 0 0 0 0 0 0 0 0 0 0 0 0 0 0 0 0 0 0 0 0 0 0 0 0 0 0 0 0 0 0 0 0\n"
     ]
    },
    {
     "name": "stdout",
     "output_type": "stream",
     "text": [
      "INFO:tensorflow:label: 0 (id = 0)\n"
     ]
    },
    {
     "name": "stderr",
     "output_type": "stream",
     "text": [
      "INFO:tensorflow:label: 0 (id = 0)\n"
     ]
    },
    {
     "name": "stdout",
     "output_type": "stream",
     "text": [
      "[101, 23218, 2041, 2054, 4280, 1045, 2215, 2000, 2202, 102, 0, 0, 0, 0, 0, 0, 0, 0, 0, 0, 0, 0, 0, 0, 0, 0, 0, 0, 0, 0, 0, 0, 0, 0, 0, 0, 0, 0, 0, 0, 0, 0, 0, 0, 0, 0, 0, 0, 0, 0, 0, 0, 0, 0, 0, 0, 0, 0, 0, 0, 0, 0, 0, 0]\n",
      "INFO:tensorflow:Calling model_fn.\n"
     ]
    },
    {
     "name": "stderr",
     "output_type": "stream",
     "text": [
      "INFO:tensorflow:Calling model_fn.\n"
     ]
    },
    {
     "name": "stdout",
     "output_type": "stream",
     "text": [
      "INFO:tensorflow:Saver not created because there are no variables in the graph to restore\n"
     ]
    },
    {
     "name": "stderr",
     "output_type": "stream",
     "text": [
      "INFO:tensorflow:Saver not created because there are no variables in the graph to restore\n"
     ]
    },
    {
     "name": "stdout",
     "output_type": "stream",
     "text": [
      "INFO:tensorflow:Done calling model_fn.\n"
     ]
    },
    {
     "name": "stderr",
     "output_type": "stream",
     "text": [
      "INFO:tensorflow:Done calling model_fn.\n"
     ]
    },
    {
     "name": "stdout",
     "output_type": "stream",
     "text": [
      "INFO:tensorflow:Graph was finalized.\n"
     ]
    },
    {
     "name": "stderr",
     "output_type": "stream",
     "text": [
      "INFO:tensorflow:Graph was finalized.\n"
     ]
    },
    {
     "name": "stdout",
     "output_type": "stream",
     "text": [
      "INFO:tensorflow:Restoring parameters from ./models/test/model.ckpt-140\n"
     ]
    },
    {
     "name": "stderr",
     "output_type": "stream",
     "text": [
      "INFO:tensorflow:Restoring parameters from ./models/test/model.ckpt-140\n"
     ]
    },
    {
     "name": "stdout",
     "output_type": "stream",
     "text": [
      "INFO:tensorflow:Running local_init_op.\n"
     ]
    },
    {
     "name": "stderr",
     "output_type": "stream",
     "text": [
      "INFO:tensorflow:Running local_init_op.\n"
     ]
    },
    {
     "name": "stdout",
     "output_type": "stream",
     "text": [
      "INFO:tensorflow:Done running local_init_op.\n"
     ]
    },
    {
     "name": "stderr",
     "output_type": "stream",
     "text": [
      "INFO:tensorflow:Done running local_init_op.\n"
     ]
    }
   ],
   "source": [
    "test, experiment_df = get_test_experiment_df(test)"
   ]
  },
  {
   "cell_type": "code",
   "execution_count": null,
   "metadata": {},
   "outputs": [],
   "source": [
    "experiment_df.to_csv(EXPERIMENTS_PATH+'/test_with_probabilities.csv') "
   ]
  },
  {
   "cell_type": "markdown",
   "metadata": {},
   "source": [
    "### RUN ALL CELLS ABOVE ON HERE"
   ]
  },
  {
   "cell_type": "code",
   "execution_count": 122,
   "metadata": {},
   "outputs": [
    {
     "data": {
      "text/html": [
       "<div>\n",
       "<style scoped>\n",
       "    .dataframe tbody tr th:only-of-type {\n",
       "        vertical-align: middle;\n",
       "    }\n",
       "\n",
       "    .dataframe tbody tr th {\n",
       "        vertical-align: top;\n",
       "    }\n",
       "\n",
       "    .dataframe thead th {\n",
       "        text-align: right;\n",
       "    }\n",
       "</style>\n",
       "<table border=\"1\" class=\"dataframe\">\n",
       "  <thead>\n",
       "    <tr style=\"text-align: right;\">\n",
       "      <th></th>\n",
       "      <th>Answer.Stressor</th>\n",
       "      <th>Answer.Label</th>\n",
       "      <th>Predicted</th>\n",
       "      <th>Emotional Turmoil</th>\n",
       "      <th>Family Issue</th>\n",
       "      <th>Financial Problem</th>\n",
       "      <th>Health or Physical Pain</th>\n",
       "      <th>School</th>\n",
       "      <th>Work</th>\n",
       "      <th>Other</th>\n",
       "      <th>Everyday Decision Making</th>\n",
       "      <th>Social Relationships</th>\n",
       "    </tr>\n",
       "  </thead>\n",
       "  <tbody>\n",
       "    <tr>\n",
       "      <th>0</th>\n",
       "      <td>Big trip home</td>\n",
       "      <td>Commute</td>\n",
       "      <td>Other</td>\n",
       "      <td>0.274597</td>\n",
       "      <td>0.121834</td>\n",
       "      <td>0.032184</td>\n",
       "      <td>0.023061</td>\n",
       "      <td>0.011949</td>\n",
       "      <td>0.021716</td>\n",
       "      <td>0.438303</td>\n",
       "      <td>0.046735</td>\n",
       "      <td>0.029620</td>\n",
       "    </tr>\n",
       "    <tr>\n",
       "      <th>1</th>\n",
       "      <td>Commuting to work</td>\n",
       "      <td>Commute</td>\n",
       "      <td>Work</td>\n",
       "      <td>0.113532</td>\n",
       "      <td>0.010053</td>\n",
       "      <td>0.009122</td>\n",
       "      <td>0.029701</td>\n",
       "      <td>0.007278</td>\n",
       "      <td>0.598131</td>\n",
       "      <td>0.105437</td>\n",
       "      <td>0.095908</td>\n",
       "      <td>0.030838</td>\n",
       "    </tr>\n",
       "    <tr>\n",
       "      <th>2</th>\n",
       "      <td>Flat tire</td>\n",
       "      <td>Commute</td>\n",
       "      <td>Work</td>\n",
       "      <td>0.092885</td>\n",
       "      <td>0.034542</td>\n",
       "      <td>0.261350</td>\n",
       "      <td>0.063561</td>\n",
       "      <td>0.018211</td>\n",
       "      <td>0.287899</td>\n",
       "      <td>0.159769</td>\n",
       "      <td>0.065864</td>\n",
       "      <td>0.015919</td>\n",
       "    </tr>\n",
       "    <tr>\n",
       "      <th>3</th>\n",
       "      <td>Flat tire</td>\n",
       "      <td>Commute</td>\n",
       "      <td>Work</td>\n",
       "      <td>0.090046</td>\n",
       "      <td>0.035118</td>\n",
       "      <td>0.249291</td>\n",
       "      <td>0.068610</td>\n",
       "      <td>0.018449</td>\n",
       "      <td>0.301403</td>\n",
       "      <td>0.140965</td>\n",
       "      <td>0.080503</td>\n",
       "      <td>0.015615</td>\n",
       "    </tr>\n",
       "    <tr>\n",
       "      <th>4</th>\n",
       "      <td>Tires</td>\n",
       "      <td>Commute</td>\n",
       "      <td>Other</td>\n",
       "      <td>0.096375</td>\n",
       "      <td>0.047927</td>\n",
       "      <td>0.228380</td>\n",
       "      <td>0.035040</td>\n",
       "      <td>0.032835</td>\n",
       "      <td>0.188673</td>\n",
       "      <td>0.281678</td>\n",
       "      <td>0.069839</td>\n",
       "      <td>0.019253</td>\n",
       "    </tr>\n",
       "    <tr>\n",
       "      <th>5</th>\n",
       "      <td>traffic!</td>\n",
       "      <td>Commute</td>\n",
       "      <td>Work</td>\n",
       "      <td>0.112977</td>\n",
       "      <td>0.015973</td>\n",
       "      <td>0.068055</td>\n",
       "      <td>0.036779</td>\n",
       "      <td>0.023760</td>\n",
       "      <td>0.456948</td>\n",
       "      <td>0.203104</td>\n",
       "      <td>0.063637</td>\n",
       "      <td>0.018768</td>\n",
       "    </tr>\n",
       "    <tr>\n",
       "      <th>6</th>\n",
       "      <td>Travel</td>\n",
       "      <td>Commute</td>\n",
       "      <td>Other</td>\n",
       "      <td>0.299778</td>\n",
       "      <td>0.057468</td>\n",
       "      <td>0.019040</td>\n",
       "      <td>0.029312</td>\n",
       "      <td>0.010016</td>\n",
       "      <td>0.043071</td>\n",
       "      <td>0.459731</td>\n",
       "      <td>0.049055</td>\n",
       "      <td>0.032529</td>\n",
       "    </tr>\n",
       "    <tr>\n",
       "      <th>7</th>\n",
       "      <td>2 of my foster kittens died</td>\n",
       "      <td>Emotional Turmoil</td>\n",
       "      <td>Family Issue</td>\n",
       "      <td>0.080481</td>\n",
       "      <td>0.754606</td>\n",
       "      <td>0.019719</td>\n",
       "      <td>0.040465</td>\n",
       "      <td>0.019904</td>\n",
       "      <td>0.005446</td>\n",
       "      <td>0.032478</td>\n",
       "      <td>0.013403</td>\n",
       "      <td>0.033497</td>\n",
       "    </tr>\n",
       "    <tr>\n",
       "      <th>9</th>\n",
       "      <td>Feeling lonely</td>\n",
       "      <td>Emotional Turmoil</td>\n",
       "      <td>Family Issue</td>\n",
       "      <td>0.301235</td>\n",
       "      <td>0.344900</td>\n",
       "      <td>0.022671</td>\n",
       "      <td>0.029617</td>\n",
       "      <td>0.010157</td>\n",
       "      <td>0.008427</td>\n",
       "      <td>0.201969</td>\n",
       "      <td>0.030681</td>\n",
       "      <td>0.050342</td>\n",
       "    </tr>\n",
       "    <tr>\n",
       "      <th>11</th>\n",
       "      <td>I feel lonely</td>\n",
       "      <td>Emotional Turmoil</td>\n",
       "      <td>Family Issue</td>\n",
       "      <td>0.205351</td>\n",
       "      <td>0.509877</td>\n",
       "      <td>0.027679</td>\n",
       "      <td>0.032354</td>\n",
       "      <td>0.010567</td>\n",
       "      <td>0.008436</td>\n",
       "      <td>0.122860</td>\n",
       "      <td>0.026488</td>\n",
       "      <td>0.056388</td>\n",
       "    </tr>\n",
       "  </tbody>\n",
       "</table>\n",
       "</div>"
      ],
      "text/plain": [
       "                Answer.Stressor       Answer.Label     Predicted  \\\n",
       "0                 Big trip home            Commute         Other   \n",
       "1             Commuting to work            Commute          Work   \n",
       "2                     Flat tire            Commute          Work   \n",
       "3                     Flat tire            Commute          Work   \n",
       "4                         Tires            Commute         Other   \n",
       "5                      traffic!            Commute          Work   \n",
       "6                        Travel            Commute         Other   \n",
       "7   2 of my foster kittens died  Emotional Turmoil  Family Issue   \n",
       "9                Feeling lonely  Emotional Turmoil  Family Issue   \n",
       "11                I feel lonely  Emotional Turmoil  Family Issue   \n",
       "\n",
       "    Emotional Turmoil  Family Issue  Financial Problem  \\\n",
       "0            0.274597      0.121834           0.032184   \n",
       "1            0.113532      0.010053           0.009122   \n",
       "2            0.092885      0.034542           0.261350   \n",
       "3            0.090046      0.035118           0.249291   \n",
       "4            0.096375      0.047927           0.228380   \n",
       "5            0.112977      0.015973           0.068055   \n",
       "6            0.299778      0.057468           0.019040   \n",
       "7            0.080481      0.754606           0.019719   \n",
       "9            0.301235      0.344900           0.022671   \n",
       "11           0.205351      0.509877           0.027679   \n",
       "\n",
       "    Health or Physical Pain    School      Work     Other  \\\n",
       "0                  0.023061  0.011949  0.021716  0.438303   \n",
       "1                  0.029701  0.007278  0.598131  0.105437   \n",
       "2                  0.063561  0.018211  0.287899  0.159769   \n",
       "3                  0.068610  0.018449  0.301403  0.140965   \n",
       "4                  0.035040  0.032835  0.188673  0.281678   \n",
       "5                  0.036779  0.023760  0.456948  0.203104   \n",
       "6                  0.029312  0.010016  0.043071  0.459731   \n",
       "7                  0.040465  0.019904  0.005446  0.032478   \n",
       "9                  0.029617  0.010157  0.008427  0.201969   \n",
       "11                 0.032354  0.010567  0.008436  0.122860   \n",
       "\n",
       "    Everyday Decision Making  Social Relationships  \n",
       "0                   0.046735              0.029620  \n",
       "1                   0.095908              0.030838  \n",
       "2                   0.065864              0.015919  \n",
       "3                   0.080503              0.015615  \n",
       "4                   0.069839              0.019253  \n",
       "5                   0.063637              0.018768  \n",
       "6                   0.049055              0.032529  \n",
       "7                   0.013403              0.033497  \n",
       "9                   0.030681              0.050342  \n",
       "11                  0.026488              0.056388  "
      ]
     },
     "execution_count": 122,
     "metadata": {},
     "output_type": "execute_result"
    }
   ],
   "source": [
    "experiment_df[experiment_df['Predicted'] != experiment_df['Answer.Label']].head(10) # change head(n) to see more  "
   ]
  },
  {
   "cell_type": "markdown",
   "metadata": {},
   "source": [
    "# Exporting the model as Pb format"
   ]
  },
  {
   "cell_type": "code",
   "execution_count": 41,
   "metadata": {},
   "outputs": [],
   "source": [
    "def export_model(dir_path):\n",
    "    MAX_SEQ_LEN = 128\n",
    "    def serving_input_receiver_fn():\n",
    "        \"\"\"An input receiver that expects a serialized tf.Example.\"\"\"\n",
    "        reciever_tensors = {\n",
    "            \"input_ids\": tf.placeholder(dtype=tf.int32,\n",
    "                                        shape=[1, MAX_SEQ_LEN])\n",
    "        }\n",
    "        features = {\n",
    "            \"label_ids\":tf.placeholder(tf.int32, [None], name='label_ids'),\n",
    "            \"input_ids\": reciever_tensors['input_ids'],\n",
    "            \"input_mask\": 1 - tf.cast(tf.equal(reciever_tensors['input_ids'], 0), dtype=tf.int32),\n",
    "            \"segment_ids\": tf.zeros(dtype=tf.int32,\n",
    "                                    shape=[1, MAX_SEQ_LEN])\n",
    "            \n",
    "        }\n",
    "        return tf.estimator.export.ServingInputReceiver(features, reciever_tensors)\n",
    "\n",
    "    estimator._export_to_tpu = False\n",
    "    estimator.export_saved_model(dir_path, serving_input_receiver_fn)"
   ]
  },
  {
   "cell_type": "code",
   "execution_count": 114,
   "metadata": {},
   "outputs": [
    {
     "ename": "NameError",
     "evalue": "name 'export_model' is not defined",
     "output_type": "error",
     "traceback": [
      "\u001b[0;31m---------------------------------------------------------------------------\u001b[0m",
      "\u001b[0;31mNameError\u001b[0m                                 Traceback (most recent call last)",
      "\u001b[0;32m<ipython-input-114-46ed311455ca>\u001b[0m in \u001b[0;36m<module>\u001b[0;34m\u001b[0m\n\u001b[0;32m----> 1\u001b[0;31m \u001b[0mexport_model\u001b[0m\u001b[0;34m(\u001b[0m\u001b[0;34m'./tfmode/pbformat/'\u001b[0m\u001b[0;34m)\u001b[0m\u001b[0;34m\u001b[0m\u001b[0;34m\u001b[0m\u001b[0m\n\u001b[0m",
      "\u001b[0;31mNameError\u001b[0m: name 'export_model' is not defined"
     ]
    }
   ],
   "source": [
    "export_model('./tfmode/pbformat/')"
   ]
  },
  {
   "cell_type": "markdown",
   "metadata": {},
   "source": [
    "## Getting analysis for a another dataset"
   ]
  },
  {
   "cell_type": "code",
   "execution_count": 117,
   "metadata": {
    "scrolled": true
   },
   "outputs": [
    {
     "name": "stdout",
     "output_type": "stream",
     "text": [
      "INFO:tensorflow:Writing example 0 of 213\n"
     ]
    },
    {
     "name": "stderr",
     "output_type": "stream",
     "text": [
      "INFO:tensorflow:Writing example 0 of 213\n"
     ]
    },
    {
     "name": "stdout",
     "output_type": "stream",
     "text": [
      "INFO:tensorflow:*** Example ***\n"
     ]
    },
    {
     "name": "stderr",
     "output_type": "stream",
     "text": [
      "INFO:tensorflow:*** Example ***\n"
     ]
    },
    {
     "name": "stdout",
     "output_type": "stream",
     "text": [
      "INFO:tensorflow:guid: \n"
     ]
    },
    {
     "name": "stderr",
     "output_type": "stream",
     "text": [
      "INFO:tensorflow:guid: \n"
     ]
    },
    {
     "name": "stdout",
     "output_type": "stream",
     "text": [
      "INFO:tensorflow:tokens: [CLS] big trip home [SEP]\n"
     ]
    },
    {
     "name": "stderr",
     "output_type": "stream",
     "text": [
      "INFO:tensorflow:tokens: [CLS] big trip home [SEP]\n"
     ]
    },
    {
     "name": "stdout",
     "output_type": "stream",
     "text": [
      "INFO:tensorflow:input_ids: 101 2502 4440 2188 102 0 0 0 0 0 0 0 0 0 0 0 0 0 0 0 0 0 0 0 0 0 0 0 0 0 0 0 0 0 0 0 0 0 0 0 0 0 0 0 0 0 0 0 0 0 0 0 0 0 0 0 0 0 0 0 0 0 0 0 0 0 0 0 0 0 0 0 0 0 0 0 0 0 0 0 0 0 0 0 0 0 0 0 0 0 0 0 0 0 0 0 0 0 0 0 0 0 0 0 0 0 0 0 0 0 0 0 0 0 0 0 0 0 0 0 0 0 0 0 0 0 0 0\n"
     ]
    },
    {
     "name": "stderr",
     "output_type": "stream",
     "text": [
      "INFO:tensorflow:input_ids: 101 2502 4440 2188 102 0 0 0 0 0 0 0 0 0 0 0 0 0 0 0 0 0 0 0 0 0 0 0 0 0 0 0 0 0 0 0 0 0 0 0 0 0 0 0 0 0 0 0 0 0 0 0 0 0 0 0 0 0 0 0 0 0 0 0 0 0 0 0 0 0 0 0 0 0 0 0 0 0 0 0 0 0 0 0 0 0 0 0 0 0 0 0 0 0 0 0 0 0 0 0 0 0 0 0 0 0 0 0 0 0 0 0 0 0 0 0 0 0 0 0 0 0 0 0 0 0 0 0\n"
     ]
    },
    {
     "name": "stdout",
     "output_type": "stream",
     "text": [
      "INFO:tensorflow:input_mask: 1 1 1 1 1 0 0 0 0 0 0 0 0 0 0 0 0 0 0 0 0 0 0 0 0 0 0 0 0 0 0 0 0 0 0 0 0 0 0 0 0 0 0 0 0 0 0 0 0 0 0 0 0 0 0 0 0 0 0 0 0 0 0 0 0 0 0 0 0 0 0 0 0 0 0 0 0 0 0 0 0 0 0 0 0 0 0 0 0 0 0 0 0 0 0 0 0 0 0 0 0 0 0 0 0 0 0 0 0 0 0 0 0 0 0 0 0 0 0 0 0 0 0 0 0 0 0 0\n"
     ]
    },
    {
     "name": "stderr",
     "output_type": "stream",
     "text": [
      "INFO:tensorflow:input_mask: 1 1 1 1 1 0 0 0 0 0 0 0 0 0 0 0 0 0 0 0 0 0 0 0 0 0 0 0 0 0 0 0 0 0 0 0 0 0 0 0 0 0 0 0 0 0 0 0 0 0 0 0 0 0 0 0 0 0 0 0 0 0 0 0 0 0 0 0 0 0 0 0 0 0 0 0 0 0 0 0 0 0 0 0 0 0 0 0 0 0 0 0 0 0 0 0 0 0 0 0 0 0 0 0 0 0 0 0 0 0 0 0 0 0 0 0 0 0 0 0 0 0 0 0 0 0 0 0\n"
     ]
    },
    {
     "name": "stdout",
     "output_type": "stream",
     "text": [
      "INFO:tensorflow:segment_ids: 0 0 0 0 0 0 0 0 0 0 0 0 0 0 0 0 0 0 0 0 0 0 0 0 0 0 0 0 0 0 0 0 0 0 0 0 0 0 0 0 0 0 0 0 0 0 0 0 0 0 0 0 0 0 0 0 0 0 0 0 0 0 0 0 0 0 0 0 0 0 0 0 0 0 0 0 0 0 0 0 0 0 0 0 0 0 0 0 0 0 0 0 0 0 0 0 0 0 0 0 0 0 0 0 0 0 0 0 0 0 0 0 0 0 0 0 0 0 0 0 0 0 0 0 0 0 0 0\n"
     ]
    },
    {
     "name": "stderr",
     "output_type": "stream",
     "text": [
      "INFO:tensorflow:segment_ids: 0 0 0 0 0 0 0 0 0 0 0 0 0 0 0 0 0 0 0 0 0 0 0 0 0 0 0 0 0 0 0 0 0 0 0 0 0 0 0 0 0 0 0 0 0 0 0 0 0 0 0 0 0 0 0 0 0 0 0 0 0 0 0 0 0 0 0 0 0 0 0 0 0 0 0 0 0 0 0 0 0 0 0 0 0 0 0 0 0 0 0 0 0 0 0 0 0 0 0 0 0 0 0 0 0 0 0 0 0 0 0 0 0 0 0 0 0 0 0 0 0 0 0 0 0 0 0 0\n"
     ]
    },
    {
     "name": "stdout",
     "output_type": "stream",
     "text": [
      "INFO:tensorflow:label: 0 (id = 0)\n"
     ]
    },
    {
     "name": "stderr",
     "output_type": "stream",
     "text": [
      "INFO:tensorflow:label: 0 (id = 0)\n"
     ]
    },
    {
     "name": "stdout",
     "output_type": "stream",
     "text": [
      "INFO:tensorflow:*** Example ***\n"
     ]
    },
    {
     "name": "stderr",
     "output_type": "stream",
     "text": [
      "INFO:tensorflow:*** Example ***\n"
     ]
    },
    {
     "name": "stdout",
     "output_type": "stream",
     "text": [
      "INFO:tensorflow:guid: \n"
     ]
    },
    {
     "name": "stderr",
     "output_type": "stream",
     "text": [
      "INFO:tensorflow:guid: \n"
     ]
    },
    {
     "name": "stdout",
     "output_type": "stream",
     "text": [
      "INFO:tensorflow:tokens: [CLS] com ##mut ##ing to work [SEP]\n"
     ]
    },
    {
     "name": "stderr",
     "output_type": "stream",
     "text": [
      "INFO:tensorflow:tokens: [CLS] com ##mut ##ing to work [SEP]\n"
     ]
    },
    {
     "name": "stdout",
     "output_type": "stream",
     "text": [
      "INFO:tensorflow:input_ids: 101 4012 28120 2075 2000 2147 102 0 0 0 0 0 0 0 0 0 0 0 0 0 0 0 0 0 0 0 0 0 0 0 0 0 0 0 0 0 0 0 0 0 0 0 0 0 0 0 0 0 0 0 0 0 0 0 0 0 0 0 0 0 0 0 0 0 0 0 0 0 0 0 0 0 0 0 0 0 0 0 0 0 0 0 0 0 0 0 0 0 0 0 0 0 0 0 0 0 0 0 0 0 0 0 0 0 0 0 0 0 0 0 0 0 0 0 0 0 0 0 0 0 0 0 0 0 0 0 0 0\n"
     ]
    },
    {
     "name": "stderr",
     "output_type": "stream",
     "text": [
      "INFO:tensorflow:input_ids: 101 4012 28120 2075 2000 2147 102 0 0 0 0 0 0 0 0 0 0 0 0 0 0 0 0 0 0 0 0 0 0 0 0 0 0 0 0 0 0 0 0 0 0 0 0 0 0 0 0 0 0 0 0 0 0 0 0 0 0 0 0 0 0 0 0 0 0 0 0 0 0 0 0 0 0 0 0 0 0 0 0 0 0 0 0 0 0 0 0 0 0 0 0 0 0 0 0 0 0 0 0 0 0 0 0 0 0 0 0 0 0 0 0 0 0 0 0 0 0 0 0 0 0 0 0 0 0 0 0 0\n"
     ]
    },
    {
     "name": "stdout",
     "output_type": "stream",
     "text": [
      "INFO:tensorflow:input_mask: 1 1 1 1 1 1 1 0 0 0 0 0 0 0 0 0 0 0 0 0 0 0 0 0 0 0 0 0 0 0 0 0 0 0 0 0 0 0 0 0 0 0 0 0 0 0 0 0 0 0 0 0 0 0 0 0 0 0 0 0 0 0 0 0 0 0 0 0 0 0 0 0 0 0 0 0 0 0 0 0 0 0 0 0 0 0 0 0 0 0 0 0 0 0 0 0 0 0 0 0 0 0 0 0 0 0 0 0 0 0 0 0 0 0 0 0 0 0 0 0 0 0 0 0 0 0 0 0\n"
     ]
    },
    {
     "name": "stderr",
     "output_type": "stream",
     "text": [
      "INFO:tensorflow:input_mask: 1 1 1 1 1 1 1 0 0 0 0 0 0 0 0 0 0 0 0 0 0 0 0 0 0 0 0 0 0 0 0 0 0 0 0 0 0 0 0 0 0 0 0 0 0 0 0 0 0 0 0 0 0 0 0 0 0 0 0 0 0 0 0 0 0 0 0 0 0 0 0 0 0 0 0 0 0 0 0 0 0 0 0 0 0 0 0 0 0 0 0 0 0 0 0 0 0 0 0 0 0 0 0 0 0 0 0 0 0 0 0 0 0 0 0 0 0 0 0 0 0 0 0 0 0 0 0 0\n"
     ]
    },
    {
     "name": "stdout",
     "output_type": "stream",
     "text": [
      "INFO:tensorflow:segment_ids: 0 0 0 0 0 0 0 0 0 0 0 0 0 0 0 0 0 0 0 0 0 0 0 0 0 0 0 0 0 0 0 0 0 0 0 0 0 0 0 0 0 0 0 0 0 0 0 0 0 0 0 0 0 0 0 0 0 0 0 0 0 0 0 0 0 0 0 0 0 0 0 0 0 0 0 0 0 0 0 0 0 0 0 0 0 0 0 0 0 0 0 0 0 0 0 0 0 0 0 0 0 0 0 0 0 0 0 0 0 0 0 0 0 0 0 0 0 0 0 0 0 0 0 0 0 0 0 0\n"
     ]
    },
    {
     "name": "stderr",
     "output_type": "stream",
     "text": [
      "INFO:tensorflow:segment_ids: 0 0 0 0 0 0 0 0 0 0 0 0 0 0 0 0 0 0 0 0 0 0 0 0 0 0 0 0 0 0 0 0 0 0 0 0 0 0 0 0 0 0 0 0 0 0 0 0 0 0 0 0 0 0 0 0 0 0 0 0 0 0 0 0 0 0 0 0 0 0 0 0 0 0 0 0 0 0 0 0 0 0 0 0 0 0 0 0 0 0 0 0 0 0 0 0 0 0 0 0 0 0 0 0 0 0 0 0 0 0 0 0 0 0 0 0 0 0 0 0 0 0 0 0 0 0 0 0\n"
     ]
    },
    {
     "name": "stdout",
     "output_type": "stream",
     "text": [
      "INFO:tensorflow:label: 0 (id = 0)\n"
     ]
    },
    {
     "name": "stderr",
     "output_type": "stream",
     "text": [
      "INFO:tensorflow:label: 0 (id = 0)\n"
     ]
    },
    {
     "name": "stdout",
     "output_type": "stream",
     "text": [
      "INFO:tensorflow:*** Example ***\n"
     ]
    },
    {
     "name": "stderr",
     "output_type": "stream",
     "text": [
      "INFO:tensorflow:*** Example ***\n"
     ]
    },
    {
     "name": "stdout",
     "output_type": "stream",
     "text": [
      "INFO:tensorflow:guid: \n"
     ]
    },
    {
     "name": "stderr",
     "output_type": "stream",
     "text": [
      "INFO:tensorflow:guid: \n"
     ]
    },
    {
     "name": "stdout",
     "output_type": "stream",
     "text": [
      "INFO:tensorflow:tokens: [CLS] flat tire [SEP]\n"
     ]
    },
    {
     "name": "stderr",
     "output_type": "stream",
     "text": [
      "INFO:tensorflow:tokens: [CLS] flat tire [SEP]\n"
     ]
    },
    {
     "name": "stdout",
     "output_type": "stream",
     "text": [
      "INFO:tensorflow:input_ids: 101 4257 12824 102 0 0 0 0 0 0 0 0 0 0 0 0 0 0 0 0 0 0 0 0 0 0 0 0 0 0 0 0 0 0 0 0 0 0 0 0 0 0 0 0 0 0 0 0 0 0 0 0 0 0 0 0 0 0 0 0 0 0 0 0 0 0 0 0 0 0 0 0 0 0 0 0 0 0 0 0 0 0 0 0 0 0 0 0 0 0 0 0 0 0 0 0 0 0 0 0 0 0 0 0 0 0 0 0 0 0 0 0 0 0 0 0 0 0 0 0 0 0 0 0 0 0 0 0\n"
     ]
    },
    {
     "name": "stderr",
     "output_type": "stream",
     "text": [
      "INFO:tensorflow:input_ids: 101 4257 12824 102 0 0 0 0 0 0 0 0 0 0 0 0 0 0 0 0 0 0 0 0 0 0 0 0 0 0 0 0 0 0 0 0 0 0 0 0 0 0 0 0 0 0 0 0 0 0 0 0 0 0 0 0 0 0 0 0 0 0 0 0 0 0 0 0 0 0 0 0 0 0 0 0 0 0 0 0 0 0 0 0 0 0 0 0 0 0 0 0 0 0 0 0 0 0 0 0 0 0 0 0 0 0 0 0 0 0 0 0 0 0 0 0 0 0 0 0 0 0 0 0 0 0 0 0\n"
     ]
    },
    {
     "name": "stdout",
     "output_type": "stream",
     "text": [
      "INFO:tensorflow:input_mask: 1 1 1 1 0 0 0 0 0 0 0 0 0 0 0 0 0 0 0 0 0 0 0 0 0 0 0 0 0 0 0 0 0 0 0 0 0 0 0 0 0 0 0 0 0 0 0 0 0 0 0 0 0 0 0 0 0 0 0 0 0 0 0 0 0 0 0 0 0 0 0 0 0 0 0 0 0 0 0 0 0 0 0 0 0 0 0 0 0 0 0 0 0 0 0 0 0 0 0 0 0 0 0 0 0 0 0 0 0 0 0 0 0 0 0 0 0 0 0 0 0 0 0 0 0 0 0 0\n"
     ]
    },
    {
     "name": "stderr",
     "output_type": "stream",
     "text": [
      "INFO:tensorflow:input_mask: 1 1 1 1 0 0 0 0 0 0 0 0 0 0 0 0 0 0 0 0 0 0 0 0 0 0 0 0 0 0 0 0 0 0 0 0 0 0 0 0 0 0 0 0 0 0 0 0 0 0 0 0 0 0 0 0 0 0 0 0 0 0 0 0 0 0 0 0 0 0 0 0 0 0 0 0 0 0 0 0 0 0 0 0 0 0 0 0 0 0 0 0 0 0 0 0 0 0 0 0 0 0 0 0 0 0 0 0 0 0 0 0 0 0 0 0 0 0 0 0 0 0 0 0 0 0 0 0\n"
     ]
    },
    {
     "name": "stdout",
     "output_type": "stream",
     "text": [
      "INFO:tensorflow:segment_ids: 0 0 0 0 0 0 0 0 0 0 0 0 0 0 0 0 0 0 0 0 0 0 0 0 0 0 0 0 0 0 0 0 0 0 0 0 0 0 0 0 0 0 0 0 0 0 0 0 0 0 0 0 0 0 0 0 0 0 0 0 0 0 0 0 0 0 0 0 0 0 0 0 0 0 0 0 0 0 0 0 0 0 0 0 0 0 0 0 0 0 0 0 0 0 0 0 0 0 0 0 0 0 0 0 0 0 0 0 0 0 0 0 0 0 0 0 0 0 0 0 0 0 0 0 0 0 0 0\n"
     ]
    },
    {
     "name": "stderr",
     "output_type": "stream",
     "text": [
      "INFO:tensorflow:segment_ids: 0 0 0 0 0 0 0 0 0 0 0 0 0 0 0 0 0 0 0 0 0 0 0 0 0 0 0 0 0 0 0 0 0 0 0 0 0 0 0 0 0 0 0 0 0 0 0 0 0 0 0 0 0 0 0 0 0 0 0 0 0 0 0 0 0 0 0 0 0 0 0 0 0 0 0 0 0 0 0 0 0 0 0 0 0 0 0 0 0 0 0 0 0 0 0 0 0 0 0 0 0 0 0 0 0 0 0 0 0 0 0 0 0 0 0 0 0 0 0 0 0 0 0 0 0 0 0 0\n"
     ]
    },
    {
     "name": "stdout",
     "output_type": "stream",
     "text": [
      "INFO:tensorflow:label: 0 (id = 0)\n"
     ]
    },
    {
     "name": "stderr",
     "output_type": "stream",
     "text": [
      "INFO:tensorflow:label: 0 (id = 0)\n"
     ]
    },
    {
     "name": "stdout",
     "output_type": "stream",
     "text": [
      "INFO:tensorflow:*** Example ***\n"
     ]
    },
    {
     "name": "stderr",
     "output_type": "stream",
     "text": [
      "INFO:tensorflow:*** Example ***\n"
     ]
    },
    {
     "name": "stdout",
     "output_type": "stream",
     "text": [
      "INFO:tensorflow:guid: \n"
     ]
    },
    {
     "name": "stderr",
     "output_type": "stream",
     "text": [
      "INFO:tensorflow:guid: \n"
     ]
    },
    {
     "name": "stdout",
     "output_type": "stream",
     "text": [
      "INFO:tensorflow:tokens: [CLS] flat tire [SEP]\n"
     ]
    },
    {
     "name": "stderr",
     "output_type": "stream",
     "text": [
      "INFO:tensorflow:tokens: [CLS] flat tire [SEP]\n"
     ]
    },
    {
     "name": "stdout",
     "output_type": "stream",
     "text": [
      "INFO:tensorflow:input_ids: 101 4257 12824 102 0 0 0 0 0 0 0 0 0 0 0 0 0 0 0 0 0 0 0 0 0 0 0 0 0 0 0 0 0 0 0 0 0 0 0 0 0 0 0 0 0 0 0 0 0 0 0 0 0 0 0 0 0 0 0 0 0 0 0 0 0 0 0 0 0 0 0 0 0 0 0 0 0 0 0 0 0 0 0 0 0 0 0 0 0 0 0 0 0 0 0 0 0 0 0 0 0 0 0 0 0 0 0 0 0 0 0 0 0 0 0 0 0 0 0 0 0 0 0 0 0 0 0 0\n"
     ]
    },
    {
     "name": "stderr",
     "output_type": "stream",
     "text": [
      "INFO:tensorflow:input_ids: 101 4257 12824 102 0 0 0 0 0 0 0 0 0 0 0 0 0 0 0 0 0 0 0 0 0 0 0 0 0 0 0 0 0 0 0 0 0 0 0 0 0 0 0 0 0 0 0 0 0 0 0 0 0 0 0 0 0 0 0 0 0 0 0 0 0 0 0 0 0 0 0 0 0 0 0 0 0 0 0 0 0 0 0 0 0 0 0 0 0 0 0 0 0 0 0 0 0 0 0 0 0 0 0 0 0 0 0 0 0 0 0 0 0 0 0 0 0 0 0 0 0 0 0 0 0 0 0 0\n"
     ]
    },
    {
     "name": "stdout",
     "output_type": "stream",
     "text": [
      "INFO:tensorflow:input_mask: 1 1 1 1 0 0 0 0 0 0 0 0 0 0 0 0 0 0 0 0 0 0 0 0 0 0 0 0 0 0 0 0 0 0 0 0 0 0 0 0 0 0 0 0 0 0 0 0 0 0 0 0 0 0 0 0 0 0 0 0 0 0 0 0 0 0 0 0 0 0 0 0 0 0 0 0 0 0 0 0 0 0 0 0 0 0 0 0 0 0 0 0 0 0 0 0 0 0 0 0 0 0 0 0 0 0 0 0 0 0 0 0 0 0 0 0 0 0 0 0 0 0 0 0 0 0 0 0\n"
     ]
    },
    {
     "name": "stderr",
     "output_type": "stream",
     "text": [
      "INFO:tensorflow:input_mask: 1 1 1 1 0 0 0 0 0 0 0 0 0 0 0 0 0 0 0 0 0 0 0 0 0 0 0 0 0 0 0 0 0 0 0 0 0 0 0 0 0 0 0 0 0 0 0 0 0 0 0 0 0 0 0 0 0 0 0 0 0 0 0 0 0 0 0 0 0 0 0 0 0 0 0 0 0 0 0 0 0 0 0 0 0 0 0 0 0 0 0 0 0 0 0 0 0 0 0 0 0 0 0 0 0 0 0 0 0 0 0 0 0 0 0 0 0 0 0 0 0 0 0 0 0 0 0 0\n"
     ]
    },
    {
     "name": "stdout",
     "output_type": "stream",
     "text": [
      "INFO:tensorflow:segment_ids: 0 0 0 0 0 0 0 0 0 0 0 0 0 0 0 0 0 0 0 0 0 0 0 0 0 0 0 0 0 0 0 0 0 0 0 0 0 0 0 0 0 0 0 0 0 0 0 0 0 0 0 0 0 0 0 0 0 0 0 0 0 0 0 0 0 0 0 0 0 0 0 0 0 0 0 0 0 0 0 0 0 0 0 0 0 0 0 0 0 0 0 0 0 0 0 0 0 0 0 0 0 0 0 0 0 0 0 0 0 0 0 0 0 0 0 0 0 0 0 0 0 0 0 0 0 0 0 0\n"
     ]
    },
    {
     "name": "stderr",
     "output_type": "stream",
     "text": [
      "INFO:tensorflow:segment_ids: 0 0 0 0 0 0 0 0 0 0 0 0 0 0 0 0 0 0 0 0 0 0 0 0 0 0 0 0 0 0 0 0 0 0 0 0 0 0 0 0 0 0 0 0 0 0 0 0 0 0 0 0 0 0 0 0 0 0 0 0 0 0 0 0 0 0 0 0 0 0 0 0 0 0 0 0 0 0 0 0 0 0 0 0 0 0 0 0 0 0 0 0 0 0 0 0 0 0 0 0 0 0 0 0 0 0 0 0 0 0 0 0 0 0 0 0 0 0 0 0 0 0 0 0 0 0 0 0\n"
     ]
    },
    {
     "name": "stdout",
     "output_type": "stream",
     "text": [
      "INFO:tensorflow:label: 0 (id = 0)\n"
     ]
    },
    {
     "name": "stderr",
     "output_type": "stream",
     "text": [
      "INFO:tensorflow:label: 0 (id = 0)\n"
     ]
    },
    {
     "name": "stdout",
     "output_type": "stream",
     "text": [
      "INFO:tensorflow:*** Example ***\n"
     ]
    },
    {
     "name": "stderr",
     "output_type": "stream",
     "text": [
      "INFO:tensorflow:*** Example ***\n"
     ]
    },
    {
     "name": "stdout",
     "output_type": "stream",
     "text": [
      "INFO:tensorflow:guid: \n"
     ]
    },
    {
     "name": "stderr",
     "output_type": "stream",
     "text": [
      "INFO:tensorflow:guid: \n"
     ]
    },
    {
     "name": "stdout",
     "output_type": "stream",
     "text": [
      "INFO:tensorflow:tokens: [CLS] tires [SEP]\n"
     ]
    },
    {
     "name": "stderr",
     "output_type": "stream",
     "text": [
      "INFO:tensorflow:tokens: [CLS] tires [SEP]\n"
     ]
    },
    {
     "name": "stdout",
     "output_type": "stream",
     "text": [
      "INFO:tensorflow:input_ids: 101 13310 102 0 0 0 0 0 0 0 0 0 0 0 0 0 0 0 0 0 0 0 0 0 0 0 0 0 0 0 0 0 0 0 0 0 0 0 0 0 0 0 0 0 0 0 0 0 0 0 0 0 0 0 0 0 0 0 0 0 0 0 0 0 0 0 0 0 0 0 0 0 0 0 0 0 0 0 0 0 0 0 0 0 0 0 0 0 0 0 0 0 0 0 0 0 0 0 0 0 0 0 0 0 0 0 0 0 0 0 0 0 0 0 0 0 0 0 0 0 0 0 0 0 0 0 0 0\n"
     ]
    },
    {
     "name": "stderr",
     "output_type": "stream",
     "text": [
      "INFO:tensorflow:input_ids: 101 13310 102 0 0 0 0 0 0 0 0 0 0 0 0 0 0 0 0 0 0 0 0 0 0 0 0 0 0 0 0 0 0 0 0 0 0 0 0 0 0 0 0 0 0 0 0 0 0 0 0 0 0 0 0 0 0 0 0 0 0 0 0 0 0 0 0 0 0 0 0 0 0 0 0 0 0 0 0 0 0 0 0 0 0 0 0 0 0 0 0 0 0 0 0 0 0 0 0 0 0 0 0 0 0 0 0 0 0 0 0 0 0 0 0 0 0 0 0 0 0 0 0 0 0 0 0 0\n"
     ]
    },
    {
     "name": "stdout",
     "output_type": "stream",
     "text": [
      "INFO:tensorflow:input_mask: 1 1 1 0 0 0 0 0 0 0 0 0 0 0 0 0 0 0 0 0 0 0 0 0 0 0 0 0 0 0 0 0 0 0 0 0 0 0 0 0 0 0 0 0 0 0 0 0 0 0 0 0 0 0 0 0 0 0 0 0 0 0 0 0 0 0 0 0 0 0 0 0 0 0 0 0 0 0 0 0 0 0 0 0 0 0 0 0 0 0 0 0 0 0 0 0 0 0 0 0 0 0 0 0 0 0 0 0 0 0 0 0 0 0 0 0 0 0 0 0 0 0 0 0 0 0 0 0\n"
     ]
    },
    {
     "name": "stderr",
     "output_type": "stream",
     "text": [
      "INFO:tensorflow:input_mask: 1 1 1 0 0 0 0 0 0 0 0 0 0 0 0 0 0 0 0 0 0 0 0 0 0 0 0 0 0 0 0 0 0 0 0 0 0 0 0 0 0 0 0 0 0 0 0 0 0 0 0 0 0 0 0 0 0 0 0 0 0 0 0 0 0 0 0 0 0 0 0 0 0 0 0 0 0 0 0 0 0 0 0 0 0 0 0 0 0 0 0 0 0 0 0 0 0 0 0 0 0 0 0 0 0 0 0 0 0 0 0 0 0 0 0 0 0 0 0 0 0 0 0 0 0 0 0 0\n"
     ]
    },
    {
     "name": "stdout",
     "output_type": "stream",
     "text": [
      "INFO:tensorflow:segment_ids: 0 0 0 0 0 0 0 0 0 0 0 0 0 0 0 0 0 0 0 0 0 0 0 0 0 0 0 0 0 0 0 0 0 0 0 0 0 0 0 0 0 0 0 0 0 0 0 0 0 0 0 0 0 0 0 0 0 0 0 0 0 0 0 0 0 0 0 0 0 0 0 0 0 0 0 0 0 0 0 0 0 0 0 0 0 0 0 0 0 0 0 0 0 0 0 0 0 0 0 0 0 0 0 0 0 0 0 0 0 0 0 0 0 0 0 0 0 0 0 0 0 0 0 0 0 0 0 0\n"
     ]
    },
    {
     "name": "stderr",
     "output_type": "stream",
     "text": [
      "INFO:tensorflow:segment_ids: 0 0 0 0 0 0 0 0 0 0 0 0 0 0 0 0 0 0 0 0 0 0 0 0 0 0 0 0 0 0 0 0 0 0 0 0 0 0 0 0 0 0 0 0 0 0 0 0 0 0 0 0 0 0 0 0 0 0 0 0 0 0 0 0 0 0 0 0 0 0 0 0 0 0 0 0 0 0 0 0 0 0 0 0 0 0 0 0 0 0 0 0 0 0 0 0 0 0 0 0 0 0 0 0 0 0 0 0 0 0 0 0 0 0 0 0 0 0 0 0 0 0 0 0 0 0 0 0\n"
     ]
    },
    {
     "name": "stdout",
     "output_type": "stream",
     "text": [
      "INFO:tensorflow:label: 0 (id = 0)\n"
     ]
    },
    {
     "name": "stderr",
     "output_type": "stream",
     "text": [
      "INFO:tensorflow:label: 0 (id = 0)\n"
     ]
    },
    {
     "name": "stdout",
     "output_type": "stream",
     "text": [
      "[101, 2502, 4440, 2188, 102, 0, 0, 0, 0, 0, 0, 0, 0, 0, 0, 0, 0, 0, 0, 0, 0, 0, 0, 0, 0, 0, 0, 0, 0, 0, 0, 0, 0, 0, 0, 0, 0, 0, 0, 0, 0, 0, 0, 0, 0, 0, 0, 0, 0, 0, 0, 0, 0, 0, 0, 0, 0, 0, 0, 0, 0, 0, 0, 0, 0, 0, 0, 0, 0, 0, 0, 0, 0, 0, 0, 0, 0, 0, 0, 0, 0, 0, 0, 0, 0, 0, 0, 0, 0, 0, 0, 0, 0, 0, 0, 0, 0, 0, 0, 0, 0, 0, 0, 0, 0, 0, 0, 0, 0, 0, 0, 0, 0, 0, 0, 0, 0, 0, 0, 0, 0, 0, 0, 0, 0, 0, 0, 0]\n",
      "INFO:tensorflow:Calling model_fn.\n"
     ]
    },
    {
     "name": "stderr",
     "output_type": "stream",
     "text": [
      "INFO:tensorflow:Calling model_fn.\n"
     ]
    },
    {
     "name": "stdout",
     "output_type": "stream",
     "text": [
      "INFO:tensorflow:Saver not created because there are no variables in the graph to restore\n"
     ]
    },
    {
     "name": "stderr",
     "output_type": "stream",
     "text": [
      "INFO:tensorflow:Saver not created because there are no variables in the graph to restore\n"
     ]
    },
    {
     "name": "stdout",
     "output_type": "stream",
     "text": [
      "INFO:tensorflow:Done calling model_fn.\n"
     ]
    },
    {
     "name": "stderr",
     "output_type": "stream",
     "text": [
      "INFO:tensorflow:Done calling model_fn.\n"
     ]
    },
    {
     "name": "stdout",
     "output_type": "stream",
     "text": [
      "INFO:tensorflow:Graph was finalized.\n"
     ]
    },
    {
     "name": "stderr",
     "output_type": "stream",
     "text": [
      "INFO:tensorflow:Graph was finalized.\n"
     ]
    },
    {
     "name": "stdout",
     "output_type": "stream",
     "text": [
      "INFO:tensorflow:Restoring parameters from ./tfmodel_09_04_2020v2/model.ckpt-166\n"
     ]
    },
    {
     "name": "stderr",
     "output_type": "stream",
     "text": [
      "INFO:tensorflow:Restoring parameters from ./tfmodel_09_04_2020v2/model.ckpt-166\n"
     ]
    },
    {
     "name": "stdout",
     "output_type": "stream",
     "text": [
      "INFO:tensorflow:Running local_init_op.\n"
     ]
    },
    {
     "name": "stderr",
     "output_type": "stream",
     "text": [
      "INFO:tensorflow:Running local_init_op.\n"
     ]
    },
    {
     "name": "stdout",
     "output_type": "stream",
     "text": [
      "INFO:tensorflow:Done running local_init_op.\n"
     ]
    },
    {
     "name": "stderr",
     "output_type": "stream",
     "text": [
      "INFO:tensorflow:Done running local_init_op.\n"
     ]
    }
   ],
   "source": [
    "test_all_live = pd.read_csv(PATH+'PopbotsLive_TestSet_213.csv')\n",
    "\n",
    "test_all_live, experiment_df_live = get_test_experiment_df(test_all_live)"
   ]
  },
  {
   "cell_type": "code",
   "execution_count": 118,
   "metadata": {},
   "outputs": [
    {
     "data": {
      "text/html": [
       "<div>\n",
       "<style scoped>\n",
       "    .dataframe tbody tr th:only-of-type {\n",
       "        vertical-align: middle;\n",
       "    }\n",
       "\n",
       "    .dataframe tbody tr th {\n",
       "        vertical-align: top;\n",
       "    }\n",
       "\n",
       "    .dataframe thead th {\n",
       "        text-align: right;\n",
       "    }\n",
       "</style>\n",
       "<table border=\"1\" class=\"dataframe\">\n",
       "  <thead>\n",
       "    <tr style=\"text-align: right;\">\n",
       "      <th></th>\n",
       "      <th>Answer.Stressor</th>\n",
       "      <th>Answer.Label</th>\n",
       "      <th>Predicted</th>\n",
       "      <th>Emotional Turmoil</th>\n",
       "      <th>Family Issue</th>\n",
       "      <th>Financial Problem</th>\n",
       "      <th>Health or Physical Pain</th>\n",
       "      <th>School</th>\n",
       "      <th>Work</th>\n",
       "      <th>Other</th>\n",
       "      <th>Everyday Decision Making</th>\n",
       "      <th>Social Relationships</th>\n",
       "    </tr>\n",
       "  </thead>\n",
       "  <tbody>\n",
       "    <tr>\n",
       "      <th>0</th>\n",
       "      <td>Big trip home</td>\n",
       "      <td>Commute</td>\n",
       "      <td>Other</td>\n",
       "      <td>0.272378</td>\n",
       "      <td>0.131272</td>\n",
       "      <td>0.037065</td>\n",
       "      <td>0.024605</td>\n",
       "      <td>0.011082</td>\n",
       "      <td>0.020390</td>\n",
       "      <td>0.424965</td>\n",
       "      <td>0.049417</td>\n",
       "      <td>0.028825</td>\n",
       "    </tr>\n",
       "    <tr>\n",
       "      <th>1</th>\n",
       "      <td>Commuting to work</td>\n",
       "      <td>Commute</td>\n",
       "      <td>Work</td>\n",
       "      <td>0.126643</td>\n",
       "      <td>0.009934</td>\n",
       "      <td>0.009344</td>\n",
       "      <td>0.035849</td>\n",
       "      <td>0.007175</td>\n",
       "      <td>0.594073</td>\n",
       "      <td>0.096021</td>\n",
       "      <td>0.088991</td>\n",
       "      <td>0.031971</td>\n",
       "    </tr>\n",
       "    <tr>\n",
       "      <th>2</th>\n",
       "      <td>Flat tire</td>\n",
       "      <td>Commute</td>\n",
       "      <td>Work</td>\n",
       "      <td>0.098246</td>\n",
       "      <td>0.038938</td>\n",
       "      <td>0.253883</td>\n",
       "      <td>0.064022</td>\n",
       "      <td>0.018223</td>\n",
       "      <td>0.273120</td>\n",
       "      <td>0.161729</td>\n",
       "      <td>0.074507</td>\n",
       "      <td>0.017333</td>\n",
       "    </tr>\n",
       "    <tr>\n",
       "      <th>3</th>\n",
       "      <td>Flat tire</td>\n",
       "      <td>Commute</td>\n",
       "      <td>Work</td>\n",
       "      <td>0.091649</td>\n",
       "      <td>0.036717</td>\n",
       "      <td>0.248963</td>\n",
       "      <td>0.064104</td>\n",
       "      <td>0.017233</td>\n",
       "      <td>0.291003</td>\n",
       "      <td>0.160127</td>\n",
       "      <td>0.070948</td>\n",
       "      <td>0.019256</td>\n",
       "    </tr>\n",
       "    <tr>\n",
       "      <th>4</th>\n",
       "      <td>Tires</td>\n",
       "      <td>Commute</td>\n",
       "      <td>Financial Problem</td>\n",
       "      <td>0.099142</td>\n",
       "      <td>0.051423</td>\n",
       "      <td>0.253456</td>\n",
       "      <td>0.037280</td>\n",
       "      <td>0.035590</td>\n",
       "      <td>0.184224</td>\n",
       "      <td>0.247975</td>\n",
       "      <td>0.071764</td>\n",
       "      <td>0.019146</td>\n",
       "    </tr>\n",
       "    <tr>\n",
       "      <th>5</th>\n",
       "      <td>traffic!</td>\n",
       "      <td>Commute</td>\n",
       "      <td>Work</td>\n",
       "      <td>0.143932</td>\n",
       "      <td>0.019284</td>\n",
       "      <td>0.084309</td>\n",
       "      <td>0.041000</td>\n",
       "      <td>0.034181</td>\n",
       "      <td>0.392411</td>\n",
       "      <td>0.186211</td>\n",
       "      <td>0.079066</td>\n",
       "      <td>0.019606</td>\n",
       "    </tr>\n",
       "    <tr>\n",
       "      <th>6</th>\n",
       "      <td>Travel</td>\n",
       "      <td>Commute</td>\n",
       "      <td>Other</td>\n",
       "      <td>0.287636</td>\n",
       "      <td>0.056697</td>\n",
       "      <td>0.018208</td>\n",
       "      <td>0.028406</td>\n",
       "      <td>0.010985</td>\n",
       "      <td>0.041920</td>\n",
       "      <td>0.480069</td>\n",
       "      <td>0.046924</td>\n",
       "      <td>0.029155</td>\n",
       "    </tr>\n",
       "    <tr>\n",
       "      <th>7</th>\n",
       "      <td>2 of my foster kittens died</td>\n",
       "      <td>Emotional Turmoil</td>\n",
       "      <td>Family Issue</td>\n",
       "      <td>0.070396</td>\n",
       "      <td>0.791616</td>\n",
       "      <td>0.016444</td>\n",
       "      <td>0.032129</td>\n",
       "      <td>0.015836</td>\n",
       "      <td>0.004235</td>\n",
       "      <td>0.027521</td>\n",
       "      <td>0.012297</td>\n",
       "      <td>0.029527</td>\n",
       "    </tr>\n",
       "    <tr>\n",
       "      <th>8</th>\n",
       "      <td>Feeling insecure about my short hair</td>\n",
       "      <td>Emotional Turmoil</td>\n",
       "      <td>Emotional Turmoil</td>\n",
       "      <td>0.391046</td>\n",
       "      <td>0.204847</td>\n",
       "      <td>0.013058</td>\n",
       "      <td>0.131414</td>\n",
       "      <td>0.020372</td>\n",
       "      <td>0.029646</td>\n",
       "      <td>0.072775</td>\n",
       "      <td>0.058624</td>\n",
       "      <td>0.078217</td>\n",
       "    </tr>\n",
       "    <tr>\n",
       "      <th>9</th>\n",
       "      <td>Feeling lonely</td>\n",
       "      <td>Emotional Turmoil</td>\n",
       "      <td>Emotional Turmoil</td>\n",
       "      <td>0.338041</td>\n",
       "      <td>0.327069</td>\n",
       "      <td>0.021340</td>\n",
       "      <td>0.031170</td>\n",
       "      <td>0.010475</td>\n",
       "      <td>0.009327</td>\n",
       "      <td>0.174159</td>\n",
       "      <td>0.035103</td>\n",
       "      <td>0.053316</td>\n",
       "    </tr>\n",
       "    <tr>\n",
       "      <th>10</th>\n",
       "      <td>I embarrassed myself today</td>\n",
       "      <td>Emotional Turmoil</td>\n",
       "      <td>Emotional Turmoil</td>\n",
       "      <td>0.407819</td>\n",
       "      <td>0.070322</td>\n",
       "      <td>0.012663</td>\n",
       "      <td>0.135440</td>\n",
       "      <td>0.007630</td>\n",
       "      <td>0.037494</td>\n",
       "      <td>0.177692</td>\n",
       "      <td>0.083679</td>\n",
       "      <td>0.067262</td>\n",
       "    </tr>\n",
       "    <tr>\n",
       "      <th>11</th>\n",
       "      <td>I feel lonely</td>\n",
       "      <td>Emotional Turmoil</td>\n",
       "      <td>Family Issue</td>\n",
       "      <td>0.226864</td>\n",
       "      <td>0.467472</td>\n",
       "      <td>0.028416</td>\n",
       "      <td>0.029902</td>\n",
       "      <td>0.010161</td>\n",
       "      <td>0.008853</td>\n",
       "      <td>0.147460</td>\n",
       "      <td>0.025773</td>\n",
       "      <td>0.055098</td>\n",
       "    </tr>\n",
       "    <tr>\n",
       "      <th>12</th>\n",
       "      <td>I have been feeling kind of lonely lately</td>\n",
       "      <td>Emotional Turmoil</td>\n",
       "      <td>Emotional Turmoil</td>\n",
       "      <td>0.487504</td>\n",
       "      <td>0.110602</td>\n",
       "      <td>0.010170</td>\n",
       "      <td>0.067229</td>\n",
       "      <td>0.017738</td>\n",
       "      <td>0.012037</td>\n",
       "      <td>0.065885</td>\n",
       "      <td>0.057661</td>\n",
       "      <td>0.171175</td>\n",
       "    </tr>\n",
       "    <tr>\n",
       "      <th>13</th>\n",
       "      <td>My foster kitten is dying.</td>\n",
       "      <td>Emotional Turmoil</td>\n",
       "      <td>Family Issue</td>\n",
       "      <td>0.048334</td>\n",
       "      <td>0.815213</td>\n",
       "      <td>0.019799</td>\n",
       "      <td>0.046664</td>\n",
       "      <td>0.013719</td>\n",
       "      <td>0.004842</td>\n",
       "      <td>0.018624</td>\n",
       "      <td>0.008569</td>\n",
       "      <td>0.024236</td>\n",
       "    </tr>\n",
       "    <tr>\n",
       "      <th>14</th>\n",
       "      <td>My hair makes me feel unattractive</td>\n",
       "      <td>Emotional Turmoil</td>\n",
       "      <td>Health or Physical Pain</td>\n",
       "      <td>0.163914</td>\n",
       "      <td>0.209976</td>\n",
       "      <td>0.026434</td>\n",
       "      <td>0.319680</td>\n",
       "      <td>0.027890</td>\n",
       "      <td>0.033051</td>\n",
       "      <td>0.063378</td>\n",
       "      <td>0.084736</td>\n",
       "      <td>0.070941</td>\n",
       "    </tr>\n",
       "    <tr>\n",
       "      <th>15</th>\n",
       "      <td>A lot on my to do list</td>\n",
       "      <td>Everyday Decision Making</td>\n",
       "      <td>Emotional Turmoil</td>\n",
       "      <td>0.516196</td>\n",
       "      <td>0.031602</td>\n",
       "      <td>0.013235</td>\n",
       "      <td>0.037992</td>\n",
       "      <td>0.005724</td>\n",
       "      <td>0.073009</td>\n",
       "      <td>0.131067</td>\n",
       "      <td>0.107053</td>\n",
       "      <td>0.084121</td>\n",
       "    </tr>\n",
       "    <tr>\n",
       "      <th>16</th>\n",
       "      <td>Deciding if I should work out or not</td>\n",
       "      <td>Everyday Decision Making</td>\n",
       "      <td>Other</td>\n",
       "      <td>0.205303</td>\n",
       "      <td>0.037049</td>\n",
       "      <td>0.022486</td>\n",
       "      <td>0.032961</td>\n",
       "      <td>0.054222</td>\n",
       "      <td>0.100771</td>\n",
       "      <td>0.484172</td>\n",
       "      <td>0.036776</td>\n",
       "      <td>0.026260</td>\n",
       "    </tr>\n",
       "    <tr>\n",
       "      <th>17</th>\n",
       "      <td>Don't know what to cook for dinner</td>\n",
       "      <td>Everyday Decision Making</td>\n",
       "      <td>Everyday Decision Making</td>\n",
       "      <td>0.142336</td>\n",
       "      <td>0.108848</td>\n",
       "      <td>0.053120</td>\n",
       "      <td>0.074567</td>\n",
       "      <td>0.013027</td>\n",
       "      <td>0.045919</td>\n",
       "      <td>0.083285</td>\n",
       "      <td>0.332266</td>\n",
       "      <td>0.146631</td>\n",
       "    </tr>\n",
       "    <tr>\n",
       "      <th>18</th>\n",
       "      <td>Figuring out where to go fruit picking tomorrow</td>\n",
       "      <td>Everyday Decision Making</td>\n",
       "      <td>Other</td>\n",
       "      <td>0.254044</td>\n",
       "      <td>0.044396</td>\n",
       "      <td>0.030921</td>\n",
       "      <td>0.018345</td>\n",
       "      <td>0.020142</td>\n",
       "      <td>0.037182</td>\n",
       "      <td>0.491784</td>\n",
       "      <td>0.073255</td>\n",
       "      <td>0.029931</td>\n",
       "    </tr>\n",
       "    <tr>\n",
       "      <th>19</th>\n",
       "      <td>Groceries</td>\n",
       "      <td>Everyday Decision Making</td>\n",
       "      <td>Other</td>\n",
       "      <td>0.223470</td>\n",
       "      <td>0.070032</td>\n",
       "      <td>0.100548</td>\n",
       "      <td>0.035263</td>\n",
       "      <td>0.023081</td>\n",
       "      <td>0.061127</td>\n",
       "      <td>0.378822</td>\n",
       "      <td>0.080486</td>\n",
       "      <td>0.027171</td>\n",
       "    </tr>\n",
       "    <tr>\n",
       "      <th>20</th>\n",
       "      <td>I have a really busy schedule this weekend and I'd rather stay home</td>\n",
       "      <td>Everyday Decision Making</td>\n",
       "      <td>Everyday Decision Making</td>\n",
       "      <td>0.205172</td>\n",
       "      <td>0.019821</td>\n",
       "      <td>0.008197</td>\n",
       "      <td>0.159588</td>\n",
       "      <td>0.016633</td>\n",
       "      <td>0.209505</td>\n",
       "      <td>0.061307</td>\n",
       "      <td>0.232639</td>\n",
       "      <td>0.087137</td>\n",
       "    </tr>\n",
       "    <tr>\n",
       "      <th>21</th>\n",
       "      <td>I have some tasks that I keep putting off</td>\n",
       "      <td>Everyday Decision Making</td>\n",
       "      <td>Work</td>\n",
       "      <td>0.079132</td>\n",
       "      <td>0.016393</td>\n",
       "      <td>0.013741</td>\n",
       "      <td>0.094123</td>\n",
       "      <td>0.021490</td>\n",
       "      <td>0.476028</td>\n",
       "      <td>0.050552</td>\n",
       "      <td>0.218139</td>\n",
       "      <td>0.030402</td>\n",
       "    </tr>\n",
       "    <tr>\n",
       "      <th>22</th>\n",
       "      <td>I need to figure out storage</td>\n",
       "      <td>Everyday Decision Making</td>\n",
       "      <td>Everyday Decision Making</td>\n",
       "      <td>0.190553</td>\n",
       "      <td>0.050934</td>\n",
       "      <td>0.071781</td>\n",
       "      <td>0.039722</td>\n",
       "      <td>0.014880</td>\n",
       "      <td>0.092896</td>\n",
       "      <td>0.188055</td>\n",
       "      <td>0.296426</td>\n",
       "      <td>0.054753</td>\n",
       "    </tr>\n",
       "    <tr>\n",
       "      <th>23</th>\n",
       "      <td>I'm wasting some of my time</td>\n",
       "      <td>Everyday Decision Making</td>\n",
       "      <td>Work</td>\n",
       "      <td>0.092205</td>\n",
       "      <td>0.009397</td>\n",
       "      <td>0.010364</td>\n",
       "      <td>0.054696</td>\n",
       "      <td>0.006251</td>\n",
       "      <td>0.684142</td>\n",
       "      <td>0.052805</td>\n",
       "      <td>0.072308</td>\n",
       "      <td>0.017831</td>\n",
       "    </tr>\n",
       "    <tr>\n",
       "      <th>24</th>\n",
       "      <td>Knowing what to do this weekend</td>\n",
       "      <td>Everyday Decision Making</td>\n",
       "      <td>Other</td>\n",
       "      <td>0.356075</td>\n",
       "      <td>0.038093</td>\n",
       "      <td>0.013575</td>\n",
       "      <td>0.021765</td>\n",
       "      <td>0.023164</td>\n",
       "      <td>0.031585</td>\n",
       "      <td>0.413135</td>\n",
       "      <td>0.068654</td>\n",
       "      <td>0.033953</td>\n",
       "    </tr>\n",
       "    <tr>\n",
       "      <th>25</th>\n",
       "      <td>So much to do</td>\n",
       "      <td>Everyday Decision Making</td>\n",
       "      <td>Emotional Turmoil</td>\n",
       "      <td>0.349354</td>\n",
       "      <td>0.069370</td>\n",
       "      <td>0.039633</td>\n",
       "      <td>0.095081</td>\n",
       "      <td>0.007383</td>\n",
       "      <td>0.070157</td>\n",
       "      <td>0.192159</td>\n",
       "      <td>0.141523</td>\n",
       "      <td>0.035341</td>\n",
       "    </tr>\n",
       "    <tr>\n",
       "      <th>26</th>\n",
       "      <td>Time management</td>\n",
       "      <td>Everyday Decision Making</td>\n",
       "      <td>Work</td>\n",
       "      <td>0.036910</td>\n",
       "      <td>0.007998</td>\n",
       "      <td>0.028287</td>\n",
       "      <td>0.017734</td>\n",
       "      <td>0.005087</td>\n",
       "      <td>0.785069</td>\n",
       "      <td>0.070899</td>\n",
       "      <td>0.038645</td>\n",
       "      <td>0.009372</td>\n",
       "    </tr>\n",
       "    <tr>\n",
       "      <th>27</th>\n",
       "      <td>Too many interruptions all day</td>\n",
       "      <td>Everyday Decision Making</td>\n",
       "      <td>Work</td>\n",
       "      <td>0.249936</td>\n",
       "      <td>0.022147</td>\n",
       "      <td>0.008363</td>\n",
       "      <td>0.148191</td>\n",
       "      <td>0.008409</td>\n",
       "      <td>0.300098</td>\n",
       "      <td>0.057273</td>\n",
       "      <td>0.150407</td>\n",
       "      <td>0.055176</td>\n",
       "    </tr>\n",
       "    <tr>\n",
       "      <th>28</th>\n",
       "      <td>Feeling overwhelmed</td>\n",
       "      <td>Exhaustion or Fatigue</td>\n",
       "      <td>Other</td>\n",
       "      <td>0.202490</td>\n",
       "      <td>0.210114</td>\n",
       "      <td>0.051360</td>\n",
       "      <td>0.075127</td>\n",
       "      <td>0.014349</td>\n",
       "      <td>0.020181</td>\n",
       "      <td>0.344087</td>\n",
       "      <td>0.051877</td>\n",
       "      <td>0.030416</td>\n",
       "    </tr>\n",
       "    <tr>\n",
       "      <th>29</th>\n",
       "      <td>Having to take care of 6 foster kittens. I'm exhausted!</td>\n",
       "      <td>Exhaustion or Fatigue</td>\n",
       "      <td>Family Issue</td>\n",
       "      <td>0.119056</td>\n",
       "      <td>0.636632</td>\n",
       "      <td>0.016684</td>\n",
       "      <td>0.085268</td>\n",
       "      <td>0.014667</td>\n",
       "      <td>0.007359</td>\n",
       "      <td>0.037725</td>\n",
       "      <td>0.029495</td>\n",
       "      <td>0.053113</td>\n",
       "    </tr>\n",
       "    <tr>\n",
       "      <th>30</th>\n",
       "      <td>I want to eat better but I'm having a hard time with it</td>\n",
       "      <td>Exhaustion or Fatigue</td>\n",
       "      <td>Health or Physical Pain</td>\n",
       "      <td>0.058024</td>\n",
       "      <td>0.032542</td>\n",
       "      <td>0.020723</td>\n",
       "      <td>0.691073</td>\n",
       "      <td>0.008854</td>\n",
       "      <td>0.028424</td>\n",
       "      <td>0.031385</td>\n",
       "      <td>0.094226</td>\n",
       "      <td>0.034750</td>\n",
       "    </tr>\n",
       "    <tr>\n",
       "      <th>31</th>\n",
       "      <td>I'm hungry</td>\n",
       "      <td>Exhaustion or Fatigue</td>\n",
       "      <td>Health or Physical Pain</td>\n",
       "      <td>0.178274</td>\n",
       "      <td>0.053459</td>\n",
       "      <td>0.017349</td>\n",
       "      <td>0.294197</td>\n",
       "      <td>0.019703</td>\n",
       "      <td>0.063086</td>\n",
       "      <td>0.244411</td>\n",
       "      <td>0.108011</td>\n",
       "      <td>0.021510</td>\n",
       "    </tr>\n",
       "    <tr>\n",
       "      <th>32</th>\n",
       "      <td>I'm not sleeping well</td>\n",
       "      <td>Exhaustion or Fatigue</td>\n",
       "      <td>Health or Physical Pain</td>\n",
       "      <td>0.041975</td>\n",
       "      <td>0.028633</td>\n",
       "      <td>0.012868</td>\n",
       "      <td>0.791058</td>\n",
       "      <td>0.010940</td>\n",
       "      <td>0.024281</td>\n",
       "      <td>0.026377</td>\n",
       "      <td>0.049586</td>\n",
       "      <td>0.014281</td>\n",
       "    </tr>\n",
       "    <tr>\n",
       "      <th>33</th>\n",
       "      <td>I'm Tired</td>\n",
       "      <td>Exhaustion or Fatigue</td>\n",
       "      <td>Health or Physical Pain</td>\n",
       "      <td>0.063352</td>\n",
       "      <td>0.042657</td>\n",
       "      <td>0.014582</td>\n",
       "      <td>0.702021</td>\n",
       "      <td>0.012733</td>\n",
       "      <td>0.038160</td>\n",
       "      <td>0.054568</td>\n",
       "      <td>0.054822</td>\n",
       "      <td>0.017105</td>\n",
       "    </tr>\n",
       "    <tr>\n",
       "      <th>34</th>\n",
       "      <td>Incredibly tired and I have to be alert until noon today</td>\n",
       "      <td>Exhaustion or Fatigue</td>\n",
       "      <td>Health or Physical Pain</td>\n",
       "      <td>0.035899</td>\n",
       "      <td>0.027466</td>\n",
       "      <td>0.019906</td>\n",
       "      <td>0.736208</td>\n",
       "      <td>0.019885</td>\n",
       "      <td>0.046400</td>\n",
       "      <td>0.026737</td>\n",
       "      <td>0.068493</td>\n",
       "      <td>0.019007</td>\n",
       "    </tr>\n",
       "    <tr>\n",
       "      <th>35</th>\n",
       "      <td>It's been a long day and I'm looking forward to relaxing</td>\n",
       "      <td>Exhaustion or Fatigue</td>\n",
       "      <td>Emotional Turmoil</td>\n",
       "      <td>0.401088</td>\n",
       "      <td>0.034217</td>\n",
       "      <td>0.009378</td>\n",
       "      <td>0.078160</td>\n",
       "      <td>0.009534</td>\n",
       "      <td>0.081997</td>\n",
       "      <td>0.227508</td>\n",
       "      <td>0.110833</td>\n",
       "      <td>0.047285</td>\n",
       "    </tr>\n",
       "    <tr>\n",
       "      <th>36</th>\n",
       "      <td>Just done with a bridge tournament</td>\n",
       "      <td>Exhaustion or Fatigue</td>\n",
       "      <td>Other</td>\n",
       "      <td>0.295753</td>\n",
       "      <td>0.027132</td>\n",
       "      <td>0.019188</td>\n",
       "      <td>0.028337</td>\n",
       "      <td>0.022197</td>\n",
       "      <td>0.055370</td>\n",
       "      <td>0.446928</td>\n",
       "      <td>0.077155</td>\n",
       "      <td>0.027940</td>\n",
       "    </tr>\n",
       "    <tr>\n",
       "      <th>37</th>\n",
       "      <td>Long day</td>\n",
       "      <td>Exhaustion or Fatigue</td>\n",
       "      <td>Work</td>\n",
       "      <td>0.121397</td>\n",
       "      <td>0.028082</td>\n",
       "      <td>0.017270</td>\n",
       "      <td>0.205698</td>\n",
       "      <td>0.010293</td>\n",
       "      <td>0.310858</td>\n",
       "      <td>0.155270</td>\n",
       "      <td>0.124837</td>\n",
       "      <td>0.026296</td>\n",
       "    </tr>\n",
       "    <tr>\n",
       "      <th>38</th>\n",
       "      <td>my back</td>\n",
       "      <td>Exhaustion or Fatigue</td>\n",
       "      <td>Health or Physical Pain</td>\n",
       "      <td>0.039262</td>\n",
       "      <td>0.053755</td>\n",
       "      <td>0.042323</td>\n",
       "      <td>0.668768</td>\n",
       "      <td>0.021885</td>\n",
       "      <td>0.056846</td>\n",
       "      <td>0.050654</td>\n",
       "      <td>0.049098</td>\n",
       "      <td>0.017410</td>\n",
       "    </tr>\n",
       "    <tr>\n",
       "      <th>39</th>\n",
       "      <td>Not able to sleep</td>\n",
       "      <td>Exhaustion or Fatigue</td>\n",
       "      <td>Health or Physical Pain</td>\n",
       "      <td>0.137139</td>\n",
       "      <td>0.054020</td>\n",
       "      <td>0.019390</td>\n",
       "      <td>0.443063</td>\n",
       "      <td>0.016079</td>\n",
       "      <td>0.052199</td>\n",
       "      <td>0.152791</td>\n",
       "      <td>0.090701</td>\n",
       "      <td>0.034618</td>\n",
       "    </tr>\n",
       "    <tr>\n",
       "      <th>40</th>\n",
       "      <td>Poor sleep even if I go to bed on time</td>\n",
       "      <td>Exhaustion or Fatigue</td>\n",
       "      <td>Health or Physical Pain</td>\n",
       "      <td>0.031173</td>\n",
       "      <td>0.021364</td>\n",
       "      <td>0.020180</td>\n",
       "      <td>0.798238</td>\n",
       "      <td>0.013562</td>\n",
       "      <td>0.030282</td>\n",
       "      <td>0.021204</td>\n",
       "      <td>0.046795</td>\n",
       "      <td>0.017201</td>\n",
       "    </tr>\n",
       "    <tr>\n",
       "      <th>41</th>\n",
       "      <td>Really tired right now</td>\n",
       "      <td>Exhaustion or Fatigue</td>\n",
       "      <td>Health or Physical Pain</td>\n",
       "      <td>0.031588</td>\n",
       "      <td>0.026033</td>\n",
       "      <td>0.025656</td>\n",
       "      <td>0.786594</td>\n",
       "      <td>0.014991</td>\n",
       "      <td>0.025860</td>\n",
       "      <td>0.021945</td>\n",
       "      <td>0.049247</td>\n",
       "      <td>0.018086</td>\n",
       "    </tr>\n",
       "    <tr>\n",
       "      <th>42</th>\n",
       "      <td>Sleep</td>\n",
       "      <td>Exhaustion or Fatigue</td>\n",
       "      <td>Other</td>\n",
       "      <td>0.190030</td>\n",
       "      <td>0.090063</td>\n",
       "      <td>0.023597</td>\n",
       "      <td>0.078159</td>\n",
       "      <td>0.014673</td>\n",
       "      <td>0.045976</td>\n",
       "      <td>0.464219</td>\n",
       "      <td>0.065892</td>\n",
       "      <td>0.027392</td>\n",
       "    </tr>\n",
       "    <tr>\n",
       "      <th>43</th>\n",
       "      <td>family</td>\n",
       "      <td>Family Issue</td>\n",
       "      <td>Other</td>\n",
       "      <td>0.211053</td>\n",
       "      <td>0.318767</td>\n",
       "      <td>0.024469</td>\n",
       "      <td>0.019714</td>\n",
       "      <td>0.014512</td>\n",
       "      <td>0.012286</td>\n",
       "      <td>0.348150</td>\n",
       "      <td>0.021310</td>\n",
       "      <td>0.029739</td>\n",
       "    </tr>\n",
       "    <tr>\n",
       "      <th>44</th>\n",
       "      <td>I wont be able to see William</td>\n",
       "      <td>Family Issue</td>\n",
       "      <td>Family Issue</td>\n",
       "      <td>0.242068</td>\n",
       "      <td>0.257771</td>\n",
       "      <td>0.042501</td>\n",
       "      <td>0.043194</td>\n",
       "      <td>0.011065</td>\n",
       "      <td>0.019837</td>\n",
       "      <td>0.134475</td>\n",
       "      <td>0.100263</td>\n",
       "      <td>0.148827</td>\n",
       "    </tr>\n",
       "    <tr>\n",
       "      <th>45</th>\n",
       "      <td>making a decision on preschool</td>\n",
       "      <td>Family Issue</td>\n",
       "      <td>Other</td>\n",
       "      <td>0.179715</td>\n",
       "      <td>0.276331</td>\n",
       "      <td>0.021944</td>\n",
       "      <td>0.022728</td>\n",
       "      <td>0.068056</td>\n",
       "      <td>0.022844</td>\n",
       "      <td>0.349583</td>\n",
       "      <td>0.032652</td>\n",
       "      <td>0.026148</td>\n",
       "    </tr>\n",
       "    <tr>\n",
       "      <th>46</th>\n",
       "      <td>My 13 year old hates school and tries everything to avoid going</td>\n",
       "      <td>Family Issue</td>\n",
       "      <td>School</td>\n",
       "      <td>0.033786</td>\n",
       "      <td>0.063441</td>\n",
       "      <td>0.015687</td>\n",
       "      <td>0.010947</td>\n",
       "      <td>0.760511</td>\n",
       "      <td>0.007362</td>\n",
       "      <td>0.048095</td>\n",
       "      <td>0.029638</td>\n",
       "      <td>0.030534</td>\n",
       "    </tr>\n",
       "    <tr>\n",
       "      <th>47</th>\n",
       "      <td>My baby is learning to climb out of her crib</td>\n",
       "      <td>Family Issue</td>\n",
       "      <td>Family Issue</td>\n",
       "      <td>0.065052</td>\n",
       "      <td>0.790106</td>\n",
       "      <td>0.012878</td>\n",
       "      <td>0.038969</td>\n",
       "      <td>0.013083</td>\n",
       "      <td>0.007033</td>\n",
       "      <td>0.044952</td>\n",
       "      <td>0.011688</td>\n",
       "      <td>0.016239</td>\n",
       "    </tr>\n",
       "    <tr>\n",
       "      <th>48</th>\n",
       "      <td>My child</td>\n",
       "      <td>Family Issue</td>\n",
       "      <td>Family Issue</td>\n",
       "      <td>0.213309</td>\n",
       "      <td>0.345849</td>\n",
       "      <td>0.018795</td>\n",
       "      <td>0.036752</td>\n",
       "      <td>0.031366</td>\n",
       "      <td>0.035129</td>\n",
       "      <td>0.252241</td>\n",
       "      <td>0.019533</td>\n",
       "      <td>0.047027</td>\n",
       "    </tr>\n",
       "    <tr>\n",
       "      <th>49</th>\n",
       "      <td>My daughter has been having panic attacks</td>\n",
       "      <td>Family Issue</td>\n",
       "      <td>Family Issue</td>\n",
       "      <td>0.056288</td>\n",
       "      <td>0.716328</td>\n",
       "      <td>0.023280</td>\n",
       "      <td>0.131798</td>\n",
       "      <td>0.013694</td>\n",
       "      <td>0.006302</td>\n",
       "      <td>0.019977</td>\n",
       "      <td>0.013656</td>\n",
       "      <td>0.018678</td>\n",
       "    </tr>\n",
       "    <tr>\n",
       "      <th>50</th>\n",
       "      <td>My daughter Sarah</td>\n",
       "      <td>Family Issue</td>\n",
       "      <td>Family Issue</td>\n",
       "      <td>0.092906</td>\n",
       "      <td>0.686295</td>\n",
       "      <td>0.021892</td>\n",
       "      <td>0.025528</td>\n",
       "      <td>0.018915</td>\n",
       "      <td>0.011361</td>\n",
       "      <td>0.104481</td>\n",
       "      <td>0.009707</td>\n",
       "      <td>0.028915</td>\n",
       "    </tr>\n",
       "    <tr>\n",
       "      <th>51</th>\n",
       "      <td>my son</td>\n",
       "      <td>Family Issue</td>\n",
       "      <td>Other</td>\n",
       "      <td>0.208909</td>\n",
       "      <td>0.225998</td>\n",
       "      <td>0.017754</td>\n",
       "      <td>0.031746</td>\n",
       "      <td>0.033591</td>\n",
       "      <td>0.041331</td>\n",
       "      <td>0.364312</td>\n",
       "      <td>0.024536</td>\n",
       "      <td>0.051825</td>\n",
       "    </tr>\n",
       "    <tr>\n",
       "      <th>52</th>\n",
       "      <td>my son and sleep</td>\n",
       "      <td>Family Issue</td>\n",
       "      <td>Family Issue</td>\n",
       "      <td>0.182441</td>\n",
       "      <td>0.474291</td>\n",
       "      <td>0.013393</td>\n",
       "      <td>0.034322</td>\n",
       "      <td>0.020420</td>\n",
       "      <td>0.014489</td>\n",
       "      <td>0.210936</td>\n",
       "      <td>0.015755</td>\n",
       "      <td>0.033953</td>\n",
       "    </tr>\n",
       "    <tr>\n",
       "      <th>53</th>\n",
       "      <td>I have a friend coming over and I'm stressed about a big expense</td>\n",
       "      <td>Financial Problem</td>\n",
       "      <td>Emotional Turmoil</td>\n",
       "      <td>0.517182</td>\n",
       "      <td>0.079396</td>\n",
       "      <td>0.025910</td>\n",
       "      <td>0.035935</td>\n",
       "      <td>0.014037</td>\n",
       "      <td>0.017577</td>\n",
       "      <td>0.061760</td>\n",
       "      <td>0.093192</td>\n",
       "      <td>0.155011</td>\n",
       "    </tr>\n",
       "    <tr>\n",
       "      <th>54</th>\n",
       "      <td>I need to find a job</td>\n",
       "      <td>Financial Problem</td>\n",
       "      <td>Financial Problem</td>\n",
       "      <td>0.025026</td>\n",
       "      <td>0.006405</td>\n",
       "      <td>0.669082</td>\n",
       "      <td>0.015352</td>\n",
       "      <td>0.007639</td>\n",
       "      <td>0.212361</td>\n",
       "      <td>0.033748</td>\n",
       "      <td>0.025792</td>\n",
       "      <td>0.004595</td>\n",
       "    </tr>\n",
       "    <tr>\n",
       "      <th>55</th>\n",
       "      <td>Money</td>\n",
       "      <td>Financial Problem</td>\n",
       "      <td>Financial Problem</td>\n",
       "      <td>0.009920</td>\n",
       "      <td>0.008177</td>\n",
       "      <td>0.936642</td>\n",
       "      <td>0.005920</td>\n",
       "      <td>0.004116</td>\n",
       "      <td>0.007839</td>\n",
       "      <td>0.015318</td>\n",
       "      <td>0.008222</td>\n",
       "      <td>0.003846</td>\n",
       "    </tr>\n",
       "    <tr>\n",
       "      <th>56</th>\n",
       "      <td>Money</td>\n",
       "      <td>Financial Problem</td>\n",
       "      <td>Financial Problem</td>\n",
       "      <td>0.009422</td>\n",
       "      <td>0.006910</td>\n",
       "      <td>0.939976</td>\n",
       "      <td>0.005296</td>\n",
       "      <td>0.003733</td>\n",
       "      <td>0.008983</td>\n",
       "      <td>0.013751</td>\n",
       "      <td>0.008453</td>\n",
       "      <td>0.003476</td>\n",
       "    </tr>\n",
       "    <tr>\n",
       "      <th>57</th>\n",
       "      <td>Money</td>\n",
       "      <td>Financial Problem</td>\n",
       "      <td>Financial Problem</td>\n",
       "      <td>0.008510</td>\n",
       "      <td>0.007049</td>\n",
       "      <td>0.934590</td>\n",
       "      <td>0.005185</td>\n",
       "      <td>0.004143</td>\n",
       "      <td>0.009466</td>\n",
       "      <td>0.017046</td>\n",
       "      <td>0.009449</td>\n",
       "      <td>0.004563</td>\n",
       "    </tr>\n",
       "    <tr>\n",
       "      <th>58</th>\n",
       "      <td>money</td>\n",
       "      <td>Financial Problem</td>\n",
       "      <td>Financial Problem</td>\n",
       "      <td>0.010538</td>\n",
       "      <td>0.009293</td>\n",
       "      <td>0.926941</td>\n",
       "      <td>0.007100</td>\n",
       "      <td>0.004551</td>\n",
       "      <td>0.010766</td>\n",
       "      <td>0.016615</td>\n",
       "      <td>0.009416</td>\n",
       "      <td>0.004780</td>\n",
       "    </tr>\n",
       "    <tr>\n",
       "      <th>59</th>\n",
       "      <td>money</td>\n",
       "      <td>Financial Problem</td>\n",
       "      <td>Financial Problem</td>\n",
       "      <td>0.008425</td>\n",
       "      <td>0.008914</td>\n",
       "      <td>0.936453</td>\n",
       "      <td>0.005014</td>\n",
       "      <td>0.003737</td>\n",
       "      <td>0.008710</td>\n",
       "      <td>0.016669</td>\n",
       "      <td>0.008425</td>\n",
       "      <td>0.003653</td>\n",
       "    </tr>\n",
       "    <tr>\n",
       "      <th>60</th>\n",
       "      <td>Money</td>\n",
       "      <td>Financial Problem</td>\n",
       "      <td>Financial Problem</td>\n",
       "      <td>0.009012</td>\n",
       "      <td>0.008572</td>\n",
       "      <td>0.928045</td>\n",
       "      <td>0.005353</td>\n",
       "      <td>0.004960</td>\n",
       "      <td>0.009666</td>\n",
       "      <td>0.019147</td>\n",
       "      <td>0.011241</td>\n",
       "      <td>0.004004</td>\n",
       "    </tr>\n",
       "    <tr>\n",
       "      <th>61</th>\n",
       "      <td>Moving</td>\n",
       "      <td>Financial Problem</td>\n",
       "      <td>Other</td>\n",
       "      <td>0.197961</td>\n",
       "      <td>0.131518</td>\n",
       "      <td>0.040244</td>\n",
       "      <td>0.113731</td>\n",
       "      <td>0.012034</td>\n",
       "      <td>0.056480</td>\n",
       "      <td>0.233340</td>\n",
       "      <td>0.149601</td>\n",
       "      <td>0.065091</td>\n",
       "    </tr>\n",
       "    <tr>\n",
       "      <th>62</th>\n",
       "      <td>My kids spent too much money at the event today</td>\n",
       "      <td>Financial Problem</td>\n",
       "      <td>Financial Problem</td>\n",
       "      <td>0.050808</td>\n",
       "      <td>0.208504</td>\n",
       "      <td>0.607718</td>\n",
       "      <td>0.016120</td>\n",
       "      <td>0.011015</td>\n",
       "      <td>0.011756</td>\n",
       "      <td>0.059660</td>\n",
       "      <td>0.017981</td>\n",
       "      <td>0.016438</td>\n",
       "    </tr>\n",
       "    <tr>\n",
       "      <th>63</th>\n",
       "      <td>My lease is ending soon</td>\n",
       "      <td>Financial Problem</td>\n",
       "      <td>Emotional Turmoil</td>\n",
       "      <td>0.386205</td>\n",
       "      <td>0.103802</td>\n",
       "      <td>0.011300</td>\n",
       "      <td>0.013814</td>\n",
       "      <td>0.022692</td>\n",
       "      <td>0.017314</td>\n",
       "      <td>0.374554</td>\n",
       "      <td>0.026238</td>\n",
       "      <td>0.044080</td>\n",
       "    </tr>\n",
       "    <tr>\n",
       "      <th>64</th>\n",
       "      <td>Body pain</td>\n",
       "      <td>Health or Physical Pain</td>\n",
       "      <td>Health or Physical Pain</td>\n",
       "      <td>0.029156</td>\n",
       "      <td>0.044192</td>\n",
       "      <td>0.031876</td>\n",
       "      <td>0.758010</td>\n",
       "      <td>0.015560</td>\n",
       "      <td>0.042089</td>\n",
       "      <td>0.030850</td>\n",
       "      <td>0.038574</td>\n",
       "      <td>0.009693</td>\n",
       "    </tr>\n",
       "    <tr>\n",
       "      <th>65</th>\n",
       "      <td>Eating well</td>\n",
       "      <td>Health or Physical Pain</td>\n",
       "      <td>Other</td>\n",
       "      <td>0.255919</td>\n",
       "      <td>0.075537</td>\n",
       "      <td>0.021403</td>\n",
       "      <td>0.090524</td>\n",
       "      <td>0.009056</td>\n",
       "      <td>0.065951</td>\n",
       "      <td>0.309950</td>\n",
       "      <td>0.138570</td>\n",
       "      <td>0.033091</td>\n",
       "    </tr>\n",
       "    <tr>\n",
       "      <th>66</th>\n",
       "      <td>Getting Ebola.</td>\n",
       "      <td>Health or Physical Pain</td>\n",
       "      <td>Health or Physical Pain</td>\n",
       "      <td>0.056303</td>\n",
       "      <td>0.187099</td>\n",
       "      <td>0.084172</td>\n",
       "      <td>0.538745</td>\n",
       "      <td>0.031450</td>\n",
       "      <td>0.018351</td>\n",
       "      <td>0.034073</td>\n",
       "      <td>0.029534</td>\n",
       "      <td>0.020272</td>\n",
       "    </tr>\n",
       "    <tr>\n",
       "      <th>67</th>\n",
       "      <td>I have a terrible headache</td>\n",
       "      <td>Health or Physical Pain</td>\n",
       "      <td>Health or Physical Pain</td>\n",
       "      <td>0.036949</td>\n",
       "      <td>0.022164</td>\n",
       "      <td>0.015740</td>\n",
       "      <td>0.799314</td>\n",
       "      <td>0.013253</td>\n",
       "      <td>0.027264</td>\n",
       "      <td>0.020142</td>\n",
       "      <td>0.047933</td>\n",
       "      <td>0.017242</td>\n",
       "    </tr>\n",
       "    <tr>\n",
       "      <th>68</th>\n",
       "      <td>I may have broken my toe.</td>\n",
       "      <td>Health or Physical Pain</td>\n",
       "      <td>Health or Physical Pain</td>\n",
       "      <td>0.028442</td>\n",
       "      <td>0.058327</td>\n",
       "      <td>0.042147</td>\n",
       "      <td>0.748179</td>\n",
       "      <td>0.018681</td>\n",
       "      <td>0.023448</td>\n",
       "      <td>0.020961</td>\n",
       "      <td>0.041367</td>\n",
       "      <td>0.018447</td>\n",
       "    </tr>\n",
       "    <tr>\n",
       "      <th>69</th>\n",
       "      <td>I think I have trich</td>\n",
       "      <td>Health or Physical Pain</td>\n",
       "      <td>Emotional Turmoil</td>\n",
       "      <td>0.283044</td>\n",
       "      <td>0.160071</td>\n",
       "      <td>0.016724</td>\n",
       "      <td>0.154281</td>\n",
       "      <td>0.009053</td>\n",
       "      <td>0.022767</td>\n",
       "      <td>0.155680</td>\n",
       "      <td>0.131865</td>\n",
       "      <td>0.066515</td>\n",
       "    </tr>\n",
       "    <tr>\n",
       "      <th>70</th>\n",
       "      <td>I'm stressing out about sticking to a work out routine</td>\n",
       "      <td>Health or Physical Pain</td>\n",
       "      <td>Health or Physical Pain</td>\n",
       "      <td>0.029276</td>\n",
       "      <td>0.022545</td>\n",
       "      <td>0.015625</td>\n",
       "      <td>0.781086</td>\n",
       "      <td>0.016655</td>\n",
       "      <td>0.040059</td>\n",
       "      <td>0.015477</td>\n",
       "      <td>0.061806</td>\n",
       "      <td>0.017470</td>\n",
       "    </tr>\n",
       "    <tr>\n",
       "      <th>71</th>\n",
       "      <td>My stomach hurts</td>\n",
       "      <td>Health or Physical Pain</td>\n",
       "      <td>Health or Physical Pain</td>\n",
       "      <td>0.020496</td>\n",
       "      <td>0.042164</td>\n",
       "      <td>0.035012</td>\n",
       "      <td>0.784341</td>\n",
       "      <td>0.016918</td>\n",
       "      <td>0.025005</td>\n",
       "      <td>0.023881</td>\n",
       "      <td>0.038948</td>\n",
       "      <td>0.013235</td>\n",
       "    </tr>\n",
       "    <tr>\n",
       "      <th>72</th>\n",
       "      <td>Physical problems</td>\n",
       "      <td>Health or Physical Pain</td>\n",
       "      <td>Health or Physical Pain</td>\n",
       "      <td>0.025124</td>\n",
       "      <td>0.029898</td>\n",
       "      <td>0.028898</td>\n",
       "      <td>0.791618</td>\n",
       "      <td>0.014066</td>\n",
       "      <td>0.036796</td>\n",
       "      <td>0.023348</td>\n",
       "      <td>0.037220</td>\n",
       "      <td>0.013032</td>\n",
       "    </tr>\n",
       "    <tr>\n",
       "      <th>73</th>\n",
       "      <td>Some health decisions</td>\n",
       "      <td>Health or Physical Pain</td>\n",
       "      <td>Health or Physical Pain</td>\n",
       "      <td>0.032850</td>\n",
       "      <td>0.043996</td>\n",
       "      <td>0.025081</td>\n",
       "      <td>0.746727</td>\n",
       "      <td>0.011715</td>\n",
       "      <td>0.035182</td>\n",
       "      <td>0.027325</td>\n",
       "      <td>0.059299</td>\n",
       "      <td>0.017827</td>\n",
       "    </tr>\n",
       "    <tr>\n",
       "      <th>74</th>\n",
       "      <td>Some pain in my ribs</td>\n",
       "      <td>Health or Physical Pain</td>\n",
       "      <td>Health or Physical Pain</td>\n",
       "      <td>0.034289</td>\n",
       "      <td>0.036048</td>\n",
       "      <td>0.033758</td>\n",
       "      <td>0.786135</td>\n",
       "      <td>0.016453</td>\n",
       "      <td>0.024764</td>\n",
       "      <td>0.020501</td>\n",
       "      <td>0.035483</td>\n",
       "      <td>0.012570</td>\n",
       "    </tr>\n",
       "    <tr>\n",
       "      <th>75</th>\n",
       "      <td>Worrying about some pain in the ribs</td>\n",
       "      <td>Health or Physical Pain</td>\n",
       "      <td>Health or Physical Pain</td>\n",
       "      <td>0.029716</td>\n",
       "      <td>0.033713</td>\n",
       "      <td>0.026460</td>\n",
       "      <td>0.817859</td>\n",
       "      <td>0.010357</td>\n",
       "      <td>0.019123</td>\n",
       "      <td>0.018752</td>\n",
       "      <td>0.030676</td>\n",
       "      <td>0.013344</td>\n",
       "    </tr>\n",
       "    <tr>\n",
       "      <th>76</th>\n",
       "      <td>Just travel stuff</td>\n",
       "      <td>Holiday or Vacation</td>\n",
       "      <td>Other</td>\n",
       "      <td>0.253421</td>\n",
       "      <td>0.025293</td>\n",
       "      <td>0.050949</td>\n",
       "      <td>0.052615</td>\n",
       "      <td>0.012317</td>\n",
       "      <td>0.073614</td>\n",
       "      <td>0.396352</td>\n",
       "      <td>0.107640</td>\n",
       "      <td>0.027799</td>\n",
       "    </tr>\n",
       "    <tr>\n",
       "      <th>77</th>\n",
       "      <td>Packing for my trips</td>\n",
       "      <td>Holiday or Vacation</td>\n",
       "      <td>Emotional Turmoil</td>\n",
       "      <td>0.353855</td>\n",
       "      <td>0.037880</td>\n",
       "      <td>0.014802</td>\n",
       "      <td>0.024645</td>\n",
       "      <td>0.015991</td>\n",
       "      <td>0.082272</td>\n",
       "      <td>0.323279</td>\n",
       "      <td>0.108002</td>\n",
       "      <td>0.039274</td>\n",
       "    </tr>\n",
       "    <tr>\n",
       "      <th>78</th>\n",
       "      <td>Preparing for a trip</td>\n",
       "      <td>Holiday or Vacation</td>\n",
       "      <td>Other</td>\n",
       "      <td>0.295249</td>\n",
       "      <td>0.035309</td>\n",
       "      <td>0.012752</td>\n",
       "      <td>0.034323</td>\n",
       "      <td>0.022547</td>\n",
       "      <td>0.089159</td>\n",
       "      <td>0.393680</td>\n",
       "      <td>0.090411</td>\n",
       "      <td>0.026570</td>\n",
       "    </tr>\n",
       "    <tr>\n",
       "      <th>79</th>\n",
       "      <td>Trip to Reno</td>\n",
       "      <td>Holiday or Vacation</td>\n",
       "      <td>Other</td>\n",
       "      <td>0.345694</td>\n",
       "      <td>0.038160</td>\n",
       "      <td>0.025710</td>\n",
       "      <td>0.020703</td>\n",
       "      <td>0.013081</td>\n",
       "      <td>0.056535</td>\n",
       "      <td>0.417230</td>\n",
       "      <td>0.051065</td>\n",
       "      <td>0.031824</td>\n",
       "    </tr>\n",
       "    <tr>\n",
       "      <th>80</th>\n",
       "      <td>?</td>\n",
       "      <td>Not a stressor</td>\n",
       "      <td>Other</td>\n",
       "      <td>0.299746</td>\n",
       "      <td>0.074834</td>\n",
       "      <td>0.030691</td>\n",
       "      <td>0.023938</td>\n",
       "      <td>0.015727</td>\n",
       "      <td>0.033935</td>\n",
       "      <td>0.442415</td>\n",
       "      <td>0.048290</td>\n",
       "      <td>0.030424</td>\n",
       "    </tr>\n",
       "    <tr>\n",
       "      <th>81</th>\n",
       "      <td>And name</td>\n",
       "      <td>not a stressor</td>\n",
       "      <td>Other</td>\n",
       "      <td>0.207450</td>\n",
       "      <td>0.165756</td>\n",
       "      <td>0.054735</td>\n",
       "      <td>0.031359</td>\n",
       "      <td>0.018484</td>\n",
       "      <td>0.016488</td>\n",
       "      <td>0.436756</td>\n",
       "      <td>0.039152</td>\n",
       "      <td>0.029819</td>\n",
       "    </tr>\n",
       "    <tr>\n",
       "      <th>82</th>\n",
       "      <td>Bueller?</td>\n",
       "      <td>Not a stressor</td>\n",
       "      <td>Other</td>\n",
       "      <td>0.285692</td>\n",
       "      <td>0.078980</td>\n",
       "      <td>0.067881</td>\n",
       "      <td>0.023915</td>\n",
       "      <td>0.012921</td>\n",
       "      <td>0.101232</td>\n",
       "      <td>0.353045</td>\n",
       "      <td>0.044754</td>\n",
       "      <td>0.031580</td>\n",
       "    </tr>\n",
       "    <tr>\n",
       "      <th>83</th>\n",
       "      <td>car</td>\n",
       "      <td>Not a stressor</td>\n",
       "      <td>Other</td>\n",
       "      <td>0.226064</td>\n",
       "      <td>0.034079</td>\n",
       "      <td>0.047382</td>\n",
       "      <td>0.042498</td>\n",
       "      <td>0.018315</td>\n",
       "      <td>0.198179</td>\n",
       "      <td>0.301130</td>\n",
       "      <td>0.096433</td>\n",
       "      <td>0.035921</td>\n",
       "    </tr>\n",
       "    <tr>\n",
       "      <th>84</th>\n",
       "      <td>Ceramics</td>\n",
       "      <td>not a stressor</td>\n",
       "      <td>Other</td>\n",
       "      <td>0.191673</td>\n",
       "      <td>0.069443</td>\n",
       "      <td>0.061538</td>\n",
       "      <td>0.023175</td>\n",
       "      <td>0.031889</td>\n",
       "      <td>0.105638</td>\n",
       "      <td>0.434548</td>\n",
       "      <td>0.055453</td>\n",
       "      <td>0.026643</td>\n",
       "    </tr>\n",
       "    <tr>\n",
       "      <th>85</th>\n",
       "      <td>Games</td>\n",
       "      <td>Not a stressor</td>\n",
       "      <td>Emotional Turmoil</td>\n",
       "      <td>0.392845</td>\n",
       "      <td>0.048814</td>\n",
       "      <td>0.024624</td>\n",
       "      <td>0.020310</td>\n",
       "      <td>0.016511</td>\n",
       "      <td>0.046589</td>\n",
       "      <td>0.365874</td>\n",
       "      <td>0.046750</td>\n",
       "      <td>0.037682</td>\n",
       "    </tr>\n",
       "    <tr>\n",
       "      <th>86</th>\n",
       "      <td>hi</td>\n",
       "      <td>Not a stressor</td>\n",
       "      <td>Other</td>\n",
       "      <td>0.216754</td>\n",
       "      <td>0.157518</td>\n",
       "      <td>0.026208</td>\n",
       "      <td>0.018777</td>\n",
       "      <td>0.021993</td>\n",
       "      <td>0.017076</td>\n",
       "      <td>0.484367</td>\n",
       "      <td>0.028644</td>\n",
       "      <td>0.028665</td>\n",
       "    </tr>\n",
       "    <tr>\n",
       "      <th>87</th>\n",
       "      <td>Honestly not much</td>\n",
       "      <td>not a stressor</td>\n",
       "      <td>Other</td>\n",
       "      <td>0.227538</td>\n",
       "      <td>0.062925</td>\n",
       "      <td>0.049685</td>\n",
       "      <td>0.040379</td>\n",
       "      <td>0.025577</td>\n",
       "      <td>0.059732</td>\n",
       "      <td>0.453135</td>\n",
       "      <td>0.060078</td>\n",
       "      <td>0.020951</td>\n",
       "    </tr>\n",
       "    <tr>\n",
       "      <th>88</th>\n",
       "      <td>How are you</td>\n",
       "      <td>Not a stressor</td>\n",
       "      <td>Other</td>\n",
       "      <td>0.138578</td>\n",
       "      <td>0.299311</td>\n",
       "      <td>0.035576</td>\n",
       "      <td>0.038413</td>\n",
       "      <td>0.018367</td>\n",
       "      <td>0.013148</td>\n",
       "      <td>0.406274</td>\n",
       "      <td>0.027704</td>\n",
       "      <td>0.022630</td>\n",
       "    </tr>\n",
       "    <tr>\n",
       "      <th>89</th>\n",
       "      <td>I am good</td>\n",
       "      <td>Not a stressor</td>\n",
       "      <td>Other</td>\n",
       "      <td>0.179122</td>\n",
       "      <td>0.195925</td>\n",
       "      <td>0.036802</td>\n",
       "      <td>0.042186</td>\n",
       "      <td>0.011482</td>\n",
       "      <td>0.029584</td>\n",
       "      <td>0.435915</td>\n",
       "      <td>0.046064</td>\n",
       "      <td>0.022920</td>\n",
       "    </tr>\n",
       "    <tr>\n",
       "      <th>90</th>\n",
       "      <td>I don't have a scenario</td>\n",
       "      <td>Not a stressor</td>\n",
       "      <td>Emotional Turmoil</td>\n",
       "      <td>0.434578</td>\n",
       "      <td>0.043201</td>\n",
       "      <td>0.025018</td>\n",
       "      <td>0.039792</td>\n",
       "      <td>0.014125</td>\n",
       "      <td>0.034469</td>\n",
       "      <td>0.236177</td>\n",
       "      <td>0.097065</td>\n",
       "      <td>0.075575</td>\n",
       "    </tr>\n",
       "    <tr>\n",
       "      <th>91</th>\n",
       "      <td>I'm doing fine</td>\n",
       "      <td>Not a stressor</td>\n",
       "      <td>Other</td>\n",
       "      <td>0.206192</td>\n",
       "      <td>0.048826</td>\n",
       "      <td>0.033819</td>\n",
       "      <td>0.086434</td>\n",
       "      <td>0.033140</td>\n",
       "      <td>0.099810</td>\n",
       "      <td>0.410647</td>\n",
       "      <td>0.058959</td>\n",
       "      <td>0.022173</td>\n",
       "    </tr>\n",
       "    <tr>\n",
       "      <th>92</th>\n",
       "      <td>i'm not stressed right now</td>\n",
       "      <td>Not a stressor</td>\n",
       "      <td>Emotional Turmoil</td>\n",
       "      <td>0.516560</td>\n",
       "      <td>0.076500</td>\n",
       "      <td>0.010378</td>\n",
       "      <td>0.026398</td>\n",
       "      <td>0.034417</td>\n",
       "      <td>0.023990</td>\n",
       "      <td>0.179360</td>\n",
       "      <td>0.039497</td>\n",
       "      <td>0.092900</td>\n",
       "    </tr>\n",
       "    <tr>\n",
       "      <th>93</th>\n",
       "      <td>I'm not stressed today</td>\n",
       "      <td>Not a stressor</td>\n",
       "      <td>Emotional Turmoil</td>\n",
       "      <td>0.423472</td>\n",
       "      <td>0.085832</td>\n",
       "      <td>0.007953</td>\n",
       "      <td>0.025006</td>\n",
       "      <td>0.060636</td>\n",
       "      <td>0.020330</td>\n",
       "      <td>0.284869</td>\n",
       "      <td>0.032572</td>\n",
       "      <td>0.059331</td>\n",
       "    </tr>\n",
       "    <tr>\n",
       "      <th>94</th>\n",
       "      <td>Just a regular day</td>\n",
       "      <td>Not a stressor</td>\n",
       "      <td>Work</td>\n",
       "      <td>0.142690</td>\n",
       "      <td>0.020912</td>\n",
       "      <td>0.010230</td>\n",
       "      <td>0.129535</td>\n",
       "      <td>0.011140</td>\n",
       "      <td>0.388590</td>\n",
       "      <td>0.101829</td>\n",
       "      <td>0.171098</td>\n",
       "      <td>0.023976</td>\n",
       "    </tr>\n",
       "    <tr>\n",
       "      <th>95</th>\n",
       "      <td>New day</td>\n",
       "      <td>Not a stressor</td>\n",
       "      <td>Other</td>\n",
       "      <td>0.242405</td>\n",
       "      <td>0.074202</td>\n",
       "      <td>0.022610</td>\n",
       "      <td>0.080685</td>\n",
       "      <td>0.014295</td>\n",
       "      <td>0.101477</td>\n",
       "      <td>0.332752</td>\n",
       "      <td>0.107062</td>\n",
       "      <td>0.024512</td>\n",
       "    </tr>\n",
       "    <tr>\n",
       "      <th>96</th>\n",
       "      <td>No</td>\n",
       "      <td>Not a stressor</td>\n",
       "      <td>Other</td>\n",
       "      <td>0.279132</td>\n",
       "      <td>0.065695</td>\n",
       "      <td>0.031465</td>\n",
       "      <td>0.031439</td>\n",
       "      <td>0.016907</td>\n",
       "      <td>0.052718</td>\n",
       "      <td>0.443612</td>\n",
       "      <td>0.057160</td>\n",
       "      <td>0.021872</td>\n",
       "    </tr>\n",
       "    <tr>\n",
       "      <th>97</th>\n",
       "      <td>No</td>\n",
       "      <td>Not a stressor</td>\n",
       "      <td>Other</td>\n",
       "      <td>0.275176</td>\n",
       "      <td>0.050172</td>\n",
       "      <td>0.027373</td>\n",
       "      <td>0.031933</td>\n",
       "      <td>0.017083</td>\n",
       "      <td>0.051985</td>\n",
       "      <td>0.476519</td>\n",
       "      <td>0.046619</td>\n",
       "      <td>0.023140</td>\n",
       "    </tr>\n",
       "    <tr>\n",
       "      <th>98</th>\n",
       "      <td>No problem</td>\n",
       "      <td>Not a stressor</td>\n",
       "      <td>Other</td>\n",
       "      <td>0.193104</td>\n",
       "      <td>0.026519</td>\n",
       "      <td>0.036072</td>\n",
       "      <td>0.040675</td>\n",
       "      <td>0.014566</td>\n",
       "      <td>0.193159</td>\n",
       "      <td>0.363291</td>\n",
       "      <td>0.106439</td>\n",
       "      <td>0.026174</td>\n",
       "    </tr>\n",
       "    <tr>\n",
       "      <th>99</th>\n",
       "      <td>not much some I'm on vacation</td>\n",
       "      <td>Not a stressor</td>\n",
       "      <td>Emotional Turmoil</td>\n",
       "      <td>0.352691</td>\n",
       "      <td>0.039021</td>\n",
       "      <td>0.028651</td>\n",
       "      <td>0.050904</td>\n",
       "      <td>0.008550</td>\n",
       "      <td>0.063606</td>\n",
       "      <td>0.264294</td>\n",
       "      <td>0.139449</td>\n",
       "      <td>0.052835</td>\n",
       "    </tr>\n",
       "    <tr>\n",
       "      <th>100</th>\n",
       "      <td>Not too much</td>\n",
       "      <td>Not a stressor</td>\n",
       "      <td>Emotional Turmoil</td>\n",
       "      <td>0.235437</td>\n",
       "      <td>0.077535</td>\n",
       "      <td>0.046257</td>\n",
       "      <td>0.125748</td>\n",
       "      <td>0.012236</td>\n",
       "      <td>0.046370</td>\n",
       "      <td>0.170622</td>\n",
       "      <td>0.217550</td>\n",
       "      <td>0.068246</td>\n",
       "    </tr>\n",
       "    <tr>\n",
       "      <th>101</th>\n",
       "      <td>Not understanding these instructions.</td>\n",
       "      <td>Not a stressor</td>\n",
       "      <td>Other</td>\n",
       "      <td>0.267093</td>\n",
       "      <td>0.103901</td>\n",
       "      <td>0.035929</td>\n",
       "      <td>0.062118</td>\n",
       "      <td>0.016983</td>\n",
       "      <td>0.104998</td>\n",
       "      <td>0.286954</td>\n",
       "      <td>0.094563</td>\n",
       "      <td>0.027462</td>\n",
       "    </tr>\n",
       "    <tr>\n",
       "      <th>102</th>\n",
       "      <td>nothing</td>\n",
       "      <td>Not a stressor</td>\n",
       "      <td>Other</td>\n",
       "      <td>0.219199</td>\n",
       "      <td>0.066810</td>\n",
       "      <td>0.069761</td>\n",
       "      <td>0.033414</td>\n",
       "      <td>0.010689</td>\n",
       "      <td>0.053304</td>\n",
       "      <td>0.449551</td>\n",
       "      <td>0.073622</td>\n",
       "      <td>0.023651</td>\n",
       "    </tr>\n",
       "    <tr>\n",
       "      <th>103</th>\n",
       "      <td>nothing</td>\n",
       "      <td>Not a stressor</td>\n",
       "      <td>Other</td>\n",
       "      <td>0.168953</td>\n",
       "      <td>0.060737</td>\n",
       "      <td>0.064932</td>\n",
       "      <td>0.032185</td>\n",
       "      <td>0.011784</td>\n",
       "      <td>0.045505</td>\n",
       "      <td>0.512615</td>\n",
       "      <td>0.076320</td>\n",
       "      <td>0.026969</td>\n",
       "    </tr>\n",
       "    <tr>\n",
       "      <th>104</th>\n",
       "      <td>nothing</td>\n",
       "      <td>Not a stressor</td>\n",
       "      <td>Other</td>\n",
       "      <td>0.174384</td>\n",
       "      <td>0.064956</td>\n",
       "      <td>0.065153</td>\n",
       "      <td>0.031821</td>\n",
       "      <td>0.011324</td>\n",
       "      <td>0.051442</td>\n",
       "      <td>0.493029</td>\n",
       "      <td>0.080141</td>\n",
       "      <td>0.027749</td>\n",
       "    </tr>\n",
       "    <tr>\n",
       "      <th>105</th>\n",
       "      <td>Nothing is stressing me out</td>\n",
       "      <td>Not a stressor</td>\n",
       "      <td>Emotional Turmoil</td>\n",
       "      <td>0.308682</td>\n",
       "      <td>0.118074</td>\n",
       "      <td>0.020242</td>\n",
       "      <td>0.059858</td>\n",
       "      <td>0.010790</td>\n",
       "      <td>0.036305</td>\n",
       "      <td>0.295080</td>\n",
       "      <td>0.092339</td>\n",
       "      <td>0.058631</td>\n",
       "    </tr>\n",
       "    <tr>\n",
       "      <th>106</th>\n",
       "      <td>Nothing much</td>\n",
       "      <td>Not a stressor</td>\n",
       "      <td>Other</td>\n",
       "      <td>0.283917</td>\n",
       "      <td>0.069874</td>\n",
       "      <td>0.037609</td>\n",
       "      <td>0.024290</td>\n",
       "      <td>0.008777</td>\n",
       "      <td>0.036543</td>\n",
       "      <td>0.444409</td>\n",
       "      <td>0.063916</td>\n",
       "      <td>0.030667</td>\n",
       "    </tr>\n",
       "    <tr>\n",
       "      <th>107</th>\n",
       "      <td>Nothing really</td>\n",
       "      <td>Not a stressor</td>\n",
       "      <td>Other</td>\n",
       "      <td>0.312312</td>\n",
       "      <td>0.067977</td>\n",
       "      <td>0.033222</td>\n",
       "      <td>0.027504</td>\n",
       "      <td>0.014808</td>\n",
       "      <td>0.047770</td>\n",
       "      <td>0.382830</td>\n",
       "      <td>0.076015</td>\n",
       "      <td>0.037562</td>\n",
       "    </tr>\n",
       "    <tr>\n",
       "      <th>108</th>\n",
       "      <td>Nothing really</td>\n",
       "      <td>Not a stressor</td>\n",
       "      <td>Other</td>\n",
       "      <td>0.273852</td>\n",
       "      <td>0.069828</td>\n",
       "      <td>0.028972</td>\n",
       "      <td>0.026515</td>\n",
       "      <td>0.014626</td>\n",
       "      <td>0.042231</td>\n",
       "      <td>0.433384</td>\n",
       "      <td>0.076383</td>\n",
       "      <td>0.034209</td>\n",
       "    </tr>\n",
       "    <tr>\n",
       "      <th>109</th>\n",
       "      <td>Nothing really</td>\n",
       "      <td>Not a stressor</td>\n",
       "      <td>Other</td>\n",
       "      <td>0.315753</td>\n",
       "      <td>0.075181</td>\n",
       "      <td>0.032865</td>\n",
       "      <td>0.025713</td>\n",
       "      <td>0.016143</td>\n",
       "      <td>0.050399</td>\n",
       "      <td>0.381456</td>\n",
       "      <td>0.069622</td>\n",
       "      <td>0.032868</td>\n",
       "    </tr>\n",
       "    <tr>\n",
       "      <th>110</th>\n",
       "      <td>Nothing really - just wanted to say hello</td>\n",
       "      <td>Not a stressor</td>\n",
       "      <td>Other</td>\n",
       "      <td>0.359158</td>\n",
       "      <td>0.061106</td>\n",
       "      <td>0.019078</td>\n",
       "      <td>0.017060</td>\n",
       "      <td>0.016114</td>\n",
       "      <td>0.015411</td>\n",
       "      <td>0.424499</td>\n",
       "      <td>0.047043</td>\n",
       "      <td>0.040531</td>\n",
       "    </tr>\n",
       "    <tr>\n",
       "      <th>111</th>\n",
       "      <td>Nothing!</td>\n",
       "      <td>Not a stressor</td>\n",
       "      <td>Other</td>\n",
       "      <td>0.147557</td>\n",
       "      <td>0.078214</td>\n",
       "      <td>0.212503</td>\n",
       "      <td>0.051181</td>\n",
       "      <td>0.016838</td>\n",
       "      <td>0.063052</td>\n",
       "      <td>0.302805</td>\n",
       "      <td>0.101724</td>\n",
       "      <td>0.026125</td>\n",
       "    </tr>\n",
       "    <tr>\n",
       "      <th>112</th>\n",
       "      <td>Nothing! I'm having a good time right now</td>\n",
       "      <td>Not a stressor</td>\n",
       "      <td>Emotional Turmoil</td>\n",
       "      <td>0.445394</td>\n",
       "      <td>0.054562</td>\n",
       "      <td>0.014127</td>\n",
       "      <td>0.043328</td>\n",
       "      <td>0.012144</td>\n",
       "      <td>0.025610</td>\n",
       "      <td>0.061680</td>\n",
       "      <td>0.083592</td>\n",
       "      <td>0.259562</td>\n",
       "    </tr>\n",
       "    <tr>\n",
       "      <th>113</th>\n",
       "      <td>Submitting an email</td>\n",
       "      <td>Not a stressor</td>\n",
       "      <td>Other</td>\n",
       "      <td>0.259504</td>\n",
       "      <td>0.026297</td>\n",
       "      <td>0.027804</td>\n",
       "      <td>0.022253</td>\n",
       "      <td>0.017054</td>\n",
       "      <td>0.221584</td>\n",
       "      <td>0.350037</td>\n",
       "      <td>0.047003</td>\n",
       "      <td>0.028463</td>\n",
       "    </tr>\n",
       "    <tr>\n",
       "      <th>114</th>\n",
       "      <td>Sure</td>\n",
       "      <td>Not a stressor</td>\n",
       "      <td>Other</td>\n",
       "      <td>0.246520</td>\n",
       "      <td>0.065486</td>\n",
       "      <td>0.022897</td>\n",
       "      <td>0.022835</td>\n",
       "      <td>0.019813</td>\n",
       "      <td>0.046356</td>\n",
       "      <td>0.523670</td>\n",
       "      <td>0.034308</td>\n",
       "      <td>0.018116</td>\n",
       "    </tr>\n",
       "    <tr>\n",
       "      <th>115</th>\n",
       "      <td>What scenario?</td>\n",
       "      <td>Not a stressor</td>\n",
       "      <td>Other</td>\n",
       "      <td>0.182319</td>\n",
       "      <td>0.058126</td>\n",
       "      <td>0.136946</td>\n",
       "      <td>0.040362</td>\n",
       "      <td>0.020654</td>\n",
       "      <td>0.073935</td>\n",
       "      <td>0.401252</td>\n",
       "      <td>0.065800</td>\n",
       "      <td>0.020606</td>\n",
       "    </tr>\n",
       "    <tr>\n",
       "      <th>116</th>\n",
       "      <td>Which bot am I talking to?</td>\n",
       "      <td>Not a stressor</td>\n",
       "      <td>Emotional Turmoil</td>\n",
       "      <td>0.377541</td>\n",
       "      <td>0.029784</td>\n",
       "      <td>0.016894</td>\n",
       "      <td>0.027125</td>\n",
       "      <td>0.016770</td>\n",
       "      <td>0.124357</td>\n",
       "      <td>0.304012</td>\n",
       "      <td>0.060725</td>\n",
       "      <td>0.042794</td>\n",
       "    </tr>\n",
       "    <tr>\n",
       "      <th>117</th>\n",
       "      <td>I made a mistake</td>\n",
       "      <td>Other</td>\n",
       "      <td>Emotional Turmoil</td>\n",
       "      <td>0.437374</td>\n",
       "      <td>0.083998</td>\n",
       "      <td>0.024164</td>\n",
       "      <td>0.044899</td>\n",
       "      <td>0.009113</td>\n",
       "      <td>0.038005</td>\n",
       "      <td>0.288841</td>\n",
       "      <td>0.037663</td>\n",
       "      <td>0.035942</td>\n",
       "    </tr>\n",
       "    <tr>\n",
       "      <th>118</th>\n",
       "      <td>I'm worried that I'm wasting food</td>\n",
       "      <td>Other</td>\n",
       "      <td>Health or Physical Pain</td>\n",
       "      <td>0.043182</td>\n",
       "      <td>0.074195</td>\n",
       "      <td>0.045646</td>\n",
       "      <td>0.676103</td>\n",
       "      <td>0.017637</td>\n",
       "      <td>0.025898</td>\n",
       "      <td>0.031964</td>\n",
       "      <td>0.063837</td>\n",
       "      <td>0.021537</td>\n",
       "    </tr>\n",
       "    <tr>\n",
       "      <th>119</th>\n",
       "      <td>My dog keeps barking</td>\n",
       "      <td>Other</td>\n",
       "      <td>Emotional Turmoil</td>\n",
       "      <td>0.357893</td>\n",
       "      <td>0.229186</td>\n",
       "      <td>0.010774</td>\n",
       "      <td>0.035926</td>\n",
       "      <td>0.008308</td>\n",
       "      <td>0.026058</td>\n",
       "      <td>0.238447</td>\n",
       "      <td>0.048109</td>\n",
       "      <td>0.045300</td>\n",
       "    </tr>\n",
       "    <tr>\n",
       "      <th>120</th>\n",
       "      <td>Packing up everything to move out</td>\n",
       "      <td>Other</td>\n",
       "      <td>Other</td>\n",
       "      <td>0.265008</td>\n",
       "      <td>0.074245</td>\n",
       "      <td>0.047090</td>\n",
       "      <td>0.030277</td>\n",
       "      <td>0.007829</td>\n",
       "      <td>0.054669</td>\n",
       "      <td>0.271206</td>\n",
       "      <td>0.197668</td>\n",
       "      <td>0.052008</td>\n",
       "    </tr>\n",
       "    <tr>\n",
       "      <th>121</th>\n",
       "      <td>Politics</td>\n",
       "      <td>Other</td>\n",
       "      <td>Other</td>\n",
       "      <td>0.233442</td>\n",
       "      <td>0.057924</td>\n",
       "      <td>0.074255</td>\n",
       "      <td>0.038342</td>\n",
       "      <td>0.025966</td>\n",
       "      <td>0.104406</td>\n",
       "      <td>0.396499</td>\n",
       "      <td>0.044013</td>\n",
       "      <td>0.025154</td>\n",
       "    </tr>\n",
       "    <tr>\n",
       "      <th>122</th>\n",
       "      <td>Still stressed about the same thing as before</td>\n",
       "      <td>Other</td>\n",
       "      <td>Emotional Turmoil</td>\n",
       "      <td>0.442428</td>\n",
       "      <td>0.059792</td>\n",
       "      <td>0.011634</td>\n",
       "      <td>0.022978</td>\n",
       "      <td>0.030867</td>\n",
       "      <td>0.014341</td>\n",
       "      <td>0.288430</td>\n",
       "      <td>0.046583</td>\n",
       "      <td>0.082947</td>\n",
       "    </tr>\n",
       "    <tr>\n",
       "      <th>123</th>\n",
       "      <td>A paper I need to write</td>\n",
       "      <td>School</td>\n",
       "      <td>Other</td>\n",
       "      <td>0.141300</td>\n",
       "      <td>0.021613</td>\n",
       "      <td>0.015230</td>\n",
       "      <td>0.043924</td>\n",
       "      <td>0.185749</td>\n",
       "      <td>0.194420</td>\n",
       "      <td>0.244852</td>\n",
       "      <td>0.126174</td>\n",
       "      <td>0.026738</td>\n",
       "    </tr>\n",
       "    <tr>\n",
       "      <th>124</th>\n",
       "      <td>Classes</td>\n",
       "      <td>School</td>\n",
       "      <td>School</td>\n",
       "      <td>0.009724</td>\n",
       "      <td>0.011692</td>\n",
       "      <td>0.011205</td>\n",
       "      <td>0.010464</td>\n",
       "      <td>0.871778</td>\n",
       "      <td>0.016638</td>\n",
       "      <td>0.022722</td>\n",
       "      <td>0.031039</td>\n",
       "      <td>0.014738</td>\n",
       "    </tr>\n",
       "    <tr>\n",
       "      <th>125</th>\n",
       "      <td>college</td>\n",
       "      <td>School</td>\n",
       "      <td>School</td>\n",
       "      <td>0.011891</td>\n",
       "      <td>0.010665</td>\n",
       "      <td>0.012945</td>\n",
       "      <td>0.010149</td>\n",
       "      <td>0.854618</td>\n",
       "      <td>0.018036</td>\n",
       "      <td>0.041307</td>\n",
       "      <td>0.025279</td>\n",
       "      <td>0.015110</td>\n",
       "    </tr>\n",
       "    <tr>\n",
       "      <th>126</th>\n",
       "      <td>Figuring out what classes I want to take</td>\n",
       "      <td>School</td>\n",
       "      <td>School</td>\n",
       "      <td>0.011631</td>\n",
       "      <td>0.010601</td>\n",
       "      <td>0.010081</td>\n",
       "      <td>0.010627</td>\n",
       "      <td>0.864023</td>\n",
       "      <td>0.017238</td>\n",
       "      <td>0.034442</td>\n",
       "      <td>0.027822</td>\n",
       "      <td>0.013535</td>\n",
       "    </tr>\n",
       "    <tr>\n",
       "      <th>127</th>\n",
       "      <td>I have an essay due this weekend</td>\n",
       "      <td>School</td>\n",
       "      <td>School</td>\n",
       "      <td>0.010757</td>\n",
       "      <td>0.009112</td>\n",
       "      <td>0.007519</td>\n",
       "      <td>0.008105</td>\n",
       "      <td>0.893756</td>\n",
       "      <td>0.011536</td>\n",
       "      <td>0.024278</td>\n",
       "      <td>0.023987</td>\n",
       "      <td>0.010951</td>\n",
       "    </tr>\n",
       "    <tr>\n",
       "      <th>128</th>\n",
       "      <td>I need to get good grades</td>\n",
       "      <td>School</td>\n",
       "      <td>School</td>\n",
       "      <td>0.007833</td>\n",
       "      <td>0.011474</td>\n",
       "      <td>0.012398</td>\n",
       "      <td>0.010600</td>\n",
       "      <td>0.888300</td>\n",
       "      <td>0.011518</td>\n",
       "      <td>0.020201</td>\n",
       "      <td>0.025120</td>\n",
       "      <td>0.012556</td>\n",
       "    </tr>\n",
       "    <tr>\n",
       "      <th>129</th>\n",
       "      <td>I want to finish my paper</td>\n",
       "      <td>School</td>\n",
       "      <td>School</td>\n",
       "      <td>0.044367</td>\n",
       "      <td>0.011639</td>\n",
       "      <td>0.008544</td>\n",
       "      <td>0.037021</td>\n",
       "      <td>0.584700</td>\n",
       "      <td>0.116290</td>\n",
       "      <td>0.088749</td>\n",
       "      <td>0.085911</td>\n",
       "      <td>0.022777</td>\n",
       "    </tr>\n",
       "    <tr>\n",
       "      <th>130</th>\n",
       "      <td>I'm studying for a high stakes exam</td>\n",
       "      <td>School</td>\n",
       "      <td>School</td>\n",
       "      <td>0.008029</td>\n",
       "      <td>0.009357</td>\n",
       "      <td>0.008590</td>\n",
       "      <td>0.009351</td>\n",
       "      <td>0.900569</td>\n",
       "      <td>0.013363</td>\n",
       "      <td>0.020821</td>\n",
       "      <td>0.017706</td>\n",
       "      <td>0.012215</td>\n",
       "    </tr>\n",
       "    <tr>\n",
       "      <th>131</th>\n",
       "      <td>I'm studying for an exam and I feel like I'm running out of time</td>\n",
       "      <td>School</td>\n",
       "      <td>School</td>\n",
       "      <td>0.007777</td>\n",
       "      <td>0.010435</td>\n",
       "      <td>0.011419</td>\n",
       "      <td>0.009290</td>\n",
       "      <td>0.885035</td>\n",
       "      <td>0.014960</td>\n",
       "      <td>0.021799</td>\n",
       "      <td>0.025648</td>\n",
       "      <td>0.013636</td>\n",
       "    </tr>\n",
       "    <tr>\n",
       "      <th>132</th>\n",
       "      <td>Med school</td>\n",
       "      <td>School</td>\n",
       "      <td>School</td>\n",
       "      <td>0.012933</td>\n",
       "      <td>0.021416</td>\n",
       "      <td>0.013186</td>\n",
       "      <td>0.034791</td>\n",
       "      <td>0.782850</td>\n",
       "      <td>0.018168</td>\n",
       "      <td>0.033774</td>\n",
       "      <td>0.064120</td>\n",
       "      <td>0.018762</td>\n",
       "    </tr>\n",
       "    <tr>\n",
       "      <th>133</th>\n",
       "      <td>School</td>\n",
       "      <td>School</td>\n",
       "      <td>School</td>\n",
       "      <td>0.008914</td>\n",
       "      <td>0.018567</td>\n",
       "      <td>0.012912</td>\n",
       "      <td>0.012873</td>\n",
       "      <td>0.871873</td>\n",
       "      <td>0.008579</td>\n",
       "      <td>0.023848</td>\n",
       "      <td>0.027705</td>\n",
       "      <td>0.014729</td>\n",
       "    </tr>\n",
       "    <tr>\n",
       "      <th>134</th>\n",
       "      <td>School</td>\n",
       "      <td>School</td>\n",
       "      <td>School</td>\n",
       "      <td>0.007797</td>\n",
       "      <td>0.015104</td>\n",
       "      <td>0.009565</td>\n",
       "      <td>0.010069</td>\n",
       "      <td>0.886454</td>\n",
       "      <td>0.007364</td>\n",
       "      <td>0.024358</td>\n",
       "      <td>0.026555</td>\n",
       "      <td>0.012734</td>\n",
       "    </tr>\n",
       "    <tr>\n",
       "      <th>135</th>\n",
       "      <td>School</td>\n",
       "      <td>School</td>\n",
       "      <td>School</td>\n",
       "      <td>0.011794</td>\n",
       "      <td>0.019304</td>\n",
       "      <td>0.017097</td>\n",
       "      <td>0.013400</td>\n",
       "      <td>0.836436</td>\n",
       "      <td>0.011226</td>\n",
       "      <td>0.034097</td>\n",
       "      <td>0.039856</td>\n",
       "      <td>0.016791</td>\n",
       "    </tr>\n",
       "    <tr>\n",
       "      <th>136</th>\n",
       "      <td>Still studying for that test</td>\n",
       "      <td>School</td>\n",
       "      <td>School</td>\n",
       "      <td>0.007773</td>\n",
       "      <td>0.008919</td>\n",
       "      <td>0.009964</td>\n",
       "      <td>0.009244</td>\n",
       "      <td>0.898121</td>\n",
       "      <td>0.009971</td>\n",
       "      <td>0.021925</td>\n",
       "      <td>0.022224</td>\n",
       "      <td>0.011858</td>\n",
       "    </tr>\n",
       "    <tr>\n",
       "      <th>137</th>\n",
       "      <td>A person I work with is driving me crazy</td>\n",
       "      <td>Social Relationships</td>\n",
       "      <td>Emotional Turmoil</td>\n",
       "      <td>0.354241</td>\n",
       "      <td>0.027726</td>\n",
       "      <td>0.010819</td>\n",
       "      <td>0.033834</td>\n",
       "      <td>0.006935</td>\n",
       "      <td>0.333175</td>\n",
       "      <td>0.094397</td>\n",
       "      <td>0.059494</td>\n",
       "      <td>0.079380</td>\n",
       "    </tr>\n",
       "    <tr>\n",
       "      <th>138</th>\n",
       "      <td>Gf</td>\n",
       "      <td>Social Relationships</td>\n",
       "      <td>Emotional Turmoil</td>\n",
       "      <td>0.377218</td>\n",
       "      <td>0.044297</td>\n",
       "      <td>0.016150</td>\n",
       "      <td>0.073271</td>\n",
       "      <td>0.011831</td>\n",
       "      <td>0.054218</td>\n",
       "      <td>0.279552</td>\n",
       "      <td>0.084769</td>\n",
       "      <td>0.058693</td>\n",
       "    </tr>\n",
       "    <tr>\n",
       "      <th>139</th>\n",
       "      <td>I am trying to interact with a person who at times is in a bad mood</td>\n",
       "      <td>Social Relationships</td>\n",
       "      <td>Emotional Turmoil</td>\n",
       "      <td>0.556576</td>\n",
       "      <td>0.059072</td>\n",
       "      <td>0.006311</td>\n",
       "      <td>0.035769</td>\n",
       "      <td>0.010959</td>\n",
       "      <td>0.024536</td>\n",
       "      <td>0.096334</td>\n",
       "      <td>0.064192</td>\n",
       "      <td>0.146251</td>\n",
       "    </tr>\n",
       "    <tr>\n",
       "      <th>140</th>\n",
       "      <td>I cant help William</td>\n",
       "      <td>Social Relationships</td>\n",
       "      <td>Emotional Turmoil</td>\n",
       "      <td>0.297464</td>\n",
       "      <td>0.264579</td>\n",
       "      <td>0.049498</td>\n",
       "      <td>0.046292</td>\n",
       "      <td>0.011163</td>\n",
       "      <td>0.011874</td>\n",
       "      <td>0.172191</td>\n",
       "      <td>0.070138</td>\n",
       "      <td>0.076802</td>\n",
       "    </tr>\n",
       "    <tr>\n",
       "      <th>141</th>\n",
       "      <td>I found out my ex has a new girlfriend</td>\n",
       "      <td>Social Relationships</td>\n",
       "      <td>Emotional Turmoil</td>\n",
       "      <td>0.515191</td>\n",
       "      <td>0.058249</td>\n",
       "      <td>0.011475</td>\n",
       "      <td>0.042105</td>\n",
       "      <td>0.014397</td>\n",
       "      <td>0.023445</td>\n",
       "      <td>0.042340</td>\n",
       "      <td>0.077809</td>\n",
       "      <td>0.214991</td>\n",
       "    </tr>\n",
       "    <tr>\n",
       "      <th>142</th>\n",
       "      <td>I'm worried that I've gotten myself into a very awkward situation</td>\n",
       "      <td>Social Relationships</td>\n",
       "      <td>Emotional Turmoil</td>\n",
       "      <td>0.497035</td>\n",
       "      <td>0.074433</td>\n",
       "      <td>0.012794</td>\n",
       "      <td>0.086543</td>\n",
       "      <td>0.011166</td>\n",
       "      <td>0.029785</td>\n",
       "      <td>0.172394</td>\n",
       "      <td>0.065778</td>\n",
       "      <td>0.050070</td>\n",
       "    </tr>\n",
       "    <tr>\n",
       "      <th>143</th>\n",
       "      <td>Just sent a risky text</td>\n",
       "      <td>Social Relationships</td>\n",
       "      <td>Emotional Turmoil</td>\n",
       "      <td>0.468951</td>\n",
       "      <td>0.037088</td>\n",
       "      <td>0.022587</td>\n",
       "      <td>0.012303</td>\n",
       "      <td>0.024149</td>\n",
       "      <td>0.030603</td>\n",
       "      <td>0.289627</td>\n",
       "      <td>0.042390</td>\n",
       "      <td>0.072301</td>\n",
       "    </tr>\n",
       "    <tr>\n",
       "      <th>144</th>\n",
       "      <td>Larissa</td>\n",
       "      <td>Social Relationships</td>\n",
       "      <td>Emotional Turmoil</td>\n",
       "      <td>0.304691</td>\n",
       "      <td>0.278222</td>\n",
       "      <td>0.009645</td>\n",
       "      <td>0.020953</td>\n",
       "      <td>0.020607</td>\n",
       "      <td>0.011905</td>\n",
       "      <td>0.253613</td>\n",
       "      <td>0.030805</td>\n",
       "      <td>0.069561</td>\n",
       "    </tr>\n",
       "    <tr>\n",
       "      <th>145</th>\n",
       "      <td>My boyfriend hasn't spoken to me today</td>\n",
       "      <td>Social Relationships</td>\n",
       "      <td>Emotional Turmoil</td>\n",
       "      <td>0.482251</td>\n",
       "      <td>0.059656</td>\n",
       "      <td>0.008931</td>\n",
       "      <td>0.020226</td>\n",
       "      <td>0.018377</td>\n",
       "      <td>0.016351</td>\n",
       "      <td>0.069418</td>\n",
       "      <td>0.047008</td>\n",
       "      <td>0.277782</td>\n",
       "    </tr>\n",
       "    <tr>\n",
       "      <th>146</th>\n",
       "      <td>My date</td>\n",
       "      <td>Social Relationships</td>\n",
       "      <td>Emotional Turmoil</td>\n",
       "      <td>0.528645</td>\n",
       "      <td>0.043289</td>\n",
       "      <td>0.008245</td>\n",
       "      <td>0.022209</td>\n",
       "      <td>0.018078</td>\n",
       "      <td>0.030079</td>\n",
       "      <td>0.148790</td>\n",
       "      <td>0.047209</td>\n",
       "      <td>0.153456</td>\n",
       "    </tr>\n",
       "    <tr>\n",
       "      <th>147</th>\n",
       "      <td>My friend being mad at me</td>\n",
       "      <td>Social Relationships</td>\n",
       "      <td>Emotional Turmoil</td>\n",
       "      <td>0.461837</td>\n",
       "      <td>0.111667</td>\n",
       "      <td>0.008737</td>\n",
       "      <td>0.018156</td>\n",
       "      <td>0.025762</td>\n",
       "      <td>0.011690</td>\n",
       "      <td>0.056693</td>\n",
       "      <td>0.036948</td>\n",
       "      <td>0.268511</td>\n",
       "    </tr>\n",
       "    <tr>\n",
       "      <th>148</th>\n",
       "      <td>My marriage</td>\n",
       "      <td>Social Relationships</td>\n",
       "      <td>Family Issue</td>\n",
       "      <td>0.186613</td>\n",
       "      <td>0.569102</td>\n",
       "      <td>0.023746</td>\n",
       "      <td>0.020751</td>\n",
       "      <td>0.011007</td>\n",
       "      <td>0.008752</td>\n",
       "      <td>0.116139</td>\n",
       "      <td>0.016034</td>\n",
       "      <td>0.047856</td>\n",
       "    </tr>\n",
       "    <tr>\n",
       "      <th>149</th>\n",
       "      <td>Relationships</td>\n",
       "      <td>Social Relationships</td>\n",
       "      <td>Emotional Turmoil</td>\n",
       "      <td>0.551142</td>\n",
       "      <td>0.042413</td>\n",
       "      <td>0.010041</td>\n",
       "      <td>0.019105</td>\n",
       "      <td>0.013364</td>\n",
       "      <td>0.021348</td>\n",
       "      <td>0.173383</td>\n",
       "      <td>0.039911</td>\n",
       "      <td>0.129293</td>\n",
       "    </tr>\n",
       "    <tr>\n",
       "      <th>150</th>\n",
       "      <td>Relationships</td>\n",
       "      <td>Social Relationships</td>\n",
       "      <td>Emotional Turmoil</td>\n",
       "      <td>0.542439</td>\n",
       "      <td>0.050117</td>\n",
       "      <td>0.011555</td>\n",
       "      <td>0.019546</td>\n",
       "      <td>0.018151</td>\n",
       "      <td>0.019497</td>\n",
       "      <td>0.189036</td>\n",
       "      <td>0.038561</td>\n",
       "      <td>0.111098</td>\n",
       "    </tr>\n",
       "    <tr>\n",
       "      <th>151</th>\n",
       "      <td>Sex</td>\n",
       "      <td>Social Relationships</td>\n",
       "      <td>Emotional Turmoil</td>\n",
       "      <td>0.392930</td>\n",
       "      <td>0.033528</td>\n",
       "      <td>0.017127</td>\n",
       "      <td>0.068711</td>\n",
       "      <td>0.009175</td>\n",
       "      <td>0.056823</td>\n",
       "      <td>0.259067</td>\n",
       "      <td>0.095110</td>\n",
       "      <td>0.067531</td>\n",
       "    </tr>\n",
       "    <tr>\n",
       "      <th>152</th>\n",
       "      <td>Social stuff</td>\n",
       "      <td>Social Relationships</td>\n",
       "      <td>Other</td>\n",
       "      <td>0.203673</td>\n",
       "      <td>0.036440</td>\n",
       "      <td>0.007509</td>\n",
       "      <td>0.028039</td>\n",
       "      <td>0.171671</td>\n",
       "      <td>0.106125</td>\n",
       "      <td>0.259611</td>\n",
       "      <td>0.112063</td>\n",
       "      <td>0.074868</td>\n",
       "    </tr>\n",
       "    <tr>\n",
       "      <th>153</th>\n",
       "      <td>What do you do with people who give you conflicting information or keep changing information?</td>\n",
       "      <td>Social Relationships</td>\n",
       "      <td>Emotional Turmoil</td>\n",
       "      <td>0.334703</td>\n",
       "      <td>0.025705</td>\n",
       "      <td>0.024523</td>\n",
       "      <td>0.025226</td>\n",
       "      <td>0.007838</td>\n",
       "      <td>0.236277</td>\n",
       "      <td>0.197454</td>\n",
       "      <td>0.092630</td>\n",
       "      <td>0.055644</td>\n",
       "    </tr>\n",
       "    <tr>\n",
       "      <th>154</th>\n",
       "      <td>A professor is driving me crazy.</td>\n",
       "      <td>Work</td>\n",
       "      <td>School</td>\n",
       "      <td>0.049491</td>\n",
       "      <td>0.015599</td>\n",
       "      <td>0.010681</td>\n",
       "      <td>0.018523</td>\n",
       "      <td>0.683566</td>\n",
       "      <td>0.098179</td>\n",
       "      <td>0.062531</td>\n",
       "      <td>0.036187</td>\n",
       "      <td>0.025242</td>\n",
       "    </tr>\n",
       "    <tr>\n",
       "      <th>155</th>\n",
       "      <td>Anxious customer</td>\n",
       "      <td>Work</td>\n",
       "      <td>Work</td>\n",
       "      <td>0.082707</td>\n",
       "      <td>0.013134</td>\n",
       "      <td>0.013809</td>\n",
       "      <td>0.021743</td>\n",
       "      <td>0.012953</td>\n",
       "      <td>0.661513</td>\n",
       "      <td>0.123821</td>\n",
       "      <td>0.050010</td>\n",
       "      <td>0.020311</td>\n",
       "    </tr>\n",
       "    <tr>\n",
       "      <th>156</th>\n",
       "      <td>Being unproductive</td>\n",
       "      <td>Work</td>\n",
       "      <td>Other</td>\n",
       "      <td>0.272469</td>\n",
       "      <td>0.046620</td>\n",
       "      <td>0.058824</td>\n",
       "      <td>0.040727</td>\n",
       "      <td>0.013514</td>\n",
       "      <td>0.125860</td>\n",
       "      <td>0.360949</td>\n",
       "      <td>0.061931</td>\n",
       "      <td>0.019106</td>\n",
       "    </tr>\n",
       "    <tr>\n",
       "      <th>157</th>\n",
       "      <td>Concentrating at work</td>\n",
       "      <td>Work</td>\n",
       "      <td>Work</td>\n",
       "      <td>0.084532</td>\n",
       "      <td>0.014251</td>\n",
       "      <td>0.008755</td>\n",
       "      <td>0.045984</td>\n",
       "      <td>0.155815</td>\n",
       "      <td>0.344797</td>\n",
       "      <td>0.217898</td>\n",
       "      <td>0.100931</td>\n",
       "      <td>0.027038</td>\n",
       "    </tr>\n",
       "    <tr>\n",
       "      <th>158</th>\n",
       "      <td>Deadline</td>\n",
       "      <td>Work</td>\n",
       "      <td>Other</td>\n",
       "      <td>0.293934</td>\n",
       "      <td>0.020770</td>\n",
       "      <td>0.010484</td>\n",
       "      <td>0.036552</td>\n",
       "      <td>0.030853</td>\n",
       "      <td>0.161045</td>\n",
       "      <td>0.350401</td>\n",
       "      <td>0.060292</td>\n",
       "      <td>0.035669</td>\n",
       "    </tr>\n",
       "    <tr>\n",
       "      <th>159</th>\n",
       "      <td>Deadlines</td>\n",
       "      <td>Work</td>\n",
       "      <td>Emotional Turmoil</td>\n",
       "      <td>0.259100</td>\n",
       "      <td>0.019527</td>\n",
       "      <td>0.013036</td>\n",
       "      <td>0.048872</td>\n",
       "      <td>0.041295</td>\n",
       "      <td>0.218288</td>\n",
       "      <td>0.258184</td>\n",
       "      <td>0.105383</td>\n",
       "      <td>0.036316</td>\n",
       "    </tr>\n",
       "    <tr>\n",
       "      <th>160</th>\n",
       "      <td>Difficult people at work</td>\n",
       "      <td>Work</td>\n",
       "      <td>Work</td>\n",
       "      <td>0.017985</td>\n",
       "      <td>0.005343</td>\n",
       "      <td>0.009602</td>\n",
       "      <td>0.016909</td>\n",
       "      <td>0.003000</td>\n",
       "      <td>0.891846</td>\n",
       "      <td>0.022057</td>\n",
       "      <td>0.026481</td>\n",
       "      <td>0.006777</td>\n",
       "    </tr>\n",
       "    <tr>\n",
       "      <th>161</th>\n",
       "      <td>Feeling inadequate at work/doubting what occupation fits for me</td>\n",
       "      <td>Work</td>\n",
       "      <td>Work</td>\n",
       "      <td>0.019783</td>\n",
       "      <td>0.006003</td>\n",
       "      <td>0.010084</td>\n",
       "      <td>0.039591</td>\n",
       "      <td>0.003074</td>\n",
       "      <td>0.863455</td>\n",
       "      <td>0.016479</td>\n",
       "      <td>0.033295</td>\n",
       "      <td>0.008236</td>\n",
       "    </tr>\n",
       "    <tr>\n",
       "      <th>162</th>\n",
       "      <td>getting everything done at work</td>\n",
       "      <td>Work</td>\n",
       "      <td>Work</td>\n",
       "      <td>0.020377</td>\n",
       "      <td>0.008595</td>\n",
       "      <td>0.009956</td>\n",
       "      <td>0.018765</td>\n",
       "      <td>0.004407</td>\n",
       "      <td>0.870311</td>\n",
       "      <td>0.024024</td>\n",
       "      <td>0.035255</td>\n",
       "      <td>0.008309</td>\n",
       "    </tr>\n",
       "    <tr>\n",
       "      <th>163</th>\n",
       "      <td>Going back to work</td>\n",
       "      <td>Work</td>\n",
       "      <td>Work</td>\n",
       "      <td>0.059250</td>\n",
       "      <td>0.007382</td>\n",
       "      <td>0.006569</td>\n",
       "      <td>0.026582</td>\n",
       "      <td>0.004693</td>\n",
       "      <td>0.768308</td>\n",
       "      <td>0.061357</td>\n",
       "      <td>0.054049</td>\n",
       "      <td>0.011810</td>\n",
       "    </tr>\n",
       "    <tr>\n",
       "      <th>164</th>\n",
       "      <td>Going back to work</td>\n",
       "      <td>Work</td>\n",
       "      <td>Work</td>\n",
       "      <td>0.077163</td>\n",
       "      <td>0.007891</td>\n",
       "      <td>0.005907</td>\n",
       "      <td>0.029366</td>\n",
       "      <td>0.004227</td>\n",
       "      <td>0.744315</td>\n",
       "      <td>0.072652</td>\n",
       "      <td>0.043903</td>\n",
       "      <td>0.014576</td>\n",
       "    </tr>\n",
       "    <tr>\n",
       "      <th>165</th>\n",
       "      <td>Going to work tomorrow</td>\n",
       "      <td>Work</td>\n",
       "      <td>Work</td>\n",
       "      <td>0.093027</td>\n",
       "      <td>0.008667</td>\n",
       "      <td>0.005284</td>\n",
       "      <td>0.028434</td>\n",
       "      <td>0.007921</td>\n",
       "      <td>0.698952</td>\n",
       "      <td>0.084452</td>\n",
       "      <td>0.058129</td>\n",
       "      <td>0.015135</td>\n",
       "    </tr>\n",
       "    <tr>\n",
       "      <th>166</th>\n",
       "      <td>Got a load of work and am procrastinating</td>\n",
       "      <td>Work</td>\n",
       "      <td>Work</td>\n",
       "      <td>0.035304</td>\n",
       "      <td>0.007527</td>\n",
       "      <td>0.013746</td>\n",
       "      <td>0.043166</td>\n",
       "      <td>0.003199</td>\n",
       "      <td>0.791264</td>\n",
       "      <td>0.026451</td>\n",
       "      <td>0.065406</td>\n",
       "      <td>0.013938</td>\n",
       "    </tr>\n",
       "    <tr>\n",
       "      <th>167</th>\n",
       "      <td>Having to go to work tomorrow</td>\n",
       "      <td>Work</td>\n",
       "      <td>Work</td>\n",
       "      <td>0.150139</td>\n",
       "      <td>0.014448</td>\n",
       "      <td>0.010350</td>\n",
       "      <td>0.070875</td>\n",
       "      <td>0.008110</td>\n",
       "      <td>0.495647</td>\n",
       "      <td>0.079187</td>\n",
       "      <td>0.141600</td>\n",
       "      <td>0.029644</td>\n",
       "    </tr>\n",
       "    <tr>\n",
       "      <th>168</th>\n",
       "      <td>Having to wake up early for work tomorrow</td>\n",
       "      <td>Work</td>\n",
       "      <td>Work</td>\n",
       "      <td>0.053029</td>\n",
       "      <td>0.012036</td>\n",
       "      <td>0.009813</td>\n",
       "      <td>0.101306</td>\n",
       "      <td>0.006689</td>\n",
       "      <td>0.670291</td>\n",
       "      <td>0.030586</td>\n",
       "      <td>0.095505</td>\n",
       "      <td>0.020744</td>\n",
       "    </tr>\n",
       "    <tr>\n",
       "      <th>169</th>\n",
       "      <td>I feel like I've wasted the day by napping on my day off</td>\n",
       "      <td>Work</td>\n",
       "      <td>Work</td>\n",
       "      <td>0.091109</td>\n",
       "      <td>0.014801</td>\n",
       "      <td>0.012263</td>\n",
       "      <td>0.118404</td>\n",
       "      <td>0.011862</td>\n",
       "      <td>0.490688</td>\n",
       "      <td>0.038888</td>\n",
       "      <td>0.177376</td>\n",
       "      <td>0.044608</td>\n",
       "    </tr>\n",
       "    <tr>\n",
       "      <th>170</th>\n",
       "      <td>I found out a colleague is quitting.</td>\n",
       "      <td>Work</td>\n",
       "      <td>Work</td>\n",
       "      <td>0.030224</td>\n",
       "      <td>0.008159</td>\n",
       "      <td>0.006976</td>\n",
       "      <td>0.014013</td>\n",
       "      <td>0.002851</td>\n",
       "      <td>0.879250</td>\n",
       "      <td>0.026475</td>\n",
       "      <td>0.024546</td>\n",
       "      <td>0.007504</td>\n",
       "    </tr>\n",
       "    <tr>\n",
       "      <th>171</th>\n",
       "      <td>I have a deadline to meet and a whole lot of work to complete</td>\n",
       "      <td>Work</td>\n",
       "      <td>Work</td>\n",
       "      <td>0.096139</td>\n",
       "      <td>0.007611</td>\n",
       "      <td>0.005990</td>\n",
       "      <td>0.032727</td>\n",
       "      <td>0.009133</td>\n",
       "      <td>0.702375</td>\n",
       "      <td>0.056654</td>\n",
       "      <td>0.069815</td>\n",
       "      <td>0.019555</td>\n",
       "    </tr>\n",
       "    <tr>\n",
       "      <th>172</th>\n",
       "      <td>I have a lot of work to do and I am worried I won't get it all done</td>\n",
       "      <td>Work</td>\n",
       "      <td>Work</td>\n",
       "      <td>0.038832</td>\n",
       "      <td>0.006892</td>\n",
       "      <td>0.006105</td>\n",
       "      <td>0.045246</td>\n",
       "      <td>0.004798</td>\n",
       "      <td>0.807166</td>\n",
       "      <td>0.027016</td>\n",
       "      <td>0.052170</td>\n",
       "      <td>0.011774</td>\n",
       "    </tr>\n",
       "    <tr>\n",
       "      <th>173</th>\n",
       "      <td>I have to meet with my PI tomorrow</td>\n",
       "      <td>Work</td>\n",
       "      <td>Emotional Turmoil</td>\n",
       "      <td>0.389261</td>\n",
       "      <td>0.021830</td>\n",
       "      <td>0.007226</td>\n",
       "      <td>0.029221</td>\n",
       "      <td>0.035563</td>\n",
       "      <td>0.142058</td>\n",
       "      <td>0.187049</td>\n",
       "      <td>0.101607</td>\n",
       "      <td>0.086183</td>\n",
       "    </tr>\n",
       "    <tr>\n",
       "      <th>174</th>\n",
       "      <td>I have to prep for interviews</td>\n",
       "      <td>Work</td>\n",
       "      <td>Work</td>\n",
       "      <td>0.128557</td>\n",
       "      <td>0.014378</td>\n",
       "      <td>0.007933</td>\n",
       "      <td>0.049658</td>\n",
       "      <td>0.129995</td>\n",
       "      <td>0.371002</td>\n",
       "      <td>0.156955</td>\n",
       "      <td>0.106556</td>\n",
       "      <td>0.034966</td>\n",
       "    </tr>\n",
       "    <tr>\n",
       "      <th>175</th>\n",
       "      <td>I just started working a new job and I'm worried about messing up</td>\n",
       "      <td>Work</td>\n",
       "      <td>Work</td>\n",
       "      <td>0.018452</td>\n",
       "      <td>0.004544</td>\n",
       "      <td>0.020356</td>\n",
       "      <td>0.020003</td>\n",
       "      <td>0.002769</td>\n",
       "      <td>0.874969</td>\n",
       "      <td>0.024700</td>\n",
       "      <td>0.027333</td>\n",
       "      <td>0.006874</td>\n",
       "    </tr>\n",
       "    <tr>\n",
       "      <th>176</th>\n",
       "      <td>I need to get my homework done but I don't have a lot of time</td>\n",
       "      <td>Work</td>\n",
       "      <td>School</td>\n",
       "      <td>0.007035</td>\n",
       "      <td>0.009748</td>\n",
       "      <td>0.007493</td>\n",
       "      <td>0.012003</td>\n",
       "      <td>0.892042</td>\n",
       "      <td>0.011618</td>\n",
       "      <td>0.015214</td>\n",
       "      <td>0.031028</td>\n",
       "      <td>0.013819</td>\n",
       "    </tr>\n",
       "    <tr>\n",
       "      <th>177</th>\n",
       "      <td>I'll probably need to work all night</td>\n",
       "      <td>Work</td>\n",
       "      <td>Work</td>\n",
       "      <td>0.077208</td>\n",
       "      <td>0.012030</td>\n",
       "      <td>0.012436</td>\n",
       "      <td>0.170740</td>\n",
       "      <td>0.006796</td>\n",
       "      <td>0.506826</td>\n",
       "      <td>0.037348</td>\n",
       "      <td>0.146925</td>\n",
       "      <td>0.029691</td>\n",
       "    </tr>\n",
       "    <tr>\n",
       "      <th>178</th>\n",
       "      <td>Im felling pretty ok actually altho there seems to be lots of fault in the software that we're developing for research</td>\n",
       "      <td>Work</td>\n",
       "      <td>Work</td>\n",
       "      <td>0.096772</td>\n",
       "      <td>0.017222</td>\n",
       "      <td>0.025932</td>\n",
       "      <td>0.023052</td>\n",
       "      <td>0.018554</td>\n",
       "      <td>0.547820</td>\n",
       "      <td>0.206484</td>\n",
       "      <td>0.049891</td>\n",
       "      <td>0.014274</td>\n",
       "    </tr>\n",
       "    <tr>\n",
       "      <th>179</th>\n",
       "      <td>I'm tired and I don't want to go to work</td>\n",
       "      <td>Work</td>\n",
       "      <td>Health or Physical Pain</td>\n",
       "      <td>0.059350</td>\n",
       "      <td>0.025497</td>\n",
       "      <td>0.018033</td>\n",
       "      <td>0.634048</td>\n",
       "      <td>0.010877</td>\n",
       "      <td>0.087284</td>\n",
       "      <td>0.029602</td>\n",
       "      <td>0.110429</td>\n",
       "      <td>0.024880</td>\n",
       "    </tr>\n",
       "    <tr>\n",
       "      <th>180</th>\n",
       "      <td>i'm worried about completeting all my tasks today</td>\n",
       "      <td>Work</td>\n",
       "      <td>Work</td>\n",
       "      <td>0.075889</td>\n",
       "      <td>0.012870</td>\n",
       "      <td>0.008562</td>\n",
       "      <td>0.060267</td>\n",
       "      <td>0.015255</td>\n",
       "      <td>0.626490</td>\n",
       "      <td>0.054339</td>\n",
       "      <td>0.124856</td>\n",
       "      <td>0.021472</td>\n",
       "    </tr>\n",
       "    <tr>\n",
       "      <th>181</th>\n",
       "      <td>I'm worried about my upcomming deadline</td>\n",
       "      <td>Work</td>\n",
       "      <td>Emotional Turmoil</td>\n",
       "      <td>0.372316</td>\n",
       "      <td>0.045452</td>\n",
       "      <td>0.008948</td>\n",
       "      <td>0.129473</td>\n",
       "      <td>0.008648</td>\n",
       "      <td>0.066404</td>\n",
       "      <td>0.115881</td>\n",
       "      <td>0.164097</td>\n",
       "      <td>0.088780</td>\n",
       "    </tr>\n",
       "    <tr>\n",
       "      <th>182</th>\n",
       "      <td>I'm worried I'm not working hard enough</td>\n",
       "      <td>Work</td>\n",
       "      <td>Health or Physical Pain</td>\n",
       "      <td>0.056024</td>\n",
       "      <td>0.020888</td>\n",
       "      <td>0.014399</td>\n",
       "      <td>0.432385</td>\n",
       "      <td>0.010290</td>\n",
       "      <td>0.341926</td>\n",
       "      <td>0.029027</td>\n",
       "      <td>0.078418</td>\n",
       "      <td>0.016644</td>\n",
       "    </tr>\n",
       "    <tr>\n",
       "      <th>183</th>\n",
       "      <td>I've been concerned with my logevity at work</td>\n",
       "      <td>Work</td>\n",
       "      <td>Work</td>\n",
       "      <td>0.018128</td>\n",
       "      <td>0.006457</td>\n",
       "      <td>0.009648</td>\n",
       "      <td>0.028007</td>\n",
       "      <td>0.004106</td>\n",
       "      <td>0.876751</td>\n",
       "      <td>0.021265</td>\n",
       "      <td>0.028351</td>\n",
       "      <td>0.007286</td>\n",
       "    </tr>\n",
       "    <tr>\n",
       "      <th>184</th>\n",
       "      <td>Job</td>\n",
       "      <td>Work</td>\n",
       "      <td>Work</td>\n",
       "      <td>0.018144</td>\n",
       "      <td>0.004534</td>\n",
       "      <td>0.036303</td>\n",
       "      <td>0.008390</td>\n",
       "      <td>0.003305</td>\n",
       "      <td>0.865837</td>\n",
       "      <td>0.034481</td>\n",
       "      <td>0.025056</td>\n",
       "      <td>0.003949</td>\n",
       "    </tr>\n",
       "    <tr>\n",
       "      <th>185</th>\n",
       "      <td>My job and career</td>\n",
       "      <td>Work</td>\n",
       "      <td>Work</td>\n",
       "      <td>0.058041</td>\n",
       "      <td>0.025774</td>\n",
       "      <td>0.202086</td>\n",
       "      <td>0.017595</td>\n",
       "      <td>0.004018</td>\n",
       "      <td>0.565420</td>\n",
       "      <td>0.074418</td>\n",
       "      <td>0.042188</td>\n",
       "      <td>0.010461</td>\n",
       "    </tr>\n",
       "    <tr>\n",
       "      <th>186</th>\n",
       "      <td>My new job.</td>\n",
       "      <td>Work</td>\n",
       "      <td>Work</td>\n",
       "      <td>0.019399</td>\n",
       "      <td>0.005975</td>\n",
       "      <td>0.072615</td>\n",
       "      <td>0.011839</td>\n",
       "      <td>0.004226</td>\n",
       "      <td>0.820300</td>\n",
       "      <td>0.024182</td>\n",
       "      <td>0.035464</td>\n",
       "      <td>0.006000</td>\n",
       "    </tr>\n",
       "    <tr>\n",
       "      <th>187</th>\n",
       "      <td>My presentation that's coming up</td>\n",
       "      <td>Work</td>\n",
       "      <td>Work</td>\n",
       "      <td>0.032546</td>\n",
       "      <td>0.006236</td>\n",
       "      <td>0.006354</td>\n",
       "      <td>0.014323</td>\n",
       "      <td>0.011905</td>\n",
       "      <td>0.850375</td>\n",
       "      <td>0.050987</td>\n",
       "      <td>0.021019</td>\n",
       "      <td>0.006256</td>\n",
       "    </tr>\n",
       "    <tr>\n",
       "      <th>188</th>\n",
       "      <td>My productivity</td>\n",
       "      <td>Work</td>\n",
       "      <td>Work</td>\n",
       "      <td>0.039990</td>\n",
       "      <td>0.007607</td>\n",
       "      <td>0.014330</td>\n",
       "      <td>0.021348</td>\n",
       "      <td>0.005191</td>\n",
       "      <td>0.788371</td>\n",
       "      <td>0.074518</td>\n",
       "      <td>0.042165</td>\n",
       "      <td>0.006481</td>\n",
       "    </tr>\n",
       "    <tr>\n",
       "      <th>189</th>\n",
       "      <td>Nervous about new staff member starting</td>\n",
       "      <td>Work</td>\n",
       "      <td>Work</td>\n",
       "      <td>0.090744</td>\n",
       "      <td>0.011339</td>\n",
       "      <td>0.005577</td>\n",
       "      <td>0.024483</td>\n",
       "      <td>0.005501</td>\n",
       "      <td>0.718971</td>\n",
       "      <td>0.072852</td>\n",
       "      <td>0.054816</td>\n",
       "      <td>0.015717</td>\n",
       "    </tr>\n",
       "    <tr>\n",
       "      <th>190</th>\n",
       "      <td>Nervous about work</td>\n",
       "      <td>Work</td>\n",
       "      <td>Work</td>\n",
       "      <td>0.041792</td>\n",
       "      <td>0.005973</td>\n",
       "      <td>0.005221</td>\n",
       "      <td>0.028378</td>\n",
       "      <td>0.004324</td>\n",
       "      <td>0.817671</td>\n",
       "      <td>0.040412</td>\n",
       "      <td>0.046506</td>\n",
       "      <td>0.009725</td>\n",
       "    </tr>\n",
       "    <tr>\n",
       "      <th>191</th>\n",
       "      <td>Not getting a promotion at work</td>\n",
       "      <td>Work</td>\n",
       "      <td>Work</td>\n",
       "      <td>0.016532</td>\n",
       "      <td>0.004171</td>\n",
       "      <td>0.010302</td>\n",
       "      <td>0.016821</td>\n",
       "      <td>0.003086</td>\n",
       "      <td>0.908236</td>\n",
       "      <td>0.017468</td>\n",
       "      <td>0.018937</td>\n",
       "      <td>0.004448</td>\n",
       "    </tr>\n",
       "    <tr>\n",
       "      <th>192</th>\n",
       "      <td>Presenting in front of other people</td>\n",
       "      <td>Work</td>\n",
       "      <td>Emotional Turmoil</td>\n",
       "      <td>0.427416</td>\n",
       "      <td>0.049692</td>\n",
       "      <td>0.013474</td>\n",
       "      <td>0.014910</td>\n",
       "      <td>0.012891</td>\n",
       "      <td>0.077874</td>\n",
       "      <td>0.311539</td>\n",
       "      <td>0.043775</td>\n",
       "      <td>0.048429</td>\n",
       "    </tr>\n",
       "    <tr>\n",
       "      <th>193</th>\n",
       "      <td>Productivity</td>\n",
       "      <td>Work</td>\n",
       "      <td>Work</td>\n",
       "      <td>0.044131</td>\n",
       "      <td>0.011855</td>\n",
       "      <td>0.029625</td>\n",
       "      <td>0.020946</td>\n",
       "      <td>0.008061</td>\n",
       "      <td>0.731753</td>\n",
       "      <td>0.104956</td>\n",
       "      <td>0.039944</td>\n",
       "      <td>0.008730</td>\n",
       "    </tr>\n",
       "    <tr>\n",
       "      <th>194</th>\n",
       "      <td>Someone shirking responsibilities at work</td>\n",
       "      <td>Work</td>\n",
       "      <td>Work</td>\n",
       "      <td>0.027371</td>\n",
       "      <td>0.008772</td>\n",
       "      <td>0.008287</td>\n",
       "      <td>0.020881</td>\n",
       "      <td>0.003564</td>\n",
       "      <td>0.861962</td>\n",
       "      <td>0.028658</td>\n",
       "      <td>0.030586</td>\n",
       "      <td>0.009919</td>\n",
       "    </tr>\n",
       "    <tr>\n",
       "      <th>195</th>\n",
       "      <td>The postdoc in my lab is creepy</td>\n",
       "      <td>Work</td>\n",
       "      <td>Emotional Turmoil</td>\n",
       "      <td>0.307085</td>\n",
       "      <td>0.030651</td>\n",
       "      <td>0.007346</td>\n",
       "      <td>0.028791</td>\n",
       "      <td>0.021995</td>\n",
       "      <td>0.305537</td>\n",
       "      <td>0.142360</td>\n",
       "      <td>0.082000</td>\n",
       "      <td>0.074235</td>\n",
       "    </tr>\n",
       "    <tr>\n",
       "      <th>196</th>\n",
       "      <td>thinking about work I should be doing</td>\n",
       "      <td>Work</td>\n",
       "      <td>Work</td>\n",
       "      <td>0.059382</td>\n",
       "      <td>0.008645</td>\n",
       "      <td>0.007959</td>\n",
       "      <td>0.034413</td>\n",
       "      <td>0.004734</td>\n",
       "      <td>0.762696</td>\n",
       "      <td>0.050226</td>\n",
       "      <td>0.059279</td>\n",
       "      <td>0.012667</td>\n",
       "    </tr>\n",
       "    <tr>\n",
       "      <th>197</th>\n",
       "      <td>This person I work with is driving me crazy.</td>\n",
       "      <td>Work</td>\n",
       "      <td>Work</td>\n",
       "      <td>0.331540</td>\n",
       "      <td>0.026390</td>\n",
       "      <td>0.010480</td>\n",
       "      <td>0.032648</td>\n",
       "      <td>0.010641</td>\n",
       "      <td>0.355800</td>\n",
       "      <td>0.103610</td>\n",
       "      <td>0.054618</td>\n",
       "      <td>0.074273</td>\n",
       "    </tr>\n",
       "    <tr>\n",
       "      <th>198</th>\n",
       "      <td>This project that im working on</td>\n",
       "      <td>Work</td>\n",
       "      <td>Work</td>\n",
       "      <td>0.232568</td>\n",
       "      <td>0.022770</td>\n",
       "      <td>0.017552</td>\n",
       "      <td>0.031813</td>\n",
       "      <td>0.038242</td>\n",
       "      <td>0.325562</td>\n",
       "      <td>0.246795</td>\n",
       "      <td>0.053124</td>\n",
       "      <td>0.031575</td>\n",
       "    </tr>\n",
       "    <tr>\n",
       "      <th>199</th>\n",
       "      <td>Too much work time not enough me Time</td>\n",
       "      <td>Work</td>\n",
       "      <td>Work</td>\n",
       "      <td>0.033983</td>\n",
       "      <td>0.008247</td>\n",
       "      <td>0.010540</td>\n",
       "      <td>0.043976</td>\n",
       "      <td>0.005446</td>\n",
       "      <td>0.786630</td>\n",
       "      <td>0.033923</td>\n",
       "      <td>0.066966</td>\n",
       "      <td>0.010291</td>\n",
       "    </tr>\n",
       "    <tr>\n",
       "      <th>200</th>\n",
       "      <td>Too much work to do</td>\n",
       "      <td>Work</td>\n",
       "      <td>Work</td>\n",
       "      <td>0.026606</td>\n",
       "      <td>0.005756</td>\n",
       "      <td>0.010170</td>\n",
       "      <td>0.034523</td>\n",
       "      <td>0.004991</td>\n",
       "      <td>0.849039</td>\n",
       "      <td>0.022240</td>\n",
       "      <td>0.037996</td>\n",
       "      <td>0.008679</td>\n",
       "    </tr>\n",
       "    <tr>\n",
       "      <th>201</th>\n",
       "      <td>What to work on</td>\n",
       "      <td>Work</td>\n",
       "      <td>Work</td>\n",
       "      <td>0.089200</td>\n",
       "      <td>0.011827</td>\n",
       "      <td>0.008456</td>\n",
       "      <td>0.026811</td>\n",
       "      <td>0.006146</td>\n",
       "      <td>0.663647</td>\n",
       "      <td>0.100922</td>\n",
       "      <td>0.077787</td>\n",
       "      <td>0.015204</td>\n",
       "    </tr>\n",
       "    <tr>\n",
       "      <th>202</th>\n",
       "      <td>work</td>\n",
       "      <td>Work</td>\n",
       "      <td>Work</td>\n",
       "      <td>0.020195</td>\n",
       "      <td>0.005068</td>\n",
       "      <td>0.006307</td>\n",
       "      <td>0.020738</td>\n",
       "      <td>0.004269</td>\n",
       "      <td>0.862380</td>\n",
       "      <td>0.030931</td>\n",
       "      <td>0.042935</td>\n",
       "      <td>0.007176</td>\n",
       "    </tr>\n",
       "    <tr>\n",
       "      <th>203</th>\n",
       "      <td>Work</td>\n",
       "      <td>Work</td>\n",
       "      <td>Work</td>\n",
       "      <td>0.021684</td>\n",
       "      <td>0.005296</td>\n",
       "      <td>0.005554</td>\n",
       "      <td>0.018802</td>\n",
       "      <td>0.003428</td>\n",
       "      <td>0.864829</td>\n",
       "      <td>0.037016</td>\n",
       "      <td>0.035689</td>\n",
       "      <td>0.007701</td>\n",
       "    </tr>\n",
       "    <tr>\n",
       "      <th>204</th>\n",
       "      <td>Work</td>\n",
       "      <td>Work</td>\n",
       "      <td>Work</td>\n",
       "      <td>0.026679</td>\n",
       "      <td>0.005038</td>\n",
       "      <td>0.006989</td>\n",
       "      <td>0.020244</td>\n",
       "      <td>0.004456</td>\n",
       "      <td>0.859141</td>\n",
       "      <td>0.029878</td>\n",
       "      <td>0.039548</td>\n",
       "      <td>0.008027</td>\n",
       "    </tr>\n",
       "    <tr>\n",
       "      <th>205</th>\n",
       "      <td>Work</td>\n",
       "      <td>Work</td>\n",
       "      <td>Work</td>\n",
       "      <td>0.023499</td>\n",
       "      <td>0.004806</td>\n",
       "      <td>0.005378</td>\n",
       "      <td>0.020086</td>\n",
       "      <td>0.004850</td>\n",
       "      <td>0.865173</td>\n",
       "      <td>0.035006</td>\n",
       "      <td>0.033654</td>\n",
       "      <td>0.007548</td>\n",
       "    </tr>\n",
       "    <tr>\n",
       "      <th>206</th>\n",
       "      <td>Work</td>\n",
       "      <td>Work</td>\n",
       "      <td>Work</td>\n",
       "      <td>0.024781</td>\n",
       "      <td>0.004251</td>\n",
       "      <td>0.005528</td>\n",
       "      <td>0.020337</td>\n",
       "      <td>0.005161</td>\n",
       "      <td>0.853833</td>\n",
       "      <td>0.043388</td>\n",
       "      <td>0.035189</td>\n",
       "      <td>0.007531</td>\n",
       "    </tr>\n",
       "    <tr>\n",
       "      <th>207</th>\n",
       "      <td>Work</td>\n",
       "      <td>Work</td>\n",
       "      <td>Work</td>\n",
       "      <td>0.028741</td>\n",
       "      <td>0.005525</td>\n",
       "      <td>0.008207</td>\n",
       "      <td>0.020155</td>\n",
       "      <td>0.004895</td>\n",
       "      <td>0.844426</td>\n",
       "      <td>0.036564</td>\n",
       "      <td>0.044879</td>\n",
       "      <td>0.006608</td>\n",
       "    </tr>\n",
       "    <tr>\n",
       "      <th>208</th>\n",
       "      <td>Work</td>\n",
       "      <td>Work</td>\n",
       "      <td>Work</td>\n",
       "      <td>0.021117</td>\n",
       "      <td>0.005198</td>\n",
       "      <td>0.006023</td>\n",
       "      <td>0.018915</td>\n",
       "      <td>0.004911</td>\n",
       "      <td>0.859799</td>\n",
       "      <td>0.035450</td>\n",
       "      <td>0.041112</td>\n",
       "      <td>0.007474</td>\n",
       "    </tr>\n",
       "    <tr>\n",
       "      <th>209</th>\n",
       "      <td>Work</td>\n",
       "      <td>Work</td>\n",
       "      <td>Work</td>\n",
       "      <td>0.027096</td>\n",
       "      <td>0.005257</td>\n",
       "      <td>0.007762</td>\n",
       "      <td>0.021830</td>\n",
       "      <td>0.004224</td>\n",
       "      <td>0.842046</td>\n",
       "      <td>0.042640</td>\n",
       "      <td>0.041102</td>\n",
       "      <td>0.008043</td>\n",
       "    </tr>\n",
       "    <tr>\n",
       "      <th>210</th>\n",
       "      <td>Work</td>\n",
       "      <td>Work</td>\n",
       "      <td>Work</td>\n",
       "      <td>0.024471</td>\n",
       "      <td>0.005306</td>\n",
       "      <td>0.007856</td>\n",
       "      <td>0.019171</td>\n",
       "      <td>0.005338</td>\n",
       "      <td>0.859363</td>\n",
       "      <td>0.030598</td>\n",
       "      <td>0.039510</td>\n",
       "      <td>0.008388</td>\n",
       "    </tr>\n",
       "    <tr>\n",
       "      <th>211</th>\n",
       "      <td>Work</td>\n",
       "      <td>Work</td>\n",
       "      <td>Work</td>\n",
       "      <td>0.025239</td>\n",
       "      <td>0.005902</td>\n",
       "      <td>0.005787</td>\n",
       "      <td>0.020415</td>\n",
       "      <td>0.003914</td>\n",
       "      <td>0.859144</td>\n",
       "      <td>0.031111</td>\n",
       "      <td>0.041705</td>\n",
       "      <td>0.006783</td>\n",
       "    </tr>\n",
       "    <tr>\n",
       "      <th>212</th>\n",
       "      <td>work still</td>\n",
       "      <td>Work</td>\n",
       "      <td>Work</td>\n",
       "      <td>0.014312</td>\n",
       "      <td>0.004382</td>\n",
       "      <td>0.009911</td>\n",
       "      <td>0.013316</td>\n",
       "      <td>0.004172</td>\n",
       "      <td>0.904145</td>\n",
       "      <td>0.020147</td>\n",
       "      <td>0.025037</td>\n",
       "      <td>0.004578</td>\n",
       "    </tr>\n",
       "  </tbody>\n",
       "</table>\n",
       "</div>"
      ],
      "text/plain": [
       "                                                                                                            Answer.Stressor  \\\n",
       "0                                                                                                             Big trip home   \n",
       "1                                                                                                         Commuting to work   \n",
       "2                                                                                                                 Flat tire   \n",
       "3                                                                                                                 Flat tire   \n",
       "4                                                                                                                     Tires   \n",
       "5                                                                                                                  traffic!   \n",
       "6                                                                                                                    Travel   \n",
       "7                                                                                               2 of my foster kittens died   \n",
       "8                                                                                      Feeling insecure about my short hair   \n",
       "9                                                                                                            Feeling lonely   \n",
       "10                                                                                               I embarrassed myself today   \n",
       "11                                                                                                            I feel lonely   \n",
       "12                                                                                I have been feeling kind of lonely lately   \n",
       "13                                                                                               My foster kitten is dying.   \n",
       "14                                                                                       My hair makes me feel unattractive   \n",
       "15                                                                                                   A lot on my to do list   \n",
       "16                                                                                     Deciding if I should work out or not   \n",
       "17                                                                                       Don't know what to cook for dinner   \n",
       "18                                                                          Figuring out where to go fruit picking tomorrow   \n",
       "19                                                                                                                Groceries   \n",
       "20                                                      I have a really busy schedule this weekend and I'd rather stay home   \n",
       "21                                                                                I have some tasks that I keep putting off   \n",
       "22                                                                                             I need to figure out storage   \n",
       "23                                                                                              I'm wasting some of my time   \n",
       "24                                                                                          Knowing what to do this weekend   \n",
       "25                                                                                                            So much to do   \n",
       "26                                                                                                          Time management   \n",
       "27                                                                                           Too many interruptions all day   \n",
       "28                                                                                                      Feeling overwhelmed   \n",
       "29                                                                  Having to take care of 6 foster kittens. I'm exhausted!   \n",
       "30                                                                  I want to eat better but I'm having a hard time with it   \n",
       "31                                                                                                               I'm hungry   \n",
       "32                                                                                                    I'm not sleeping well   \n",
       "33                                                                                                                I'm Tired   \n",
       "34                                                                 Incredibly tired and I have to be alert until noon today   \n",
       "35                                                                 It's been a long day and I'm looking forward to relaxing   \n",
       "36                                                                                       Just done with a bridge tournament   \n",
       "37                                                                                                                 Long day   \n",
       "38                                                                                                                  my back   \n",
       "39                                                                                                        Not able to sleep   \n",
       "40                                                                                   Poor sleep even if I go to bed on time   \n",
       "41                                                                                                   Really tired right now   \n",
       "42                                                                                                                    Sleep   \n",
       "43                                                                                                                   family   \n",
       "44                                                                                            I wont be able to see William   \n",
       "45                                                                                           making a decision on preschool   \n",
       "46                                                          My 13 year old hates school and tries everything to avoid going   \n",
       "47                                                                             My baby is learning to climb out of her crib   \n",
       "48                                                                                                                 My child   \n",
       "49                                                                                My daughter has been having panic attacks   \n",
       "50                                                                                                        My daughter Sarah   \n",
       "51                                                                                                                   my son   \n",
       "52                                                                                                         my son and sleep   \n",
       "53                                                         I have a friend coming over and I'm stressed about a big expense   \n",
       "54                                                                                                     I need to find a job   \n",
       "55                                                                                                                    Money   \n",
       "56                                                                                                                    Money   \n",
       "57                                                                                                                    Money   \n",
       "58                                                                                                                    money   \n",
       "59                                                                                                                    money   \n",
       "60                                                                                                                    Money   \n",
       "61                                                                                                                   Moving   \n",
       "62                                                                          My kids spent too much money at the event today   \n",
       "63                                                                                                  My lease is ending soon   \n",
       "64                                                                                                                Body pain   \n",
       "65                                                                                                              Eating well   \n",
       "66                                                                                                           Getting Ebola.   \n",
       "67                                                                                               I have a terrible headache   \n",
       "68                                                                                                I may have broken my toe.   \n",
       "69                                                                                                     I think I have trich   \n",
       "70                                                                   I'm stressing out about sticking to a work out routine   \n",
       "71                                                                                                         My stomach hurts   \n",
       "72                                                                                                        Physical problems   \n",
       "73                                                                                                    Some health decisions   \n",
       "74                                                                                                     Some pain in my ribs   \n",
       "75                                                                                     Worrying about some pain in the ribs   \n",
       "76                                                                                                        Just travel stuff   \n",
       "77                                                                                                     Packing for my trips   \n",
       "78                                                                                                     Preparing for a trip   \n",
       "79                                                                                                             Trip to Reno   \n",
       "80                                                                                                                        ?   \n",
       "81                                                                                                                 And name   \n",
       "82                                                                                                                 Bueller?   \n",
       "83                                                                                                                      car   \n",
       "84                                                                                                                 Ceramics   \n",
       "85                                                                                                                    Games   \n",
       "86                                                                                                                       hi   \n",
       "87                                                                                                        Honestly not much   \n",
       "88                                                                                                              How are you   \n",
       "89                                                                                                                I am good   \n",
       "90                                                                                                  I don't have a scenario   \n",
       "91                                                                                                           I'm doing fine   \n",
       "92                                                                                               i'm not stressed right now   \n",
       "93                                                                                                   I'm not stressed today   \n",
       "94                                                                                                       Just a regular day   \n",
       "95                                                                                                                  New day   \n",
       "96                                                                                                                       No   \n",
       "97                                                                                                                       No   \n",
       "98                                                                                                               No problem   \n",
       "99                                                                                            not much some I'm on vacation   \n",
       "100                                                                                                            Not too much   \n",
       "101                                                                                   Not understanding these instructions.   \n",
       "102                                                                                                                 nothing   \n",
       "103                                                                                                                 nothing   \n",
       "104                                                                                                                 nothing   \n",
       "105                                                                                             Nothing is stressing me out   \n",
       "106                                                                                                            Nothing much   \n",
       "107                                                                                                          Nothing really   \n",
       "108                                                                                                          Nothing really   \n",
       "109                                                                                                          Nothing really   \n",
       "110                                                                               Nothing really - just wanted to say hello   \n",
       "111                                                                                                                Nothing!   \n",
       "112                                                                               Nothing! I'm having a good time right now   \n",
       "113                                                                                                     Submitting an email   \n",
       "114                                                                                                                    Sure   \n",
       "115                                                                                                          What scenario?   \n",
       "116                                                                                              Which bot am I talking to?   \n",
       "117                                                                                                        I made a mistake   \n",
       "118                                                                                       I'm worried that I'm wasting food   \n",
       "119                                                                                                    My dog keeps barking   \n",
       "120                                                                                       Packing up everything to move out   \n",
       "121                                                                                                                Politics   \n",
       "122                                                                           Still stressed about the same thing as before   \n",
       "123                                                                                                 A paper I need to write   \n",
       "124                                                                                                                 Classes   \n",
       "125                                                                                                                 college   \n",
       "126                                                                                Figuring out what classes I want to take   \n",
       "127                                                                                        I have an essay due this weekend   \n",
       "128                                                                                               I need to get good grades   \n",
       "129                                                                                               I want to finish my paper   \n",
       "130                                                                                     I'm studying for a high stakes exam   \n",
       "131                                                        I'm studying for an exam and I feel like I'm running out of time   \n",
       "132                                                                                                              Med school   \n",
       "133                                                                                                                  School   \n",
       "134                                                                                                                  School   \n",
       "135                                                                                                                  School   \n",
       "136                                                                                            Still studying for that test   \n",
       "137                                                                                A person I work with is driving me crazy   \n",
       "138                                                                                                                      Gf   \n",
       "139                                                     I am trying to interact with a person who at times is in a bad mood   \n",
       "140                                                                                                     I cant help William   \n",
       "141                                                                                  I found out my ex has a new girlfriend   \n",
       "142                                                       I'm worried that I've gotten myself into a very awkward situation   \n",
       "143                                                                                                  Just sent a risky text   \n",
       "144                                                                                                                 Larissa   \n",
       "145                                                                                  My boyfriend hasn't spoken to me today   \n",
       "146                                                                                                                 My date   \n",
       "147                                                                                               My friend being mad at me   \n",
       "148                                                                                                             My marriage   \n",
       "149                                                                                                           Relationships   \n",
       "150                                                                                                           Relationships   \n",
       "151                                                                                                                     Sex   \n",
       "152                                                                                                            Social stuff   \n",
       "153                           What do you do with people who give you conflicting information or keep changing information?   \n",
       "154                                                                                        A professor is driving me crazy.   \n",
       "155                                                                                                        Anxious customer   \n",
       "156                                                                                                      Being unproductive   \n",
       "157                                                                                                   Concentrating at work   \n",
       "158                                                                                                                Deadline   \n",
       "159                                                                                                               Deadlines   \n",
       "160                                                                                                Difficult people at work   \n",
       "161                                                         Feeling inadequate at work/doubting what occupation fits for me   \n",
       "162                                                                                         getting everything done at work   \n",
       "163                                                                                                      Going back to work   \n",
       "164                                                                                                      Going back to work   \n",
       "165                                                                                                  Going to work tomorrow   \n",
       "166                                                                               Got a load of work and am procrastinating   \n",
       "167                                                                                           Having to go to work tomorrow   \n",
       "168                                                                               Having to wake up early for work tomorrow   \n",
       "169                                                                I feel like I've wasted the day by napping on my day off   \n",
       "170                                                                                    I found out a colleague is quitting.   \n",
       "171                                                           I have a deadline to meet and a whole lot of work to complete   \n",
       "172                                                     I have a lot of work to do and I am worried I won't get it all done   \n",
       "173                                                                                      I have to meet with my PI tomorrow   \n",
       "174                                                                                           I have to prep for interviews   \n",
       "175                                                       I just started working a new job and I'm worried about messing up   \n",
       "176                                                           I need to get my homework done but I don't have a lot of time   \n",
       "177                                                                                    I'll probably need to work all night   \n",
       "178  Im felling pretty ok actually altho there seems to be lots of fault in the software that we're developing for research   \n",
       "179                                                                                I'm tired and I don't want to go to work   \n",
       "180                                                                       i'm worried about completeting all my tasks today   \n",
       "181                                                                                 I'm worried about my upcomming deadline   \n",
       "182                                                                                 I'm worried I'm not working hard enough   \n",
       "183                                                                            I've been concerned with my logevity at work   \n",
       "184                                                                                                                     Job   \n",
       "185                                                                                                       My job and career   \n",
       "186                                                                                                             My new job.   \n",
       "187                                                                                        My presentation that's coming up   \n",
       "188                                                                                                         My productivity   \n",
       "189                                                                                 Nervous about new staff member starting   \n",
       "190                                                                                                      Nervous about work   \n",
       "191                                                                                         Not getting a promotion at work   \n",
       "192                                                                                     Presenting in front of other people   \n",
       "193                                                                                                            Productivity   \n",
       "194                                                                               Someone shirking responsibilities at work   \n",
       "195                                                                                         The postdoc in my lab is creepy   \n",
       "196                                                                                   thinking about work I should be doing   \n",
       "197                                                                            This person I work with is driving me crazy.   \n",
       "198                                                                                         This project that im working on   \n",
       "199                                                                                   Too much work time not enough me Time   \n",
       "200                                                                                                     Too much work to do   \n",
       "201                                                                                                         What to work on   \n",
       "202                                                                                                                    work   \n",
       "203                                                                                                                    Work   \n",
       "204                                                                                                                    Work   \n",
       "205                                                                                                                    Work   \n",
       "206                                                                                                                    Work   \n",
       "207                                                                                                                    Work   \n",
       "208                                                                                                                    Work   \n",
       "209                                                                                                                    Work   \n",
       "210                                                                                                                    Work   \n",
       "211                                                                                                                    Work   \n",
       "212                                                                                                              work still   \n",
       "\n",
       "                 Answer.Label                 Predicted  Emotional Turmoil  \\\n",
       "0                     Commute                     Other           0.272378   \n",
       "1                     Commute                      Work           0.126643   \n",
       "2                     Commute                      Work           0.098246   \n",
       "3                     Commute                      Work           0.091649   \n",
       "4                     Commute         Financial Problem           0.099142   \n",
       "5                     Commute                      Work           0.143932   \n",
       "6                     Commute                     Other           0.287636   \n",
       "7           Emotional Turmoil              Family Issue           0.070396   \n",
       "8           Emotional Turmoil         Emotional Turmoil           0.391046   \n",
       "9           Emotional Turmoil         Emotional Turmoil           0.338041   \n",
       "10          Emotional Turmoil         Emotional Turmoil           0.407819   \n",
       "11          Emotional Turmoil              Family Issue           0.226864   \n",
       "12          Emotional Turmoil         Emotional Turmoil           0.487504   \n",
       "13          Emotional Turmoil              Family Issue           0.048334   \n",
       "14          Emotional Turmoil   Health or Physical Pain           0.163914   \n",
       "15   Everyday Decision Making         Emotional Turmoil           0.516196   \n",
       "16   Everyday Decision Making                     Other           0.205303   \n",
       "17   Everyday Decision Making  Everyday Decision Making           0.142336   \n",
       "18   Everyday Decision Making                     Other           0.254044   \n",
       "19   Everyday Decision Making                     Other           0.223470   \n",
       "20   Everyday Decision Making  Everyday Decision Making           0.205172   \n",
       "21   Everyday Decision Making                      Work           0.079132   \n",
       "22   Everyday Decision Making  Everyday Decision Making           0.190553   \n",
       "23   Everyday Decision Making                      Work           0.092205   \n",
       "24   Everyday Decision Making                     Other           0.356075   \n",
       "25   Everyday Decision Making         Emotional Turmoil           0.349354   \n",
       "26   Everyday Decision Making                      Work           0.036910   \n",
       "27   Everyday Decision Making                      Work           0.249936   \n",
       "28      Exhaustion or Fatigue                     Other           0.202490   \n",
       "29      Exhaustion or Fatigue              Family Issue           0.119056   \n",
       "30      Exhaustion or Fatigue   Health or Physical Pain           0.058024   \n",
       "31      Exhaustion or Fatigue   Health or Physical Pain           0.178274   \n",
       "32      Exhaustion or Fatigue   Health or Physical Pain           0.041975   \n",
       "33      Exhaustion or Fatigue   Health or Physical Pain           0.063352   \n",
       "34      Exhaustion or Fatigue   Health or Physical Pain           0.035899   \n",
       "35      Exhaustion or Fatigue         Emotional Turmoil           0.401088   \n",
       "36      Exhaustion or Fatigue                     Other           0.295753   \n",
       "37      Exhaustion or Fatigue                      Work           0.121397   \n",
       "38      Exhaustion or Fatigue   Health or Physical Pain           0.039262   \n",
       "39      Exhaustion or Fatigue   Health or Physical Pain           0.137139   \n",
       "40      Exhaustion or Fatigue   Health or Physical Pain           0.031173   \n",
       "41      Exhaustion or Fatigue   Health or Physical Pain           0.031588   \n",
       "42      Exhaustion or Fatigue                     Other           0.190030   \n",
       "43               Family Issue                     Other           0.211053   \n",
       "44               Family Issue              Family Issue           0.242068   \n",
       "45               Family Issue                     Other           0.179715   \n",
       "46               Family Issue                    School           0.033786   \n",
       "47               Family Issue              Family Issue           0.065052   \n",
       "48               Family Issue              Family Issue           0.213309   \n",
       "49               Family Issue              Family Issue           0.056288   \n",
       "50               Family Issue              Family Issue           0.092906   \n",
       "51               Family Issue                     Other           0.208909   \n",
       "52               Family Issue              Family Issue           0.182441   \n",
       "53          Financial Problem         Emotional Turmoil           0.517182   \n",
       "54          Financial Problem         Financial Problem           0.025026   \n",
       "55          Financial Problem         Financial Problem           0.009920   \n",
       "56          Financial Problem         Financial Problem           0.009422   \n",
       "57          Financial Problem         Financial Problem           0.008510   \n",
       "58          Financial Problem         Financial Problem           0.010538   \n",
       "59          Financial Problem         Financial Problem           0.008425   \n",
       "60          Financial Problem         Financial Problem           0.009012   \n",
       "61          Financial Problem                     Other           0.197961   \n",
       "62          Financial Problem         Financial Problem           0.050808   \n",
       "63          Financial Problem         Emotional Turmoil           0.386205   \n",
       "64    Health or Physical Pain   Health or Physical Pain           0.029156   \n",
       "65    Health or Physical Pain                     Other           0.255919   \n",
       "66    Health or Physical Pain   Health or Physical Pain           0.056303   \n",
       "67    Health or Physical Pain   Health or Physical Pain           0.036949   \n",
       "68    Health or Physical Pain   Health or Physical Pain           0.028442   \n",
       "69    Health or Physical Pain         Emotional Turmoil           0.283044   \n",
       "70    Health or Physical Pain   Health or Physical Pain           0.029276   \n",
       "71    Health or Physical Pain   Health or Physical Pain           0.020496   \n",
       "72    Health or Physical Pain   Health or Physical Pain           0.025124   \n",
       "73    Health or Physical Pain   Health or Physical Pain           0.032850   \n",
       "74    Health or Physical Pain   Health or Physical Pain           0.034289   \n",
       "75    Health or Physical Pain   Health or Physical Pain           0.029716   \n",
       "76        Holiday or Vacation                     Other           0.253421   \n",
       "77        Holiday or Vacation         Emotional Turmoil           0.353855   \n",
       "78        Holiday or Vacation                     Other           0.295249   \n",
       "79        Holiday or Vacation                     Other           0.345694   \n",
       "80             Not a stressor                     Other           0.299746   \n",
       "81             not a stressor                     Other           0.207450   \n",
       "82             Not a stressor                     Other           0.285692   \n",
       "83             Not a stressor                     Other           0.226064   \n",
       "84             not a stressor                     Other           0.191673   \n",
       "85             Not a stressor         Emotional Turmoil           0.392845   \n",
       "86             Not a stressor                     Other           0.216754   \n",
       "87             not a stressor                     Other           0.227538   \n",
       "88             Not a stressor                     Other           0.138578   \n",
       "89             Not a stressor                     Other           0.179122   \n",
       "90             Not a stressor         Emotional Turmoil           0.434578   \n",
       "91             Not a stressor                     Other           0.206192   \n",
       "92             Not a stressor         Emotional Turmoil           0.516560   \n",
       "93             Not a stressor         Emotional Turmoil           0.423472   \n",
       "94             Not a stressor                      Work           0.142690   \n",
       "95             Not a stressor                     Other           0.242405   \n",
       "96             Not a stressor                     Other           0.279132   \n",
       "97             Not a stressor                     Other           0.275176   \n",
       "98             Not a stressor                     Other           0.193104   \n",
       "99             Not a stressor         Emotional Turmoil           0.352691   \n",
       "100            Not a stressor         Emotional Turmoil           0.235437   \n",
       "101            Not a stressor                     Other           0.267093   \n",
       "102            Not a stressor                     Other           0.219199   \n",
       "103            Not a stressor                     Other           0.168953   \n",
       "104            Not a stressor                     Other           0.174384   \n",
       "105            Not a stressor         Emotional Turmoil           0.308682   \n",
       "106            Not a stressor                     Other           0.283917   \n",
       "107            Not a stressor                     Other           0.312312   \n",
       "108            Not a stressor                     Other           0.273852   \n",
       "109            Not a stressor                     Other           0.315753   \n",
       "110            Not a stressor                     Other           0.359158   \n",
       "111            Not a stressor                     Other           0.147557   \n",
       "112            Not a stressor         Emotional Turmoil           0.445394   \n",
       "113            Not a stressor                     Other           0.259504   \n",
       "114            Not a stressor                     Other           0.246520   \n",
       "115            Not a stressor                     Other           0.182319   \n",
       "116            Not a stressor         Emotional Turmoil           0.377541   \n",
       "117                     Other         Emotional Turmoil           0.437374   \n",
       "118                     Other   Health or Physical Pain           0.043182   \n",
       "119                     Other         Emotional Turmoil           0.357893   \n",
       "120                     Other                     Other           0.265008   \n",
       "121                     Other                     Other           0.233442   \n",
       "122                     Other         Emotional Turmoil           0.442428   \n",
       "123                    School                     Other           0.141300   \n",
       "124                    School                    School           0.009724   \n",
       "125                    School                    School           0.011891   \n",
       "126                    School                    School           0.011631   \n",
       "127                    School                    School           0.010757   \n",
       "128                    School                    School           0.007833   \n",
       "129                    School                    School           0.044367   \n",
       "130                    School                    School           0.008029   \n",
       "131                    School                    School           0.007777   \n",
       "132                    School                    School           0.012933   \n",
       "133                    School                    School           0.008914   \n",
       "134                    School                    School           0.007797   \n",
       "135                    School                    School           0.011794   \n",
       "136                    School                    School           0.007773   \n",
       "137      Social Relationships         Emotional Turmoil           0.354241   \n",
       "138      Social Relationships         Emotional Turmoil           0.377218   \n",
       "139      Social Relationships         Emotional Turmoil           0.556576   \n",
       "140      Social Relationships         Emotional Turmoil           0.297464   \n",
       "141      Social Relationships         Emotional Turmoil           0.515191   \n",
       "142      Social Relationships         Emotional Turmoil           0.497035   \n",
       "143      Social Relationships         Emotional Turmoil           0.468951   \n",
       "144      Social Relationships         Emotional Turmoil           0.304691   \n",
       "145      Social Relationships         Emotional Turmoil           0.482251   \n",
       "146      Social Relationships         Emotional Turmoil           0.528645   \n",
       "147      Social Relationships         Emotional Turmoil           0.461837   \n",
       "148      Social Relationships              Family Issue           0.186613   \n",
       "149      Social Relationships         Emotional Turmoil           0.551142   \n",
       "150      Social Relationships         Emotional Turmoil           0.542439   \n",
       "151      Social Relationships         Emotional Turmoil           0.392930   \n",
       "152      Social Relationships                     Other           0.203673   \n",
       "153      Social Relationships         Emotional Turmoil           0.334703   \n",
       "154                      Work                    School           0.049491   \n",
       "155                      Work                      Work           0.082707   \n",
       "156                      Work                     Other           0.272469   \n",
       "157                      Work                      Work           0.084532   \n",
       "158                      Work                     Other           0.293934   \n",
       "159                      Work         Emotional Turmoil           0.259100   \n",
       "160                      Work                      Work           0.017985   \n",
       "161                      Work                      Work           0.019783   \n",
       "162                      Work                      Work           0.020377   \n",
       "163                      Work                      Work           0.059250   \n",
       "164                      Work                      Work           0.077163   \n",
       "165                      Work                      Work           0.093027   \n",
       "166                      Work                      Work           0.035304   \n",
       "167                      Work                      Work           0.150139   \n",
       "168                      Work                      Work           0.053029   \n",
       "169                      Work                      Work           0.091109   \n",
       "170                      Work                      Work           0.030224   \n",
       "171                      Work                      Work           0.096139   \n",
       "172                      Work                      Work           0.038832   \n",
       "173                      Work         Emotional Turmoil           0.389261   \n",
       "174                      Work                      Work           0.128557   \n",
       "175                      Work                      Work           0.018452   \n",
       "176                      Work                    School           0.007035   \n",
       "177                      Work                      Work           0.077208   \n",
       "178                      Work                      Work           0.096772   \n",
       "179                      Work   Health or Physical Pain           0.059350   \n",
       "180                      Work                      Work           0.075889   \n",
       "181                      Work         Emotional Turmoil           0.372316   \n",
       "182                      Work   Health or Physical Pain           0.056024   \n",
       "183                      Work                      Work           0.018128   \n",
       "184                      Work                      Work           0.018144   \n",
       "185                      Work                      Work           0.058041   \n",
       "186                      Work                      Work           0.019399   \n",
       "187                      Work                      Work           0.032546   \n",
       "188                      Work                      Work           0.039990   \n",
       "189                      Work                      Work           0.090744   \n",
       "190                      Work                      Work           0.041792   \n",
       "191                      Work                      Work           0.016532   \n",
       "192                      Work         Emotional Turmoil           0.427416   \n",
       "193                      Work                      Work           0.044131   \n",
       "194                      Work                      Work           0.027371   \n",
       "195                      Work         Emotional Turmoil           0.307085   \n",
       "196                      Work                      Work           0.059382   \n",
       "197                      Work                      Work           0.331540   \n",
       "198                      Work                      Work           0.232568   \n",
       "199                      Work                      Work           0.033983   \n",
       "200                      Work                      Work           0.026606   \n",
       "201                      Work                      Work           0.089200   \n",
       "202                      Work                      Work           0.020195   \n",
       "203                      Work                      Work           0.021684   \n",
       "204                      Work                      Work           0.026679   \n",
       "205                      Work                      Work           0.023499   \n",
       "206                      Work                      Work           0.024781   \n",
       "207                      Work                      Work           0.028741   \n",
       "208                      Work                      Work           0.021117   \n",
       "209                      Work                      Work           0.027096   \n",
       "210                      Work                      Work           0.024471   \n",
       "211                      Work                      Work           0.025239   \n",
       "212                      Work                      Work           0.014312   \n",
       "\n",
       "     Family Issue  Financial Problem  Health or Physical Pain    School  \\\n",
       "0        0.131272           0.037065                 0.024605  0.011082   \n",
       "1        0.009934           0.009344                 0.035849  0.007175   \n",
       "2        0.038938           0.253883                 0.064022  0.018223   \n",
       "3        0.036717           0.248963                 0.064104  0.017233   \n",
       "4        0.051423           0.253456                 0.037280  0.035590   \n",
       "5        0.019284           0.084309                 0.041000  0.034181   \n",
       "6        0.056697           0.018208                 0.028406  0.010985   \n",
       "7        0.791616           0.016444                 0.032129  0.015836   \n",
       "8        0.204847           0.013058                 0.131414  0.020372   \n",
       "9        0.327069           0.021340                 0.031170  0.010475   \n",
       "10       0.070322           0.012663                 0.135440  0.007630   \n",
       "11       0.467472           0.028416                 0.029902  0.010161   \n",
       "12       0.110602           0.010170                 0.067229  0.017738   \n",
       "13       0.815213           0.019799                 0.046664  0.013719   \n",
       "14       0.209976           0.026434                 0.319680  0.027890   \n",
       "15       0.031602           0.013235                 0.037992  0.005724   \n",
       "16       0.037049           0.022486                 0.032961  0.054222   \n",
       "17       0.108848           0.053120                 0.074567  0.013027   \n",
       "18       0.044396           0.030921                 0.018345  0.020142   \n",
       "19       0.070032           0.100548                 0.035263  0.023081   \n",
       "20       0.019821           0.008197                 0.159588  0.016633   \n",
       "21       0.016393           0.013741                 0.094123  0.021490   \n",
       "22       0.050934           0.071781                 0.039722  0.014880   \n",
       "23       0.009397           0.010364                 0.054696  0.006251   \n",
       "24       0.038093           0.013575                 0.021765  0.023164   \n",
       "25       0.069370           0.039633                 0.095081  0.007383   \n",
       "26       0.007998           0.028287                 0.017734  0.005087   \n",
       "27       0.022147           0.008363                 0.148191  0.008409   \n",
       "28       0.210114           0.051360                 0.075127  0.014349   \n",
       "29       0.636632           0.016684                 0.085268  0.014667   \n",
       "30       0.032542           0.020723                 0.691073  0.008854   \n",
       "31       0.053459           0.017349                 0.294197  0.019703   \n",
       "32       0.028633           0.012868                 0.791058  0.010940   \n",
       "33       0.042657           0.014582                 0.702021  0.012733   \n",
       "34       0.027466           0.019906                 0.736208  0.019885   \n",
       "35       0.034217           0.009378                 0.078160  0.009534   \n",
       "36       0.027132           0.019188                 0.028337  0.022197   \n",
       "37       0.028082           0.017270                 0.205698  0.010293   \n",
       "38       0.053755           0.042323                 0.668768  0.021885   \n",
       "39       0.054020           0.019390                 0.443063  0.016079   \n",
       "40       0.021364           0.020180                 0.798238  0.013562   \n",
       "41       0.026033           0.025656                 0.786594  0.014991   \n",
       "42       0.090063           0.023597                 0.078159  0.014673   \n",
       "43       0.318767           0.024469                 0.019714  0.014512   \n",
       "44       0.257771           0.042501                 0.043194  0.011065   \n",
       "45       0.276331           0.021944                 0.022728  0.068056   \n",
       "46       0.063441           0.015687                 0.010947  0.760511   \n",
       "47       0.790106           0.012878                 0.038969  0.013083   \n",
       "48       0.345849           0.018795                 0.036752  0.031366   \n",
       "49       0.716328           0.023280                 0.131798  0.013694   \n",
       "50       0.686295           0.021892                 0.025528  0.018915   \n",
       "51       0.225998           0.017754                 0.031746  0.033591   \n",
       "52       0.474291           0.013393                 0.034322  0.020420   \n",
       "53       0.079396           0.025910                 0.035935  0.014037   \n",
       "54       0.006405           0.669082                 0.015352  0.007639   \n",
       "55       0.008177           0.936642                 0.005920  0.004116   \n",
       "56       0.006910           0.939976                 0.005296  0.003733   \n",
       "57       0.007049           0.934590                 0.005185  0.004143   \n",
       "58       0.009293           0.926941                 0.007100  0.004551   \n",
       "59       0.008914           0.936453                 0.005014  0.003737   \n",
       "60       0.008572           0.928045                 0.005353  0.004960   \n",
       "61       0.131518           0.040244                 0.113731  0.012034   \n",
       "62       0.208504           0.607718                 0.016120  0.011015   \n",
       "63       0.103802           0.011300                 0.013814  0.022692   \n",
       "64       0.044192           0.031876                 0.758010  0.015560   \n",
       "65       0.075537           0.021403                 0.090524  0.009056   \n",
       "66       0.187099           0.084172                 0.538745  0.031450   \n",
       "67       0.022164           0.015740                 0.799314  0.013253   \n",
       "68       0.058327           0.042147                 0.748179  0.018681   \n",
       "69       0.160071           0.016724                 0.154281  0.009053   \n",
       "70       0.022545           0.015625                 0.781086  0.016655   \n",
       "71       0.042164           0.035012                 0.784341  0.016918   \n",
       "72       0.029898           0.028898                 0.791618  0.014066   \n",
       "73       0.043996           0.025081                 0.746727  0.011715   \n",
       "74       0.036048           0.033758                 0.786135  0.016453   \n",
       "75       0.033713           0.026460                 0.817859  0.010357   \n",
       "76       0.025293           0.050949                 0.052615  0.012317   \n",
       "77       0.037880           0.014802                 0.024645  0.015991   \n",
       "78       0.035309           0.012752                 0.034323  0.022547   \n",
       "79       0.038160           0.025710                 0.020703  0.013081   \n",
       "80       0.074834           0.030691                 0.023938  0.015727   \n",
       "81       0.165756           0.054735                 0.031359  0.018484   \n",
       "82       0.078980           0.067881                 0.023915  0.012921   \n",
       "83       0.034079           0.047382                 0.042498  0.018315   \n",
       "84       0.069443           0.061538                 0.023175  0.031889   \n",
       "85       0.048814           0.024624                 0.020310  0.016511   \n",
       "86       0.157518           0.026208                 0.018777  0.021993   \n",
       "87       0.062925           0.049685                 0.040379  0.025577   \n",
       "88       0.299311           0.035576                 0.038413  0.018367   \n",
       "89       0.195925           0.036802                 0.042186  0.011482   \n",
       "90       0.043201           0.025018                 0.039792  0.014125   \n",
       "91       0.048826           0.033819                 0.086434  0.033140   \n",
       "92       0.076500           0.010378                 0.026398  0.034417   \n",
       "93       0.085832           0.007953                 0.025006  0.060636   \n",
       "94       0.020912           0.010230                 0.129535  0.011140   \n",
       "95       0.074202           0.022610                 0.080685  0.014295   \n",
       "96       0.065695           0.031465                 0.031439  0.016907   \n",
       "97       0.050172           0.027373                 0.031933  0.017083   \n",
       "98       0.026519           0.036072                 0.040675  0.014566   \n",
       "99       0.039021           0.028651                 0.050904  0.008550   \n",
       "100      0.077535           0.046257                 0.125748  0.012236   \n",
       "101      0.103901           0.035929                 0.062118  0.016983   \n",
       "102      0.066810           0.069761                 0.033414  0.010689   \n",
       "103      0.060737           0.064932                 0.032185  0.011784   \n",
       "104      0.064956           0.065153                 0.031821  0.011324   \n",
       "105      0.118074           0.020242                 0.059858  0.010790   \n",
       "106      0.069874           0.037609                 0.024290  0.008777   \n",
       "107      0.067977           0.033222                 0.027504  0.014808   \n",
       "108      0.069828           0.028972                 0.026515  0.014626   \n",
       "109      0.075181           0.032865                 0.025713  0.016143   \n",
       "110      0.061106           0.019078                 0.017060  0.016114   \n",
       "111      0.078214           0.212503                 0.051181  0.016838   \n",
       "112      0.054562           0.014127                 0.043328  0.012144   \n",
       "113      0.026297           0.027804                 0.022253  0.017054   \n",
       "114      0.065486           0.022897                 0.022835  0.019813   \n",
       "115      0.058126           0.136946                 0.040362  0.020654   \n",
       "116      0.029784           0.016894                 0.027125  0.016770   \n",
       "117      0.083998           0.024164                 0.044899  0.009113   \n",
       "118      0.074195           0.045646                 0.676103  0.017637   \n",
       "119      0.229186           0.010774                 0.035926  0.008308   \n",
       "120      0.074245           0.047090                 0.030277  0.007829   \n",
       "121      0.057924           0.074255                 0.038342  0.025966   \n",
       "122      0.059792           0.011634                 0.022978  0.030867   \n",
       "123      0.021613           0.015230                 0.043924  0.185749   \n",
       "124      0.011692           0.011205                 0.010464  0.871778   \n",
       "125      0.010665           0.012945                 0.010149  0.854618   \n",
       "126      0.010601           0.010081                 0.010627  0.864023   \n",
       "127      0.009112           0.007519                 0.008105  0.893756   \n",
       "128      0.011474           0.012398                 0.010600  0.888300   \n",
       "129      0.011639           0.008544                 0.037021  0.584700   \n",
       "130      0.009357           0.008590                 0.009351  0.900569   \n",
       "131      0.010435           0.011419                 0.009290  0.885035   \n",
       "132      0.021416           0.013186                 0.034791  0.782850   \n",
       "133      0.018567           0.012912                 0.012873  0.871873   \n",
       "134      0.015104           0.009565                 0.010069  0.886454   \n",
       "135      0.019304           0.017097                 0.013400  0.836436   \n",
       "136      0.008919           0.009964                 0.009244  0.898121   \n",
       "137      0.027726           0.010819                 0.033834  0.006935   \n",
       "138      0.044297           0.016150                 0.073271  0.011831   \n",
       "139      0.059072           0.006311                 0.035769  0.010959   \n",
       "140      0.264579           0.049498                 0.046292  0.011163   \n",
       "141      0.058249           0.011475                 0.042105  0.014397   \n",
       "142      0.074433           0.012794                 0.086543  0.011166   \n",
       "143      0.037088           0.022587                 0.012303  0.024149   \n",
       "144      0.278222           0.009645                 0.020953  0.020607   \n",
       "145      0.059656           0.008931                 0.020226  0.018377   \n",
       "146      0.043289           0.008245                 0.022209  0.018078   \n",
       "147      0.111667           0.008737                 0.018156  0.025762   \n",
       "148      0.569102           0.023746                 0.020751  0.011007   \n",
       "149      0.042413           0.010041                 0.019105  0.013364   \n",
       "150      0.050117           0.011555                 0.019546  0.018151   \n",
       "151      0.033528           0.017127                 0.068711  0.009175   \n",
       "152      0.036440           0.007509                 0.028039  0.171671   \n",
       "153      0.025705           0.024523                 0.025226  0.007838   \n",
       "154      0.015599           0.010681                 0.018523  0.683566   \n",
       "155      0.013134           0.013809                 0.021743  0.012953   \n",
       "156      0.046620           0.058824                 0.040727  0.013514   \n",
       "157      0.014251           0.008755                 0.045984  0.155815   \n",
       "158      0.020770           0.010484                 0.036552  0.030853   \n",
       "159      0.019527           0.013036                 0.048872  0.041295   \n",
       "160      0.005343           0.009602                 0.016909  0.003000   \n",
       "161      0.006003           0.010084                 0.039591  0.003074   \n",
       "162      0.008595           0.009956                 0.018765  0.004407   \n",
       "163      0.007382           0.006569                 0.026582  0.004693   \n",
       "164      0.007891           0.005907                 0.029366  0.004227   \n",
       "165      0.008667           0.005284                 0.028434  0.007921   \n",
       "166      0.007527           0.013746                 0.043166  0.003199   \n",
       "167      0.014448           0.010350                 0.070875  0.008110   \n",
       "168      0.012036           0.009813                 0.101306  0.006689   \n",
       "169      0.014801           0.012263                 0.118404  0.011862   \n",
       "170      0.008159           0.006976                 0.014013  0.002851   \n",
       "171      0.007611           0.005990                 0.032727  0.009133   \n",
       "172      0.006892           0.006105                 0.045246  0.004798   \n",
       "173      0.021830           0.007226                 0.029221  0.035563   \n",
       "174      0.014378           0.007933                 0.049658  0.129995   \n",
       "175      0.004544           0.020356                 0.020003  0.002769   \n",
       "176      0.009748           0.007493                 0.012003  0.892042   \n",
       "177      0.012030           0.012436                 0.170740  0.006796   \n",
       "178      0.017222           0.025932                 0.023052  0.018554   \n",
       "179      0.025497           0.018033                 0.634048  0.010877   \n",
       "180      0.012870           0.008562                 0.060267  0.015255   \n",
       "181      0.045452           0.008948                 0.129473  0.008648   \n",
       "182      0.020888           0.014399                 0.432385  0.010290   \n",
       "183      0.006457           0.009648                 0.028007  0.004106   \n",
       "184      0.004534           0.036303                 0.008390  0.003305   \n",
       "185      0.025774           0.202086                 0.017595  0.004018   \n",
       "186      0.005975           0.072615                 0.011839  0.004226   \n",
       "187      0.006236           0.006354                 0.014323  0.011905   \n",
       "188      0.007607           0.014330                 0.021348  0.005191   \n",
       "189      0.011339           0.005577                 0.024483  0.005501   \n",
       "190      0.005973           0.005221                 0.028378  0.004324   \n",
       "191      0.004171           0.010302                 0.016821  0.003086   \n",
       "192      0.049692           0.013474                 0.014910  0.012891   \n",
       "193      0.011855           0.029625                 0.020946  0.008061   \n",
       "194      0.008772           0.008287                 0.020881  0.003564   \n",
       "195      0.030651           0.007346                 0.028791  0.021995   \n",
       "196      0.008645           0.007959                 0.034413  0.004734   \n",
       "197      0.026390           0.010480                 0.032648  0.010641   \n",
       "198      0.022770           0.017552                 0.031813  0.038242   \n",
       "199      0.008247           0.010540                 0.043976  0.005446   \n",
       "200      0.005756           0.010170                 0.034523  0.004991   \n",
       "201      0.011827           0.008456                 0.026811  0.006146   \n",
       "202      0.005068           0.006307                 0.020738  0.004269   \n",
       "203      0.005296           0.005554                 0.018802  0.003428   \n",
       "204      0.005038           0.006989                 0.020244  0.004456   \n",
       "205      0.004806           0.005378                 0.020086  0.004850   \n",
       "206      0.004251           0.005528                 0.020337  0.005161   \n",
       "207      0.005525           0.008207                 0.020155  0.004895   \n",
       "208      0.005198           0.006023                 0.018915  0.004911   \n",
       "209      0.005257           0.007762                 0.021830  0.004224   \n",
       "210      0.005306           0.007856                 0.019171  0.005338   \n",
       "211      0.005902           0.005787                 0.020415  0.003914   \n",
       "212      0.004382           0.009911                 0.013316  0.004172   \n",
       "\n",
       "         Work     Other  Everyday Decision Making  Social Relationships  \n",
       "0    0.020390  0.424965                  0.049417              0.028825  \n",
       "1    0.594073  0.096021                  0.088991              0.031971  \n",
       "2    0.273120  0.161729                  0.074507              0.017333  \n",
       "3    0.291003  0.160127                  0.070948              0.019256  \n",
       "4    0.184224  0.247975                  0.071764              0.019146  \n",
       "5    0.392411  0.186211                  0.079066              0.019606  \n",
       "6    0.041920  0.480069                  0.046924              0.029155  \n",
       "7    0.004235  0.027521                  0.012297              0.029527  \n",
       "8    0.029646  0.072775                  0.058624              0.078217  \n",
       "9    0.009327  0.174159                  0.035103              0.053316  \n",
       "10   0.037494  0.177692                  0.083679              0.067262  \n",
       "11   0.008853  0.147460                  0.025773              0.055098  \n",
       "12   0.012037  0.065885                  0.057661              0.171175  \n",
       "13   0.004842  0.018624                  0.008569              0.024236  \n",
       "14   0.033051  0.063378                  0.084736              0.070941  \n",
       "15   0.073009  0.131067                  0.107053              0.084121  \n",
       "16   0.100771  0.484172                  0.036776              0.026260  \n",
       "17   0.045919  0.083285                  0.332266              0.146631  \n",
       "18   0.037182  0.491784                  0.073255              0.029931  \n",
       "19   0.061127  0.378822                  0.080486              0.027171  \n",
       "20   0.209505  0.061307                  0.232639              0.087137  \n",
       "21   0.476028  0.050552                  0.218139              0.030402  \n",
       "22   0.092896  0.188055                  0.296426              0.054753  \n",
       "23   0.684142  0.052805                  0.072308              0.017831  \n",
       "24   0.031585  0.413135                  0.068654              0.033953  \n",
       "25   0.070157  0.192159                  0.141523              0.035341  \n",
       "26   0.785069  0.070899                  0.038645              0.009372  \n",
       "27   0.300098  0.057273                  0.150407              0.055176  \n",
       "28   0.020181  0.344087                  0.051877              0.030416  \n",
       "29   0.007359  0.037725                  0.029495              0.053113  \n",
       "30   0.028424  0.031385                  0.094226              0.034750  \n",
       "31   0.063086  0.244411                  0.108011              0.021510  \n",
       "32   0.024281  0.026377                  0.049586              0.014281  \n",
       "33   0.038160  0.054568                  0.054822              0.017105  \n",
       "34   0.046400  0.026737                  0.068493              0.019007  \n",
       "35   0.081997  0.227508                  0.110833              0.047285  \n",
       "36   0.055370  0.446928                  0.077155              0.027940  \n",
       "37   0.310858  0.155270                  0.124837              0.026296  \n",
       "38   0.056846  0.050654                  0.049098              0.017410  \n",
       "39   0.052199  0.152791                  0.090701              0.034618  \n",
       "40   0.030282  0.021204                  0.046795              0.017201  \n",
       "41   0.025860  0.021945                  0.049247              0.018086  \n",
       "42   0.045976  0.464219                  0.065892              0.027392  \n",
       "43   0.012286  0.348150                  0.021310              0.029739  \n",
       "44   0.019837  0.134475                  0.100263              0.148827  \n",
       "45   0.022844  0.349583                  0.032652              0.026148  \n",
       "46   0.007362  0.048095                  0.029638              0.030534  \n",
       "47   0.007033  0.044952                  0.011688              0.016239  \n",
       "48   0.035129  0.252241                  0.019533              0.047027  \n",
       "49   0.006302  0.019977                  0.013656              0.018678  \n",
       "50   0.011361  0.104481                  0.009707              0.028915  \n",
       "51   0.041331  0.364312                  0.024536              0.051825  \n",
       "52   0.014489  0.210936                  0.015755              0.033953  \n",
       "53   0.017577  0.061760                  0.093192              0.155011  \n",
       "54   0.212361  0.033748                  0.025792              0.004595  \n",
       "55   0.007839  0.015318                  0.008222              0.003846  \n",
       "56   0.008983  0.013751                  0.008453              0.003476  \n",
       "57   0.009466  0.017046                  0.009449              0.004563  \n",
       "58   0.010766  0.016615                  0.009416              0.004780  \n",
       "59   0.008710  0.016669                  0.008425              0.003653  \n",
       "60   0.009666  0.019147                  0.011241              0.004004  \n",
       "61   0.056480  0.233340                  0.149601              0.065091  \n",
       "62   0.011756  0.059660                  0.017981              0.016438  \n",
       "63   0.017314  0.374554                  0.026238              0.044080  \n",
       "64   0.042089  0.030850                  0.038574              0.009693  \n",
       "65   0.065951  0.309950                  0.138570              0.033091  \n",
       "66   0.018351  0.034073                  0.029534              0.020272  \n",
       "67   0.027264  0.020142                  0.047933              0.017242  \n",
       "68   0.023448  0.020961                  0.041367              0.018447  \n",
       "69   0.022767  0.155680                  0.131865              0.066515  \n",
       "70   0.040059  0.015477                  0.061806              0.017470  \n",
       "71   0.025005  0.023881                  0.038948              0.013235  \n",
       "72   0.036796  0.023348                  0.037220              0.013032  \n",
       "73   0.035182  0.027325                  0.059299              0.017827  \n",
       "74   0.024764  0.020501                  0.035483              0.012570  \n",
       "75   0.019123  0.018752                  0.030676              0.013344  \n",
       "76   0.073614  0.396352                  0.107640              0.027799  \n",
       "77   0.082272  0.323279                  0.108002              0.039274  \n",
       "78   0.089159  0.393680                  0.090411              0.026570  \n",
       "79   0.056535  0.417230                  0.051065              0.031824  \n",
       "80   0.033935  0.442415                  0.048290              0.030424  \n",
       "81   0.016488  0.436756                  0.039152              0.029819  \n",
       "82   0.101232  0.353045                  0.044754              0.031580  \n",
       "83   0.198179  0.301130                  0.096433              0.035921  \n",
       "84   0.105638  0.434548                  0.055453              0.026643  \n",
       "85   0.046589  0.365874                  0.046750              0.037682  \n",
       "86   0.017076  0.484367                  0.028644              0.028665  \n",
       "87   0.059732  0.453135                  0.060078              0.020951  \n",
       "88   0.013148  0.406274                  0.027704              0.022630  \n",
       "89   0.029584  0.435915                  0.046064              0.022920  \n",
       "90   0.034469  0.236177                  0.097065              0.075575  \n",
       "91   0.099810  0.410647                  0.058959              0.022173  \n",
       "92   0.023990  0.179360                  0.039497              0.092900  \n",
       "93   0.020330  0.284869                  0.032572              0.059331  \n",
       "94   0.388590  0.101829                  0.171098              0.023976  \n",
       "95   0.101477  0.332752                  0.107062              0.024512  \n",
       "96   0.052718  0.443612                  0.057160              0.021872  \n",
       "97   0.051985  0.476519                  0.046619              0.023140  \n",
       "98   0.193159  0.363291                  0.106439              0.026174  \n",
       "99   0.063606  0.264294                  0.139449              0.052835  \n",
       "100  0.046370  0.170622                  0.217550              0.068246  \n",
       "101  0.104998  0.286954                  0.094563              0.027462  \n",
       "102  0.053304  0.449551                  0.073622              0.023651  \n",
       "103  0.045505  0.512615                  0.076320              0.026969  \n",
       "104  0.051442  0.493029                  0.080141              0.027749  \n",
       "105  0.036305  0.295080                  0.092339              0.058631  \n",
       "106  0.036543  0.444409                  0.063916              0.030667  \n",
       "107  0.047770  0.382830                  0.076015              0.037562  \n",
       "108  0.042231  0.433384                  0.076383              0.034209  \n",
       "109  0.050399  0.381456                  0.069622              0.032868  \n",
       "110  0.015411  0.424499                  0.047043              0.040531  \n",
       "111  0.063052  0.302805                  0.101724              0.026125  \n",
       "112  0.025610  0.061680                  0.083592              0.259562  \n",
       "113  0.221584  0.350037                  0.047003              0.028463  \n",
       "114  0.046356  0.523670                  0.034308              0.018116  \n",
       "115  0.073935  0.401252                  0.065800              0.020606  \n",
       "116  0.124357  0.304012                  0.060725              0.042794  \n",
       "117  0.038005  0.288841                  0.037663              0.035942  \n",
       "118  0.025898  0.031964                  0.063837              0.021537  \n",
       "119  0.026058  0.238447                  0.048109              0.045300  \n",
       "120  0.054669  0.271206                  0.197668              0.052008  \n",
       "121  0.104406  0.396499                  0.044013              0.025154  \n",
       "122  0.014341  0.288430                  0.046583              0.082947  \n",
       "123  0.194420  0.244852                  0.126174              0.026738  \n",
       "124  0.016638  0.022722                  0.031039              0.014738  \n",
       "125  0.018036  0.041307                  0.025279              0.015110  \n",
       "126  0.017238  0.034442                  0.027822              0.013535  \n",
       "127  0.011536  0.024278                  0.023987              0.010951  \n",
       "128  0.011518  0.020201                  0.025120              0.012556  \n",
       "129  0.116290  0.088749                  0.085911              0.022777  \n",
       "130  0.013363  0.020821                  0.017706              0.012215  \n",
       "131  0.014960  0.021799                  0.025648              0.013636  \n",
       "132  0.018168  0.033774                  0.064120              0.018762  \n",
       "133  0.008579  0.023848                  0.027705              0.014729  \n",
       "134  0.007364  0.024358                  0.026555              0.012734  \n",
       "135  0.011226  0.034097                  0.039856              0.016791  \n",
       "136  0.009971  0.021925                  0.022224              0.011858  \n",
       "137  0.333175  0.094397                  0.059494              0.079380  \n",
       "138  0.054218  0.279552                  0.084769              0.058693  \n",
       "139  0.024536  0.096334                  0.064192              0.146251  \n",
       "140  0.011874  0.172191                  0.070138              0.076802  \n",
       "141  0.023445  0.042340                  0.077809              0.214991  \n",
       "142  0.029785  0.172394                  0.065778              0.050070  \n",
       "143  0.030603  0.289627                  0.042390              0.072301  \n",
       "144  0.011905  0.253613                  0.030805              0.069561  \n",
       "145  0.016351  0.069418                  0.047008              0.277782  \n",
       "146  0.030079  0.148790                  0.047209              0.153456  \n",
       "147  0.011690  0.056693                  0.036948              0.268511  \n",
       "148  0.008752  0.116139                  0.016034              0.047856  \n",
       "149  0.021348  0.173383                  0.039911              0.129293  \n",
       "150  0.019497  0.189036                  0.038561              0.111098  \n",
       "151  0.056823  0.259067                  0.095110              0.067531  \n",
       "152  0.106125  0.259611                  0.112063              0.074868  \n",
       "153  0.236277  0.197454                  0.092630              0.055644  \n",
       "154  0.098179  0.062531                  0.036187              0.025242  \n",
       "155  0.661513  0.123821                  0.050010              0.020311  \n",
       "156  0.125860  0.360949                  0.061931              0.019106  \n",
       "157  0.344797  0.217898                  0.100931              0.027038  \n",
       "158  0.161045  0.350401                  0.060292              0.035669  \n",
       "159  0.218288  0.258184                  0.105383              0.036316  \n",
       "160  0.891846  0.022057                  0.026481              0.006777  \n",
       "161  0.863455  0.016479                  0.033295              0.008236  \n",
       "162  0.870311  0.024024                  0.035255              0.008309  \n",
       "163  0.768308  0.061357                  0.054049              0.011810  \n",
       "164  0.744315  0.072652                  0.043903              0.014576  \n",
       "165  0.698952  0.084452                  0.058129              0.015135  \n",
       "166  0.791264  0.026451                  0.065406              0.013938  \n",
       "167  0.495647  0.079187                  0.141600              0.029644  \n",
       "168  0.670291  0.030586                  0.095505              0.020744  \n",
       "169  0.490688  0.038888                  0.177376              0.044608  \n",
       "170  0.879250  0.026475                  0.024546              0.007504  \n",
       "171  0.702375  0.056654                  0.069815              0.019555  \n",
       "172  0.807166  0.027016                  0.052170              0.011774  \n",
       "173  0.142058  0.187049                  0.101607              0.086183  \n",
       "174  0.371002  0.156955                  0.106556              0.034966  \n",
       "175  0.874969  0.024700                  0.027333              0.006874  \n",
       "176  0.011618  0.015214                  0.031028              0.013819  \n",
       "177  0.506826  0.037348                  0.146925              0.029691  \n",
       "178  0.547820  0.206484                  0.049891              0.014274  \n",
       "179  0.087284  0.029602                  0.110429              0.024880  \n",
       "180  0.626490  0.054339                  0.124856              0.021472  \n",
       "181  0.066404  0.115881                  0.164097              0.088780  \n",
       "182  0.341926  0.029027                  0.078418              0.016644  \n",
       "183  0.876751  0.021265                  0.028351              0.007286  \n",
       "184  0.865837  0.034481                  0.025056              0.003949  \n",
       "185  0.565420  0.074418                  0.042188              0.010461  \n",
       "186  0.820300  0.024182                  0.035464              0.006000  \n",
       "187  0.850375  0.050987                  0.021019              0.006256  \n",
       "188  0.788371  0.074518                  0.042165              0.006481  \n",
       "189  0.718971  0.072852                  0.054816              0.015717  \n",
       "190  0.817671  0.040412                  0.046506              0.009725  \n",
       "191  0.908236  0.017468                  0.018937              0.004448  \n",
       "192  0.077874  0.311539                  0.043775              0.048429  \n",
       "193  0.731753  0.104956                  0.039944              0.008730  \n",
       "194  0.861962  0.028658                  0.030586              0.009919  \n",
       "195  0.305537  0.142360                  0.082000              0.074235  \n",
       "196  0.762696  0.050226                  0.059279              0.012667  \n",
       "197  0.355800  0.103610                  0.054618              0.074273  \n",
       "198  0.325562  0.246795                  0.053124              0.031575  \n",
       "199  0.786630  0.033923                  0.066966              0.010291  \n",
       "200  0.849039  0.022240                  0.037996              0.008679  \n",
       "201  0.663647  0.100922                  0.077787              0.015204  \n",
       "202  0.862380  0.030931                  0.042935              0.007176  \n",
       "203  0.864829  0.037016                  0.035689              0.007701  \n",
       "204  0.859141  0.029878                  0.039548              0.008027  \n",
       "205  0.865173  0.035006                  0.033654              0.007548  \n",
       "206  0.853833  0.043388                  0.035189              0.007531  \n",
       "207  0.844426  0.036564                  0.044879              0.006608  \n",
       "208  0.859799  0.035450                  0.041112              0.007474  \n",
       "209  0.842046  0.042640                  0.041102              0.008043  \n",
       "210  0.859363  0.030598                  0.039510              0.008388  \n",
       "211  0.859144  0.031111                  0.041705              0.006783  \n",
       "212  0.904145  0.020147                  0.025037              0.004578  "
      ]
     },
     "execution_count": 118,
     "metadata": {},
     "output_type": "execute_result"
    }
   ],
   "source": []
  },
  {
   "cell_type": "code",
   "execution_count": null,
   "metadata": {},
   "outputs": [],
   "source": []
  }
 ],
 "metadata": {
  "accelerator": "GPU",
  "colab": {
   "collapsed_sections": [],
   "name": "Predicting Movie Reviews with BERT on TF Hub.ipynb",
   "provenance": []
  },
  "kernelspec": {
   "display_name": "Python TensorFlow 1.15",
   "language": "python",
   "name": "tf1.1_py36"
  },
  "language_info": {
   "codemirror_mode": {
    "name": "ipython",
    "version": 3
   },
   "file_extension": ".py",
   "mimetype": "text/x-python",
   "name": "python",
   "nbconvert_exporter": "python",
   "pygments_lexer": "ipython3",
   "version": "3.6.10"
  }
 },
 "nbformat": 4,
 "nbformat_minor": 1
}
