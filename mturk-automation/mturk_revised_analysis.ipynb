{
 "cells": [
  {
   "cell_type": "markdown",
   "metadata": {},
   "source": [
    "### Run the cell below and wait until the orange pop-up box appears. After it appears, select the Master CSV file that has the source information. "
   ]
  },
  {
   "cell_type": "code",
   "execution_count": 1,
   "metadata": {},
   "outputs": [
    {
     "data": {
      "application/vnd.jupyter.widget-view+json": {
       "model_id": "0ec681759bac4a7fbd66390b17549462",
       "version_major": 2,
       "version_minor": 0
      },
      "text/plain": [
       "SelectFilesButton(description='Select Files', icon='square-o', style=ButtonStyle(button_color='orange'))"
      ]
     },
     "metadata": {},
     "output_type": "display_data"
    }
   ],
   "source": [
    "import pandas as pd\n",
    "import numpy as np\n",
    "import math\n",
    "import statistics\n",
    "import operator\n",
    "import matplotlib.pyplot as plt\n",
    "import traitlets\n",
    "from IPython.display import display\n",
    "from ipywidgets import widgets\n",
    "from tkinter import Tk, filedialog\n",
    "\n",
    "\n",
    "class SelectFilesButton(widgets.Button):\n",
    "    \"\"\"A file widget that leverages tkinter.filedialog.\"\"\"\n",
    "\n",
    "    def __init__(self, *args, **kwargs):\n",
    "        \"\"\"Initialize the SelectFilesButton class.\"\"\"\n",
    "        super(SelectFilesButton, self).__init__(*args, **kwargs)\n",
    "        # Add the selected_files trait\n",
    "        self.add_traits(files=traitlets.traitlets.List())\n",
    "        # Create the button.\n",
    "        self.description = \"Select Files\"\n",
    "        self.icon = \"square-o\"\n",
    "        self.style.button_color = \"orange\"\n",
    "        # Set on click behavior.\n",
    "        self.on_click(self.select_files)\n",
    "\n",
    "    @staticmethod\n",
    "    def select_files(b):\n",
    "        \"\"\"Generate instance of tkinter.filedialog.\n",
    "        Parameters\n",
    "        ----------\n",
    "        b : obj:\n",
    "            An instance of ipywidgets.widgets.Button\n",
    "        \"\"\"\n",
    "        # Create Tk root\n",
    "        root = Tk()\n",
    "        # Hide the main window\n",
    "        root.withdraw()\n",
    "        # Raise the root to the top of all windows.\n",
    "        root.call('wm', 'attributes', '.', '-topmost', True)\n",
    "        # List of selected fileswill be set to b.value\n",
    "        b.files = filedialog.askopenfilename(multiple=True)\n",
    "\n",
    "        b.description = \"Files Selected\"\n",
    "        b.icon = \"check-square-o\"\n",
    "        b.style.button_color = \"lightgreen\"\n",
    "my_button_1 = SelectFilesButton()\n",
    "my_button_1\n"
   ]
  },
  {
   "cell_type": "markdown",
   "metadata": {},
   "source": [
    "### After selecting your file, make sure not to run the cell above again or you will have to reselect your file."
   ]
  },
  {
   "cell_type": "code",
   "execution_count": 14,
   "metadata": {},
   "outputs": [],
   "source": [
    "def label_weights(list_labels, weight_dict):\n",
    "    \"\"\"\n",
    "    This function takes in a list of labels and a dictionary to store the information \n",
    "    regarding the weights each label had on this particular sentence. When I use the word weight,\n",
    "    I essentially mean the percent of the turker votes out of all turker votes for that particular label\n",
    "    for this particular sentence. The weight dictionary has keys for each label and a list of the weight\n",
    "    that label key had for each sentence. This function returns an updated weight dictionary with\n",
    "    and the label that got the most votes.\n",
    "    \"\"\"\n",
    "    label_dictionary = {} # create a dictionary to count the label votes\n",
    "    label_total = 0 # count the total number of labels being considered (weighted)\n",
    "    vote_total = 0 # count total noumber votes (unweighted)\n",
    "    \n",
    "    for label in list_labels:\n",
    "        \n",
    "        # This handles the case for when the turker picks two labels instead of one \n",
    "        if '|' in label:\n",
    "            label1, label2 = label.split('|') # '|' Separates the two label choices\n",
    "            if label1 not in label_dictionary:\n",
    "                label_dictionary[label1] = 0\n",
    "            label_dictionary[label1] += 1\n",
    "            label_total += 1\n",
    "            vote_total +=1\n",
    "            if label2 not in label_dictionary:\n",
    "                label_dictionary[label2] = 0\n",
    "            label_dictionary[label2] += 1\n",
    "            label_total += 1\n",
    "            vote_total += 1\n",
    "            continue\n",
    "        \n",
    "        # handles the normal case that the turker didn't pick multiple labels\n",
    "        # however, add 2 because we expect 10 votes in total\n",
    "        if label not in label_dictionary:\n",
    "            label_dictionary[label] = 0\n",
    "        label_dictionary[label] += 2\n",
    "        label_total += 2\n",
    "        vote_total += 1\n",
    "    max_key = max(label_dictionary, key=label_dictionary.get)\n",
    "    \n",
    "    # Add the weights of weights (essentially percent of label population) for each label to the weight dictionary\n",
    "    for label in weight_dict:\n",
    "        if label not in label_dictionary:\n",
    "            weight_dict[label].append(0)\n",
    "        else:\n",
    "            weight_dict[label].append(round(label_dictionary[label]/label_total, 2))\n",
    "    return max_key, weight_dict, vote_total"
   ]
  },
  {
   "cell_type": "code",
   "execution_count": 15,
   "metadata": {},
   "outputs": [],
   "source": [
    "def mturk_analysis(file_path, list_turker_counts):\n",
    "    \"\"\" \n",
    "Takes in a path to a selected file and a list of numbers representing different mechanical turk votes\n",
    "and saves a figure of subplots for the distributions of label asssignments for each number of turkers in the list. \n",
    "It also saves csv files for the analysis of the label assignments (i.e. std, avg, etc.), a csv of all the label\n",
    "and sentence assignments for the entire set, and a csv of label and sentence assignments that are to be used \n",
    "for the training and testing sets. All of this is saved to the file path where the input file was selected from.\n",
    "    \"\"\"\n",
    "    \n",
    "    data_set = pd.read_csv(file_path[0]).loc[ : , [\"Input.text\",\"Answer.Label\", \"Answer.Severity\", \"Answer.isStress\"]]\n",
    "    plt.figure(figsize=(10, 20)) # setting size of plots\n",
    "    iteration = 1\n",
    "    for number in list_turker_counts:\n",
    "        mturk_maindf = mturk_auto(data_set, number)\n",
    "        \n",
    "        # initializing the dataframe with source info to merge with main dataframe\n",
    "        df_sources = pd.read_csv(my_button_1.files[0]).loc[: , ['Answer.Stressor', 'Source']] \n",
    "        df_sources = df_sources.rename(columns={'Answer.Stressor':'Input.text'})\n",
    "        \n",
    "        # merging the two dataframes\n",
    "        df_source_included=pd.merge(left=mturk_maindf, right=df_sources, how='left', left_on='Input.text', right_on='Input.text')\n",
    "        \n",
    "        #create plot\n",
    "        make_plot(mturk_maindf, len(list_turker_counts), iteration, number)\n",
    "        \n",
    "        #saving all files to computer\n",
    "        pd.DataFrame(df_source_included).to_csv(\"Main turk aggregation of \" + str(number) + \" turkers\" + \".csv\", index=False, header=True)\n",
    "        iteration += 1\n",
    "    plt.savefig(\"INSERT FIG NAME HERE \" + \"turkers\" + \".png\", bbox_inches='tight')"
   ]
  },
  {
   "cell_type": "code",
   "execution_count": 16,
   "metadata": {},
   "outputs": [],
   "source": [
    "def sorted_dict(unsorted_dictionary):\n",
    "    \"\"\"\n",
    "    This function takes in a counts dictionary, a dictionary with labels as keys\n",
    "    and counts for the number of times that labels has been assigned to a sentence as values,\n",
    "    and returns the same dictionary, but the keys are in alphabetical order. \n",
    "    The motivation for this is to create plots with a uniform labeling system on the y-axis. \n",
    "    \"\"\"\n",
    "    sort_vector = []\n",
    "    sorted_dict = {}\n",
    "    for label in unsorted_dictionary:\n",
    "        sort_vector.append(label)\n",
    "    sort_vector.sort()\n",
    "    for key in sort_vector:\n",
    "        sorted_dict[key] = unsorted_dictionary[key]\n",
    "    return sorted_dict"
   ]
  },
  {
   "cell_type": "code",
   "execution_count": 17,
   "metadata": {},
   "outputs": [],
   "source": [
    "def make_plot(main_dataframe, total_count, number, turker_num):\n",
    "    \"\"\"\n",
    "    This function takes in a dictionary in the form of the dictionary returned from labelsent_dict,\n",
    "    the number of turker votes being considered (i.e. [1, 3, 5] would equal 3 for total_count),\n",
    "    the amount of times this iteration of this function has been called, and the current turker vote\n",
    "    amount that is being considered. This returns an annotated figure of subplots that allow for the user\n",
    "    to observe the differences in label assignment with different numbers of turkers.\n",
    "    \"\"\"\n",
    "    # The plot can only be made from values (or \"counts\") so this counts the number of label assignments per label\n",
    "    counts_dict = make_count_dict(main_dataframe)\n",
    "    sort_dict = sorted_dict(counts_dict)\n",
    "    \n",
    "    # creates the values for the plot\n",
    "    keys = list(sort_dict.keys())\n",
    "    values = list(sort_dict.values())\n",
    "    \n",
    "    # Creates the subplot at certain region in figure\n",
    "    plt.subplot(total_count, 1, number)\n",
    "    plt.title(\"Plot for \" + str(turker_num) + \" turkers\") # helps differentiate each subplot \n",
    "    plt.barh(keys, values)\n",
    "    \n",
    "    # plots the values of the bars on the plot\n",
    "    for index, value in enumerate(values):\n",
    "        plt.text(value, index, str(value))"
   ]
  },
  {
   "cell_type": "code",
   "execution_count": 18,
   "metadata": {},
   "outputs": [],
   "source": [
    "def make_count_dict(main_dataframe):\n",
    "    \"\"\"\n",
    "    Takes in a dictionary of the form that is returned from the labelsent_dict function\n",
    "    and returns a dictionary that has the keys as labels and counts of the number of times\n",
    "    that label has been assigned as the values.\n",
    "    \"\"\"\n",
    "    counts_of_labels = {}\n",
    "    for label in main_dataframe['labels'].tolist():\n",
    "        if label not in counts_of_labels:\n",
    "            counts_of_labels[label] = 0\n",
    "        counts_of_labels[label] += 1\n",
    "    return counts_of_labels"
   ]
  },
  {
   "cell_type": "code",
   "execution_count": 19,
   "metadata": {},
   "outputs": [],
   "source": [
    "def make_dictionary(dataframe):\n",
    "    \"\"\"\n",
    "    This function takes in the dataframe that is generated from the csv file\n",
    "    and creates a dictionary containing all the labels to initialize the label weight dictionary\n",
    "    that is going to hold the weight that label had on each sentence. \n",
    "    This dictionary has labels as the key and a list of weight as the value. \n",
    "    \"\"\"\n",
    "    \n",
    "    label_weight_dict = {} # initialize dictionary\n",
    "    \n",
    "    # handles the case where turker only voted with one label\n",
    "    for label in dataframe['Answer.Label']:\n",
    "        if '|' not in label:\n",
    "            if label not in label_weight_dict:\n",
    "                label_weight_dict[label] = []\n",
    "     \n",
    "    # separetely handles the case for when turker has two label votes\n",
    "    for label in dataframe['Answer.Label']:\n",
    "        if '|' in label:\n",
    "            label1, label2 = label.split('|')\n",
    "            if label1 not in label_weight_dict:\n",
    "                label_weight_dict[label] = []\n",
    "            if label2 not in label_weight_dict:\n",
    "                label_weight_dict[label] = []\n",
    "                \n",
    "    return label_weight_dict"
   ]
  },
  {
   "cell_type": "code",
   "execution_count": 20,
   "metadata": {},
   "outputs": [],
   "source": [
    "def sentence_occurrence_count(data_frame):\n",
    "    \"\"\"\n",
    "    This takes in a dataframe that was produced from reading in the csv file that was selected\n",
    "    and returns the number of sentence repetitions per sentence. \n",
    "    Essentially how many turker votes per sentence there are.\n",
    "    \"\"\"\n",
    "    data_frame = data_frame['Input.text'].tolist() # creates list of sentences in the csv file\n",
    "    count = 0\n",
    "    last = data_frame[0]\n",
    "    while data_frame[count] == last:\n",
    "        count += 1\n",
    "    return count"
   ]
  },
  {
   "cell_type": "code",
   "execution_count": 21,
   "metadata": {},
   "outputs": [],
   "source": [
    "def is_stressor(list_stressor):\n",
    "    \"\"\"\n",
    "    this takes in a list of stressor votes (i.e. is a stressor OR not a stressor) and returns 'True' \n",
    "    if the amount of votes for if it were a stressor were the majority and False otherwise. \n",
    "    It also returns the percent of the set population that elected the winning vote.\n",
    "    \"\"\"\n",
    "    stressor_conf = 0\n",
    "    for stressor in list_stressor:\n",
    "        stressor_conf += stressor\n",
    "    value = stressor_conf/len(list_stressor)\n",
    "    \n",
    "    # making sure that half is rounded up to 1\n",
    "    if value == 0.5:\n",
    "        value = 1\n",
    "        \n",
    "    if round(value) == 1: # if its greater than 50% it will round to 1, else 0\n",
    "        return 'True', (stressor_conf/len(list_stressor)) * 100\n",
    "    return 'False', (round((len(list_stressor) - stressor_conf)/len(list_stressor), 2)) * 100    "
   ]
  },
  {
   "cell_type": "code",
   "execution_count": 25,
   "metadata": {},
   "outputs": [],
   "source": [
    "def mturk_auto(data_frame, number):\n",
    "    \"\"\" \n",
    "    This Function takes in a DataFrame and a number of turker votes being considered at this iteration.\n",
    "    Returns a dictionary that contains the label assignments with corresponding sentences, and analysis\n",
    "    of severity of each stressor. \n",
    "    \n",
    "    \"\"\"\n",
    "    # These are the things we want in our dictionary\n",
    "    mturk_dict = {'Input.text':[] , 'is_stressor': [], 'is_stressor_conf': [], 'labels': [], 'avg_severity':[], 'median_severity':[], 'SD_severity': [], 'Votes': []}\n",
    "    label_weight_dict = make_dictionary(data_frame) # initializing weight dictionary\n",
    "    \n",
    "    # make everyrthing a list so it is easier to iterate over\n",
    "    label_list = data_frame[\"Answer.Label\"].tolist()\n",
    "    severity_list = data_frame[\"Answer.Severity\"].tolist()\n",
    "    stressor_list = data_frame[\"Answer.isStress\"].tolist()\n",
    "    input_text = data_frame[\"Input.text\"].tolist()\n",
    "    \n",
    "    sentence_count = sentence_occurrence_count(data_frame) # How many turkers vote on a single sentence\n",
    "    count = len(label_list)/sentence_count # How many groups of sentences are there to loop through\n",
    "    \n",
    "    last = 0\n",
    "    for i in range(int(count)):\n",
    "        place = last\n",
    "        \n",
    "        #Create sublists to determine the majority vote\n",
    "        label_set = label_list[place: place + number]\n",
    "        stressor_set = stressor_list[place : place + number]\n",
    "        severity_set = severity_list[place : place + number]\n",
    "        \n",
    "        #Get the label and stressor assignment and update weight dictionary\n",
    "        max_key, label_weight_dict, num_votes = label_weights(label_set, label_weight_dict)\n",
    "        boolean, confidence = is_stressor(stressor_set)\n",
    "        \n",
    "        #Append all variables to the main dictionary\n",
    "        mturk_dict['labels'].append(max_key)\n",
    "        if boolean == 'True':\n",
    "            mturk_dict['is_stressor'].append(1)\n",
    "        else: \n",
    "            mturk_dict['is_stressor'].append(0)\n",
    "        mturk_dict['is_stressor_conf'].append(str(confidence) + '%') # To make it look better on csv or excel\n",
    "        mturk_dict['avg_severity'].append(np.average(severity_set))\n",
    "        mturk_dict['median_severity'].append(np.median(severity_set))\n",
    "        mturk_dict['SD_severity'].append(round(np.std(severity_set), 2)) # rounding to two integers looks better\n",
    "        mturk_dict['Input.text'].append(input_text[place])\n",
    "        mturk_dict['Votes'].append(num_votes)\n",
    "        last = place + sentence_count\n",
    "        \n",
    "    mturk_dict = {**mturk_dict , **label_weight_dict} # combining the dicitonarys to form one big dictionary\n",
    "    return pd.DataFrame(mturk_dict) # converting to dataframe"
   ]
  },
  {
   "cell_type": "markdown",
   "metadata": {},
   "source": [
    "## After running the cell below, wait until the orange button appears and select the csv file that is the mturk data that you want to be analyzed. "
   ]
  },
  {
   "cell_type": "code",
   "execution_count": 23,
   "metadata": {},
   "outputs": [
    {
     "data": {
      "application/vnd.jupyter.widget-view+json": {
       "model_id": "e4bcc3128d80470bbff349dd3b84c39f",
       "version_major": 2,
       "version_minor": 0
      },
      "text/plain": [
       "SelectFilesButton(description='Select Files', icon='square-o', style=ButtonStyle(button_color='orange'))"
      ]
     },
     "metadata": {},
     "output_type": "display_data"
    }
   ],
   "source": [
    "import pandas as pd\n",
    "import numpy as np\n",
    "import math\n",
    "import statistics\n",
    "import operator\n",
    "import matplotlib.pyplot as plt\n",
    "import traitlets\n",
    "from IPython.display import display\n",
    "from ipywidgets import widgets\n",
    "from tkinter import Tk, filedialog\n",
    "\n",
    "\n",
    "class SelectFilesButton(widgets.Button):\n",
    "    \"\"\"A file widget that leverages tkinter.filedialog.\"\"\"\n",
    "\n",
    "    def __init__(self, *args, **kwargs):\n",
    "        \"\"\"Initialize the SelectFilesButton class.\"\"\"\n",
    "        super(SelectFilesButton, self).__init__(*args, **kwargs)\n",
    "        # Add the selected_files trait\n",
    "        self.add_traits(files=traitlets.traitlets.List())\n",
    "        # Create the button.\n",
    "        self.description = \"Select Files\"\n",
    "        self.icon = \"square-o\"\n",
    "        self.style.button_color = \"orange\"\n",
    "        # Set on click behavior.\n",
    "        self.on_click(self.select_files)\n",
    "\n",
    "    @staticmethod\n",
    "    def select_files(b):\n",
    "        \"\"\"Generate instance of tkinter.filedialog.\n",
    "        Parameters\n",
    "        ----------\n",
    "        b : obj:\n",
    "            An instance of ipywidgets.widgets.Button\n",
    "        \"\"\"\n",
    "        # Create Tk root\n",
    "        root = Tk()\n",
    "        # Hide the main window\n",
    "        root.withdraw()\n",
    "        # Raise the root to the top of all windows.\n",
    "        root.call('wm', 'attributes', '.', '-topmost', True)\n",
    "        # List of selected fileswill be set to b.value\n",
    "        b.files = filedialog.askopenfilename(multiple=True)\n",
    "\n",
    "        b.description = \"Files Selected\"\n",
    "        b.icon = \"check-square-o\"\n",
    "        b.style.button_color = \"lightgreen\"\n",
    "my_button = SelectFilesButton()\n",
    "my_button\n"
   ]
  },
  {
   "cell_type": "code",
   "execution_count": 26,
   "metadata": {
    "scrolled": false
   },
   "outputs": [
    {
     "data": {
      "image/png": "[encoded data removed]",
      "text/plain": [
       "<Figure size 720x1440 with 2 Axes>"
      ]
     },
     "metadata": {
      "needs_background": "light"
     },
     "output_type": "display_data"
    }
   ],
   "source": [
    "# Make sure that the second argument parameter is a list. Even if it is one number, put it in brackets. \n",
    "mturk_analysis(my_button.files, [3, 5])"
   ]
  },
  {
   "cell_type": "code",
   "execution_count": null,
   "metadata": {},
   "outputs": [],
   "source": []
  }
 ],
 "metadata": {
  "kernelspec": {
   "display_name": "Python 3",
   "language": "python",
   "name": "python3"
  },
  "language_info": {
   "codemirror_mode": {
    "name": "ipython",
    "version": 3
   },
   "file_extension": ".py",
   "mimetype": "text/x-python",
   "name": "python",
   "nbconvert_exporter": "python",
   "pygments_lexer": "ipython3",
   "version": "3.7.4"
  }
 },
 "nbformat": 4,
 "nbformat_minor": 2
}
